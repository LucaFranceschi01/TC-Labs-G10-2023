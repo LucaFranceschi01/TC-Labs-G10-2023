{
  "cells": [
    {
      "cell_type": "markdown",
      "metadata": {
        "id": "4gHPcg59zjr6"
      },
      "source": [
        "Theory of Computation 2023 - Guillermo Zeller\n",
        "\n",
        "Deliverable Automatos in Phyton\n",
        "\n",
        "Please indicate the full names and NIAs of the team members as well as the team number\n",
        "\n",
        "TEAM:\n",
        "\n",
        "MEMBERS:\n",
        "\n"
      ]
    },
    {
      "cell_type": "code",
      "execution_count": null,
      "metadata": {
        "id": "jGcudUS8K4Jl",
        "colab": {
          "base_uri": "https://localhost:8080/"
        },
        "outputId": "99fe8f3b-d0be-4b3f-bb50-cc334fb15dd8"
      },
      "outputs": [
        {
          "output_type": "stream",
          "name": "stdout",
          "text": [
            "Drive already mounted at /content/drive; to attempt to forcibly remount, call drive.mount(\"/content/drive\", force_remount=True).\n"
          ]
        }
      ],
      "source": [
        "# If using Colaborate then allow Google to use your data files\n",
        "from google.colab import drive\n",
        "drive.mount('/content/drive')"
      ]
    },
    {
      "cell_type": "code",
      "execution_count": null,
      "metadata": {
        "id": "YA1x6iboL-8o",
        "colab": {
          "base_uri": "https://localhost:8080/"
        },
        "outputId": "0a19c12d-e244-4cfe-d999-a243d4d1c1b3"
      },
      "outputs": [
        {
          "output_type": "stream",
          "name": "stdout",
          "text": [
            "/content/drive/Shareddrives/ToC-2023/DELIVS/DELIV-1\n"
          ]
        }
      ],
      "source": [
        "#cd to the directory in drive you will use (change to your shared folder)\n",
        "%cd /content/drive/Shareddrives/ToC-2023/DELIVS/DELIV-1"
      ]
    },
    {
      "cell_type": "code",
      "source": [
        "# install the automaton library\n",
        "%pip install automata-lib"
      ],
      "metadata": {
        "id": "tj4LJyXSrJ2T"
      },
      "execution_count": null,
      "outputs": []
    },
    {
      "cell_type": "code",
      "source": [
        "# install some visual components for automatas\n",
        "%pip install graphviz\n",
        "%pip install colormath\n",
        "%pip install jupyterlab\n",
        "%pip install visual-automata"
      ],
      "metadata": {
        "id": "qjVaFCq9q-iD"
      },
      "execution_count": null,
      "outputs": []
    },
    {
      "cell_type": "code",
      "source": [
        "%pip install coloraide\n",
        "!apt install libgraphviz-dev\n",
        "%pip install pygraphviz"
      ],
      "metadata": {
        "id": "kMl-VKnluaOU"
      },
      "execution_count": null,
      "outputs": []
    },
    {
      "cell_type": "markdown",
      "source": [
        "(1) TODO: what are the 5 tuple that defines an NFA?"
      ],
      "metadata": {
        "id": "8OdNDTkcsc-p"
      }
    },
    {
      "cell_type": "markdown",
      "metadata": {
        "id": "pWqVvz4x0t_G"
      },
      "source": [
        "Understanding Automatas in Python\n",
        "\n",
        "We are going to use an existing library in Python that enables the possibility to implement automatas in an easy way.\n",
        "The code and documentation of the library can be found on the following git repository https://github.com/caleb531/automata\n",
        "\n",
        "In order to implement an automata we have to be able to define the 5-tuple in the code.\n",
        "\n",
        "The Finite Automaton is an abstract class with several subclasses depending on the type of Automata:\n",
        "Finite Automaton (FA)\n",
        "    Deterministic (DFA)\n",
        "    Non-Deterministic (NFA)\n",
        "    Generalized Non-Deterministic (GNFA)\n",
        "\n",
        "Every DFA has the following (required) properties:\n",
        "\n",
        "    states: a set of the DFA's valid states, each of which must be represented as a string\n",
        "    input_symbols: a set of the DFA's valid input symbols, each of which must also be represented as a string\n",
        "    transitions: a dict consisting of the transitions for each state. Each key is a state name and each value is a dict which maps a symbol (the key) to a state (the value).\n",
        "    initial_state: the name of the initial state for this DFA\n",
        "    final_states: a set of final states for this DFA\n",
        "    allow_partial"
      ]
    },
    {
      "cell_type": "markdown",
      "metadata": {
        "id": "aJJ7aRl-kiDF"
      },
      "source": [
        "(2) TODO: Explain what is the behavious of the flag \"allow_partial\"\n"
      ]
    },
    {
      "cell_type": "markdown",
      "source": [
        "According to the documentation:\n",
        " \"by default, each DFA state must have a transition to every input symbol; if allow_partial is True, you can disable this characteristic (such that any DFA state can have fewer transitions than input symbols). Note that a DFA must always have every state represented in the transition dictionary, even if there are no transitions on input symbols leaving a state (dictionary is left empty in that case).\""
      ],
      "metadata": {
        "id": "XO-Z7mP0EbQp"
      }
    },
    {
      "cell_type": "code",
      "execution_count": null,
      "metadata": {
        "id": "yDJhBF85JwUs"
      },
      "outputs": [],
      "source": [
        "# (3)  TODO: Run the following code comment what the program is doing\n",
        "\n",
        "\n",
        "from automata.fa.dfa import DFA\n",
        "from visual_automata.fa.dfa import VisualDFA\n",
        "\n",
        "my_dfa = DFA(\n",
        "    states={'q0', 'q1'},\n",
        "    input_symbols={'0', '1'},\n",
        "    transitions={\n",
        "        'q0': {'0': 'q0', '1': 'q1'},\n",
        "        'q1': {'0': 'q0', '1': 'q1'},\n",
        "    },\n",
        "    initial_state='q0',\n",
        "    final_states={'q1'}\n",
        ")\n",
        "\n",
        "if my_dfa.accepts_input(input('Please enter your input: ')):\n",
        "    print('Accepted')\n",
        "else:\n",
        "    print('Rejected')\n",
        "\n"
      ]
    },
    {
      "cell_type": "markdown",
      "source": [
        "(3) TODO: list three inputs that are accepted by the DFA?"
      ],
      "metadata": {
        "id": "bisXMBKjpwDg"
      }
    },
    {
      "cell_type": "markdown",
      "source": [
        "\n",
        "(4) TODO: list three  inputs that are rejected by the DFA?"
      ],
      "metadata": {
        "id": "2CPBfDaRp0bK"
      }
    },
    {
      "cell_type": "code",
      "source": [
        "\n",
        "#The library allows to implement DFA but also Non deterministic finite automatas.\n",
        "\n",
        "# NFA which matches strings beginning with 'a', ending with 'a', and containing\n",
        "# no consecutive 'b's\n",
        "\n",
        "from automata.fa.nfa import NFA\n",
        "\n",
        "my_nfa = NFA(\n",
        "    states={'q0', 'q1', 'q2'},\n",
        "    input_symbols={'a', 'b'},\n",
        "    transitions={\n",
        "        'q0': {'a': {'q1'}},\n",
        "        # Use '' as the key name for empty string (lambda/epsilon) transitions\n",
        "        'q1': {'a': {'q1'}, '': {'q2'}},\n",
        "        'q2': {'b': {'q0'}}\n",
        "    },\n",
        "    initial_state='q0',\n",
        "    final_states={'q1'}\n",
        "\n",
        ")\n",
        "if my_nfa.accepts_input(input('Please enter your input: ')):\n",
        "    print('Accepted')\n",
        "else:\n",
        "    print('Rejected')\n"
      ],
      "metadata": {
        "id": "-bhPP248plWX"
      },
      "execution_count": null,
      "outputs": []
    },
    {
      "cell_type": "markdown",
      "source": [
        "(5) TODO: list three inputs that are accepted by the NFA?"
      ],
      "metadata": {
        "id": "VXZ_sZJOFqhJ"
      }
    },
    {
      "cell_type": "markdown",
      "source": [
        "(6) TODO: list three inputs that are rejected by the NFA?"
      ],
      "metadata": {
        "id": "vwGQUxcBFrvh"
      }
    },
    {
      "cell_type": "code",
      "source": [
        "#Using the VisualDFA class we can show the diagram for an implemented DFA. The class Visual DFA. Check the documentation of this visual library and try the following examples\n",
        "#https://pypi.org/project/visual-automata/\n",
        "\n",
        "new_dfa = VisualDFA(\n",
        "    states={'q0', 'q1', 'q2'},\n",
        "    input_symbols={'0', '1'},\n",
        "    transitions={\n",
        "        'q0': {'0': 'q0', '1': 'q1'},\n",
        "        'q1': {'0': 'q0', '1': 'q2'},\n",
        "        'q2': {'0': 'q2', '1': 'q1'}\n",
        "    },\n",
        "    initial_state='q0',\n",
        "    final_states={'q1'}\n",
        ")\n",
        "\n",
        "\n",
        "new_dfa.show_diagram()\n"
      ],
      "metadata": {
        "id": "Z1Ofn5azprcY"
      },
      "execution_count": null,
      "outputs": []
    },
    {
      "cell_type": "code",
      "source": [
        "#Using the show_diagram method you can display the DFA\n",
        "new_dfa.show_diagram(\"1001\")"
      ],
      "metadata": {
        "id": "Sbacqa-SQ8m6"
      },
      "execution_count": null,
      "outputs": []
    },
    {
      "cell_type": "code",
      "source": [
        "#And show the transition table\n",
        "new_dfa.table"
      ],
      "metadata": {
        "id": "ZH6YKQ1vGjZj"
      },
      "execution_count": null,
      "outputs": []
    },
    {
      "cell_type": "markdown",
      "source": [
        "(7) TODO Explain what does the previous automata. Use the following function to ilustrate some inputs\n",
        "\n",
        "\n",
        "```\n",
        "new_dfa.input_check(\"1001\")\n",
        "```\n",
        "\n",
        "\n"
      ],
      "metadata": {
        "id": "OE9ualHYGvnI"
      }
    },
    {
      "cell_type": "code",
      "source": [
        "new_dfa.input_check(\"1001\")\n"
      ],
      "metadata": {
        "id": "Ke7wB9rAPkAn"
      },
      "execution_count": null,
      "outputs": []
    },
    {
      "cell_type": "markdown",
      "source": [
        "(8) TODO Generate the minimal of the previous DFA, use the function print to see the result. How many states has the resulting DFA?\n",
        "\n",
        "\n",
        "\n"
      ],
      "metadata": {
        "id": "FGwOf-m2IagG"
      }
    },
    {
      "cell_type": "markdown",
      "source": [
        "(9) TODO Generate the complement of the DFA, use the function print to see the resulting DFA and check some values.\n"
      ],
      "metadata": {
        "id": "8a1Q1rtUKFk1"
      }
    },
    {
      "cell_type": "markdown",
      "source": [
        "(10) TODO: Implement a NFA that implement a vending machine, the machine should accept coins of 1 Euro and 50 cents, the machine has water bottles and each bottle cost 1 euro. Use the class NFA."
      ],
      "metadata": {
        "id": "sIXv5yqXH1xI"
      }
    },
    {
      "cell_type": "markdown",
      "source": [
        "(11) TODO: Implement a NFA that implement a vending machine, the machine should accept coins of 1 Euro and 50 cents, the machine has soda cans and and each can cost 1,5 euros. Use the class NFA."
      ],
      "metadata": {
        "id": "HgzZBmEY6YNa"
      }
    },
    {
      "cell_type": "markdown",
      "source": [
        "(12) TODO Evaluate the following inpunts for the NFA created\n",
        "\"11C\",\"555C\",\"15C\",\"51C\",\"111C\""
      ],
      "metadata": {
        "id": "rwyF8EObd_1h"
      }
    },
    {
      "cell_type": "markdown",
      "source": [
        "(13) TODO Use the operation union for both vendime machine NFAs, explain what is doing the resulting NFA.\n"
      ],
      "metadata": {
        "id": "XbtRaCDu-_ze"
      }
    },
    {
      "cell_type": "markdown",
      "source": [
        "(14) TODO Use the operation concatenation for both vending machine NFAs, explain what is doing the resulting NFA."
      ],
      "metadata": {
        "id": "uOCXe1W3Eps6"
      }
    },
    {
      "cell_type": "markdown",
      "source": [
        "(15) TODO Combine both NFA in order to achieve a vending machine that can dispose water and soda cans and also allow to get first a water and then a can or viceversa. You will need to use the operations concatena and union toghether."
      ],
      "metadata": {
        "id": "n4QGHMNyAieA"
      }
    },
    {
      "cell_type": "markdown",
      "source": [
        "\n",
        "\n",
        "(16) TODO Evaluate the following inpunts for the NFA created \"15C1W\",\"555C1W\",\"15C\",\"51C\",\"111C\",\"1W555C\"\n"
      ],
      "metadata": {
        "id": "XE4Vowy2Nsnx"
      }
    },
    {
      "cell_type": "markdown",
      "source": [
        "(17) TODO Convert the NFA for the vending machine into a regular expresion.\n",
        "\n",
        "\n"
      ],
      "metadata": {
        "id": "VP03-kFCDLFG"
      }
    },
    {
      "cell_type": "markdown",
      "source": [
        "(18) Create a NFA from a given RegEx and test some possible values\n",
        "\n",
        "```\n",
        "(0|1)*10(0|1)*\n",
        "```\n",
        "\n",
        "\n"
      ],
      "metadata": {
        "id": "nWFnxic4GmeV"
      }
    }
  ]
}
