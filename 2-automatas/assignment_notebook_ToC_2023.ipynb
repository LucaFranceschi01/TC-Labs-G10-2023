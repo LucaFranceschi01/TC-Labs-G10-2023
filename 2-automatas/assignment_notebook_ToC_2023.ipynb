{
  "cells": [
    {
      "cell_type": "markdown",
      "metadata": {
        "id": "4gHPcg59zjr6"
      },
      "source": [
        "Theory of Computation 2023 - Guillermo Zeller\n",
        "\n",
        "Deliverable Automatos in Phyton\n",
        "\n",
        "Please indicate the full names and NIAs of the team members as well as the team number\n",
        "\n",
        "TEAM: #10\n",
        "\n",
        "MEMBERS:\n",
        "\n",
        "\t(253885) - Luca Franceschi\n",
        "\t(253048) - Candela Álvarez López\n",
        "\t(254537) - Pau Ametller López"
      ]
    },
    {
      "cell_type": "code",
      "execution_count": null,
      "metadata": {
        "id": "jGcudUS8K4Jl",
        "colab": {
          "base_uri": "https://localhost:8080/"
        },
        "outputId": "4be05def-a7bb-4ba4-ab2d-12166bd8952d"
      },
      "outputs": [
        {
          "output_type": "stream",
          "name": "stdout",
          "text": [
            "Mounted at /content/drive\n"
          ]
        }
      ],
      "source": [
        "# If using Colaborate then allow Google to use your data files\n",
        "\n",
        "from google.colab import drive\n",
        "drive.mount('/content/drive')"
      ]
    },
    {
      "cell_type": "code",
      "execution_count": null,
      "metadata": {
        "id": "YA1x6iboL-8o",
        "colab": {
          "base_uri": "https://localhost:8080/"
        },
        "outputId": "13d47fe3-4001-4907-cddf-76648e95b962"
      },
      "outputs": [
        {
          "output_type": "stream",
          "name": "stdout",
          "text": [
            "[Errno 2] No such file or directory: '/content/drive/Shareddrives/ToC-2023/DELIVS/DELIV-1'\n",
            "/content\n"
          ]
        }
      ],
      "source": [
        "#cd to the directory in drive you will use (change to your shared folder)\n",
        "\n",
        "%cd /content/drive/Shareddrives/ToC-2023/DELIVS/DELIV-1"
      ]
    },
    {
      "cell_type": "code",
      "execution_count": null,
      "metadata": {
        "id": "tj4LJyXSrJ2T",
        "colab": {
          "base_uri": "https://localhost:8080/"
        },
        "outputId": "7fd494d3-483d-4462-c50e-9d183a4b95c9"
      },
      "outputs": [
        {
          "output_type": "stream",
          "name": "stdout",
          "text": [
            "Collecting automata-lib\n",
            "  Downloading automata_lib-8.1.0-py3-none-any.whl (106 kB)\n",
            "\u001b[2K     \u001b[90m━━━━━━━━━━━━━━━━━━━━━━━━━━━━━━━━━━━━━━━━\u001b[0m \u001b[32m106.5/106.5 kB\u001b[0m \u001b[31m2.3 MB/s\u001b[0m eta \u001b[36m0:00:00\u001b[0m\n",
            "\u001b[?25hRequirement already satisfied: networkx>=2.6.2 in /usr/local/lib/python3.10/dist-packages (from automata-lib) (3.2.1)\n",
            "Requirement already satisfied: frozendict>=2.3.4 in /usr/local/lib/python3.10/dist-packages (from automata-lib) (2.3.8)\n",
            "Requirement already satisfied: typing-extensions>=4.5.0 in /usr/local/lib/python3.10/dist-packages (from automata-lib) (4.5.0)\n",
            "Collecting cached-method>=0.1.0 (from automata-lib)\n",
            "  Downloading cached_method-0.1.0-py3-none-any.whl (4.2 kB)\n",
            "Installing collected packages: cached-method, automata-lib\n",
            "Successfully installed automata-lib-8.1.0 cached-method-0.1.0\n"
          ]
        }
      ],
      "source": [
        "#install the automaton library\n",
        "\n",
        "%pip install automata-lib"
      ]
    },
    {
      "cell_type": "code",
      "execution_count": null,
      "metadata": {
        "id": "qjVaFCq9q-iD",
        "colab": {
          "base_uri": "https://localhost:8080/",
          "height": 1000
        },
        "outputId": "bb2e5fda-fb71-4f5e-fc4f-c934532e2457"
      },
      "outputs": [
        {
          "output_type": "stream",
          "name": "stdout",
          "text": [
            "Requirement already satisfied: graphviz in /usr/local/lib/python3.10/dist-packages (0.20.1)\n",
            "Collecting colormath\n",
            "  Downloading colormath-3.0.0.tar.gz (39 kB)\n",
            "  Preparing metadata (setup.py) ... \u001b[?25l\u001b[?25hdone\n",
            "Requirement already satisfied: numpy in /usr/local/lib/python3.10/dist-packages (from colormath) (1.23.5)\n",
            "Requirement already satisfied: networkx>=2.0 in /usr/local/lib/python3.10/dist-packages (from colormath) (3.2.1)\n",
            "Building wheels for collected packages: colormath\n",
            "  Building wheel for colormath (setup.py) ... \u001b[?25l\u001b[?25hdone\n",
            "  Created wheel for colormath: filename=colormath-3.0.0-py3-none-any.whl size=39405 sha256=cbcf093d179abeed5386b2dbbb13bf5a2d9d15d0d102ed6c4cb41715989e8c1a\n",
            "  Stored in directory: /root/.cache/pip/wheels/ab/b3/4d/c0738759c25a1df01958068f162cf2a9dc3ab1da8b972cfcfc\n",
            "Successfully built colormath\n",
            "Installing collected packages: colormath\n",
            "Successfully installed colormath-3.0.0\n",
            "Collecting jupyterlab\n",
            "  Downloading jupyterlab-4.0.8-py3-none-any.whl (9.2 MB)\n",
            "\u001b[2K     \u001b[90m━━━━━━━━━━━━━━━━━━━━━━━━━━━━━━━━━━━━━━━━\u001b[0m \u001b[32m9.2/9.2 MB\u001b[0m \u001b[31m24.4 MB/s\u001b[0m eta \u001b[36m0:00:00\u001b[0m\n",
            "\u001b[?25hCollecting async-lru>=1.0.0 (from jupyterlab)\n",
            "  Downloading async_lru-2.0.4-py3-none-any.whl (6.1 kB)\n",
            "Requirement already satisfied: ipykernel in /usr/local/lib/python3.10/dist-packages (from jupyterlab) (5.5.6)\n",
            "Requirement already satisfied: jinja2>=3.0.3 in /usr/local/lib/python3.10/dist-packages (from jupyterlab) (3.1.2)\n",
            "Requirement already satisfied: jupyter-core in /usr/local/lib/python3.10/dist-packages (from jupyterlab) (5.5.0)\n",
            "Collecting jupyter-lsp>=2.0.0 (from jupyterlab)\n",
            "  Downloading jupyter_lsp-2.2.0-py3-none-any.whl (65 kB)\n",
            "\u001b[2K     \u001b[90m━━━━━━━━━━━━━━━━━━━━━━━━━━━━━━━━━━━━━━━━\u001b[0m \u001b[32m66.0/66.0 kB\u001b[0m \u001b[31m6.9 MB/s\u001b[0m eta \u001b[36m0:00:00\u001b[0m\n",
            "\u001b[?25hCollecting jupyter-server<3,>=2.4.0 (from jupyterlab)\n",
            "  Downloading jupyter_server-2.10.0-py3-none-any.whl (377 kB)\n",
            "\u001b[2K     \u001b[90m━━━━━━━━━━━━━━━━━━━━━━━━━━━━━━━━━━━━━━━━\u001b[0m \u001b[32m377.9/377.9 kB\u001b[0m \u001b[31m26.1 MB/s\u001b[0m eta \u001b[36m0:00:00\u001b[0m\n",
            "\u001b[?25hCollecting jupyterlab-server<3,>=2.19.0 (from jupyterlab)\n",
            "  Downloading jupyterlab_server-2.25.1-py3-none-any.whl (58 kB)\n",
            "\u001b[2K     \u001b[90m━━━━━━━━━━━━━━━━━━━━━━━━━━━━━━━━━━━━━━━━\u001b[0m \u001b[32m59.0/59.0 kB\u001b[0m \u001b[31m6.1 MB/s\u001b[0m eta \u001b[36m0:00:00\u001b[0m\n",
            "\u001b[?25hRequirement already satisfied: notebook-shim>=0.2 in /usr/local/lib/python3.10/dist-packages (from jupyterlab) (0.2.3)\n",
            "Requirement already satisfied: packaging in /usr/local/lib/python3.10/dist-packages (from jupyterlab) (23.2)\n",
            "Requirement already satisfied: tomli in /usr/local/lib/python3.10/dist-packages (from jupyterlab) (2.0.1)\n",
            "Requirement already satisfied: tornado>=6.2.0 in /usr/local/lib/python3.10/dist-packages (from jupyterlab) (6.3.2)\n",
            "Requirement already satisfied: traitlets in /usr/local/lib/python3.10/dist-packages (from jupyterlab) (5.7.1)\n",
            "Requirement already satisfied: typing-extensions>=4.0.0 in /usr/local/lib/python3.10/dist-packages (from async-lru>=1.0.0->jupyterlab) (4.5.0)\n",
            "Requirement already satisfied: MarkupSafe>=2.0 in /usr/local/lib/python3.10/dist-packages (from jinja2>=3.0.3->jupyterlab) (2.1.3)\n",
            "Requirement already satisfied: anyio>=3.1.0 in /usr/local/lib/python3.10/dist-packages (from jupyter-server<3,>=2.4.0->jupyterlab) (3.7.1)\n",
            "Requirement already satisfied: argon2-cffi in /usr/local/lib/python3.10/dist-packages (from jupyter-server<3,>=2.4.0->jupyterlab) (23.1.0)\n",
            "Collecting jupyter-client>=7.4.4 (from jupyter-server<3,>=2.4.0->jupyterlab)\n",
            "  Downloading jupyter_client-8.6.0-py3-none-any.whl (105 kB)\n",
            "\u001b[2K     \u001b[90m━━━━━━━━━━━━━━━━━━━━━━━━━━━━━━━━━━━━━━━━\u001b[0m \u001b[32m105.9/105.9 kB\u001b[0m \u001b[31m10.4 MB/s\u001b[0m eta \u001b[36m0:00:00\u001b[0m\n",
            "\u001b[?25hCollecting jupyter-events>=0.6.0 (from jupyter-server<3,>=2.4.0->jupyterlab)\n",
            "  Downloading jupyter_events-0.9.0-py3-none-any.whl (18 kB)\n",
            "Collecting jupyter-server-terminals (from jupyter-server<3,>=2.4.0->jupyterlab)\n",
            "  Downloading jupyter_server_terminals-0.4.4-py3-none-any.whl (13 kB)\n",
            "Requirement already satisfied: nbconvert>=6.4.4 in /usr/local/lib/python3.10/dist-packages (from jupyter-server<3,>=2.4.0->jupyterlab) (6.5.4)\n",
            "Requirement already satisfied: nbformat>=5.3.0 in /usr/local/lib/python3.10/dist-packages (from jupyter-server<3,>=2.4.0->jupyterlab) (5.9.2)\n",
            "Collecting overrides (from jupyter-server<3,>=2.4.0->jupyterlab)\n",
            "  Downloading overrides-7.4.0-py3-none-any.whl (17 kB)\n",
            "Requirement already satisfied: prometheus-client in /usr/local/lib/python3.10/dist-packages (from jupyter-server<3,>=2.4.0->jupyterlab) (0.18.0)\n",
            "Collecting pyzmq>=24 (from jupyter-server<3,>=2.4.0->jupyterlab)\n",
            "  Downloading pyzmq-25.1.1-cp310-cp310-manylinux_2_28_x86_64.whl (1.1 MB)\n",
            "\u001b[2K     \u001b[90m━━━━━━━━━━━━━━━━━━━━━━━━━━━━━━━━━━━━━━━━\u001b[0m \u001b[32m1.1/1.1 MB\u001b[0m \u001b[31m45.1 MB/s\u001b[0m eta \u001b[36m0:00:00\u001b[0m\n",
            "\u001b[?25hRequirement already satisfied: send2trash>=1.8.2 in /usr/local/lib/python3.10/dist-packages (from jupyter-server<3,>=2.4.0->jupyterlab) (1.8.2)\n",
            "Requirement already satisfied: terminado>=0.8.3 in /usr/local/lib/python3.10/dist-packages (from jupyter-server<3,>=2.4.0->jupyterlab) (0.17.1)\n",
            "Requirement already satisfied: websocket-client in /usr/local/lib/python3.10/dist-packages (from jupyter-server<3,>=2.4.0->jupyterlab) (1.6.4)\n",
            "Requirement already satisfied: platformdirs>=2.5 in /usr/local/lib/python3.10/dist-packages (from jupyter-core->jupyterlab) (3.11.0)\n",
            "Requirement already satisfied: babel>=2.10 in /usr/local/lib/python3.10/dist-packages (from jupyterlab-server<3,>=2.19.0->jupyterlab) (2.13.1)\n",
            "Collecting json5>=0.9.0 (from jupyterlab-server<3,>=2.19.0->jupyterlab)\n",
            "  Downloading json5-0.9.14-py2.py3-none-any.whl (19 kB)\n",
            "Requirement already satisfied: jsonschema>=4.18.0 in /usr/local/lib/python3.10/dist-packages (from jupyterlab-server<3,>=2.19.0->jupyterlab) (4.19.2)\n",
            "Requirement already satisfied: requests>=2.31 in /usr/local/lib/python3.10/dist-packages (from jupyterlab-server<3,>=2.19.0->jupyterlab) (2.31.0)\n",
            "Requirement already satisfied: ipython-genutils in /usr/local/lib/python3.10/dist-packages (from ipykernel->jupyterlab) (0.2.0)\n",
            "Requirement already satisfied: ipython>=5.0.0 in /usr/local/lib/python3.10/dist-packages (from ipykernel->jupyterlab) (7.34.0)\n",
            "Requirement already satisfied: idna>=2.8 in /usr/local/lib/python3.10/dist-packages (from anyio>=3.1.0->jupyter-server<3,>=2.4.0->jupyterlab) (3.4)\n",
            "Requirement already satisfied: sniffio>=1.1 in /usr/local/lib/python3.10/dist-packages (from anyio>=3.1.0->jupyter-server<3,>=2.4.0->jupyterlab) (1.3.0)\n",
            "Requirement already satisfied: exceptiongroup in /usr/local/lib/python3.10/dist-packages (from anyio>=3.1.0->jupyter-server<3,>=2.4.0->jupyterlab) (1.1.3)\n",
            "Requirement already satisfied: setuptools>=18.5 in /usr/local/lib/python3.10/dist-packages (from ipython>=5.0.0->ipykernel->jupyterlab) (67.7.2)\n",
            "Collecting jedi>=0.16 (from ipython>=5.0.0->ipykernel->jupyterlab)\n",
            "  Downloading jedi-0.19.1-py2.py3-none-any.whl (1.6 MB)\n",
            "\u001b[2K     \u001b[90m━━━━━━━━━━━━━━━━━━━━━━━━━━━━━━━━━━━━━━━━\u001b[0m \u001b[32m1.6/1.6 MB\u001b[0m \u001b[31m55.4 MB/s\u001b[0m eta \u001b[36m0:00:00\u001b[0m\n",
            "\u001b[?25hRequirement already satisfied: decorator in /usr/local/lib/python3.10/dist-packages (from ipython>=5.0.0->ipykernel->jupyterlab) (4.4.2)\n",
            "Requirement already satisfied: pickleshare in /usr/local/lib/python3.10/dist-packages (from ipython>=5.0.0->ipykernel->jupyterlab) (0.7.5)\n",
            "Requirement already satisfied: prompt-toolkit!=3.0.0,!=3.0.1,<3.1.0,>=2.0.0 in /usr/local/lib/python3.10/dist-packages (from ipython>=5.0.0->ipykernel->jupyterlab) (3.0.39)\n",
            "Requirement already satisfied: pygments in /usr/local/lib/python3.10/dist-packages (from ipython>=5.0.0->ipykernel->jupyterlab) (2.16.1)\n",
            "Requirement already satisfied: backcall in /usr/local/lib/python3.10/dist-packages (from ipython>=5.0.0->ipykernel->jupyterlab) (0.2.0)\n",
            "Requirement already satisfied: matplotlib-inline in /usr/local/lib/python3.10/dist-packages (from ipython>=5.0.0->ipykernel->jupyterlab) (0.1.6)\n",
            "Requirement already satisfied: pexpect>4.3 in /usr/local/lib/python3.10/dist-packages (from ipython>=5.0.0->ipykernel->jupyterlab) (4.8.0)\n",
            "Requirement already satisfied: attrs>=22.2.0 in /usr/local/lib/python3.10/dist-packages (from jsonschema>=4.18.0->jupyterlab-server<3,>=2.19.0->jupyterlab) (23.1.0)\n",
            "Requirement already satisfied: jsonschema-specifications>=2023.03.6 in /usr/local/lib/python3.10/dist-packages (from jsonschema>=4.18.0->jupyterlab-server<3,>=2.19.0->jupyterlab) (2023.7.1)\n",
            "Requirement already satisfied: referencing>=0.28.4 in /usr/local/lib/python3.10/dist-packages (from jsonschema>=4.18.0->jupyterlab-server<3,>=2.19.0->jupyterlab) (0.30.2)\n",
            "Requirement already satisfied: rpds-py>=0.7.1 in /usr/local/lib/python3.10/dist-packages (from jsonschema>=4.18.0->jupyterlab-server<3,>=2.19.0->jupyterlab) (0.12.0)\n",
            "Requirement already satisfied: python-dateutil>=2.8.2 in /usr/local/lib/python3.10/dist-packages (from jupyter-client>=7.4.4->jupyter-server<3,>=2.4.0->jupyterlab) (2.8.2)\n",
            "Collecting python-json-logger>=2.0.4 (from jupyter-events>=0.6.0->jupyter-server<3,>=2.4.0->jupyterlab)\n",
            "  Downloading python_json_logger-2.0.7-py3-none-any.whl (8.1 kB)\n",
            "Requirement already satisfied: pyyaml>=5.3 in /usr/local/lib/python3.10/dist-packages (from jupyter-events>=0.6.0->jupyter-server<3,>=2.4.0->jupyterlab) (6.0.1)\n",
            "Collecting rfc3339-validator (from jupyter-events>=0.6.0->jupyter-server<3,>=2.4.0->jupyterlab)\n",
            "  Downloading rfc3339_validator-0.1.4-py2.py3-none-any.whl (3.5 kB)\n",
            "Collecting rfc3986-validator>=0.1.1 (from jupyter-events>=0.6.0->jupyter-server<3,>=2.4.0->jupyterlab)\n",
            "  Downloading rfc3986_validator-0.1.1-py2.py3-none-any.whl (4.2 kB)\n",
            "Requirement already satisfied: lxml in /usr/local/lib/python3.10/dist-packages (from nbconvert>=6.4.4->jupyter-server<3,>=2.4.0->jupyterlab) (4.9.3)\n",
            "Requirement already satisfied: beautifulsoup4 in /usr/local/lib/python3.10/dist-packages (from nbconvert>=6.4.4->jupyter-server<3,>=2.4.0->jupyterlab) (4.11.2)\n",
            "Requirement already satisfied: bleach in /usr/local/lib/python3.10/dist-packages (from nbconvert>=6.4.4->jupyter-server<3,>=2.4.0->jupyterlab) (6.1.0)\n",
            "Requirement already satisfied: defusedxml in /usr/local/lib/python3.10/dist-packages (from nbconvert>=6.4.4->jupyter-server<3,>=2.4.0->jupyterlab) (0.7.1)\n",
            "Requirement already satisfied: entrypoints>=0.2.2 in /usr/local/lib/python3.10/dist-packages (from nbconvert>=6.4.4->jupyter-server<3,>=2.4.0->jupyterlab) (0.4)\n",
            "Requirement already satisfied: jupyterlab-pygments in /usr/local/lib/python3.10/dist-packages (from nbconvert>=6.4.4->jupyter-server<3,>=2.4.0->jupyterlab) (0.2.2)\n",
            "Requirement already satisfied: mistune<2,>=0.8.1 in /usr/local/lib/python3.10/dist-packages (from nbconvert>=6.4.4->jupyter-server<3,>=2.4.0->jupyterlab) (0.8.4)\n",
            "Requirement already satisfied: nbclient>=0.5.0 in /usr/local/lib/python3.10/dist-packages (from nbconvert>=6.4.4->jupyter-server<3,>=2.4.0->jupyterlab) (0.9.0)\n",
            "Requirement already satisfied: pandocfilters>=1.4.1 in /usr/local/lib/python3.10/dist-packages (from nbconvert>=6.4.4->jupyter-server<3,>=2.4.0->jupyterlab) (1.5.0)\n",
            "Requirement already satisfied: tinycss2 in /usr/local/lib/python3.10/dist-packages (from nbconvert>=6.4.4->jupyter-server<3,>=2.4.0->jupyterlab) (1.2.1)\n",
            "Requirement already satisfied: fastjsonschema in /usr/local/lib/python3.10/dist-packages (from nbformat>=5.3.0->jupyter-server<3,>=2.4.0->jupyterlab) (2.18.1)\n",
            "Requirement already satisfied: charset-normalizer<4,>=2 in /usr/local/lib/python3.10/dist-packages (from requests>=2.31->jupyterlab-server<3,>=2.19.0->jupyterlab) (3.3.2)\n",
            "Requirement already satisfied: urllib3<3,>=1.21.1 in /usr/local/lib/python3.10/dist-packages (from requests>=2.31->jupyterlab-server<3,>=2.19.0->jupyterlab) (2.0.7)\n",
            "Requirement already satisfied: certifi>=2017.4.17 in /usr/local/lib/python3.10/dist-packages (from requests>=2.31->jupyterlab-server<3,>=2.19.0->jupyterlab) (2023.7.22)\n",
            "Requirement already satisfied: ptyprocess in /usr/local/lib/python3.10/dist-packages (from terminado>=0.8.3->jupyter-server<3,>=2.4.0->jupyterlab) (0.7.0)\n",
            "Requirement already satisfied: argon2-cffi-bindings in /usr/local/lib/python3.10/dist-packages (from argon2-cffi->jupyter-server<3,>=2.4.0->jupyterlab) (21.2.0)\n",
            "Requirement already satisfied: parso<0.9.0,>=0.8.3 in /usr/local/lib/python3.10/dist-packages (from jedi>=0.16->ipython>=5.0.0->ipykernel->jupyterlab) (0.8.3)\n",
            "Collecting fqdn (from jsonschema>=4.18.0->jupyterlab-server<3,>=2.19.0->jupyterlab)\n",
            "  Downloading fqdn-1.5.1-py3-none-any.whl (9.1 kB)\n",
            "Collecting isoduration (from jsonschema>=4.18.0->jupyterlab-server<3,>=2.19.0->jupyterlab)\n",
            "  Downloading isoduration-20.11.0-py3-none-any.whl (11 kB)\n",
            "Collecting jsonpointer>1.13 (from jsonschema>=4.18.0->jupyterlab-server<3,>=2.19.0->jupyterlab)\n",
            "  Downloading jsonpointer-2.4-py2.py3-none-any.whl (7.8 kB)\n",
            "Collecting uri-template (from jsonschema>=4.18.0->jupyterlab-server<3,>=2.19.0->jupyterlab)\n",
            "  Downloading uri_template-1.3.0-py3-none-any.whl (11 kB)\n",
            "Requirement already satisfied: webcolors>=1.11 in /usr/local/lib/python3.10/dist-packages (from jsonschema>=4.18.0->jupyterlab-server<3,>=2.19.0->jupyterlab) (1.13)\n",
            "Requirement already satisfied: wcwidth in /usr/local/lib/python3.10/dist-packages (from prompt-toolkit!=3.0.0,!=3.0.1,<3.1.0,>=2.0.0->ipython>=5.0.0->ipykernel->jupyterlab) (0.2.9)\n",
            "Requirement already satisfied: six>=1.5 in /usr/local/lib/python3.10/dist-packages (from python-dateutil>=2.8.2->jupyter-client>=7.4.4->jupyter-server<3,>=2.4.0->jupyterlab) (1.16.0)\n",
            "Requirement already satisfied: cffi>=1.0.1 in /usr/local/lib/python3.10/dist-packages (from argon2-cffi-bindings->argon2-cffi->jupyter-server<3,>=2.4.0->jupyterlab) (1.16.0)\n",
            "Requirement already satisfied: soupsieve>1.2 in /usr/local/lib/python3.10/dist-packages (from beautifulsoup4->nbconvert>=6.4.4->jupyter-server<3,>=2.4.0->jupyterlab) (2.5)\n",
            "Requirement already satisfied: webencodings in /usr/local/lib/python3.10/dist-packages (from bleach->nbconvert>=6.4.4->jupyter-server<3,>=2.4.0->jupyterlab) (0.5.1)\n",
            "Requirement already satisfied: pycparser in /usr/local/lib/python3.10/dist-packages (from cffi>=1.0.1->argon2-cffi-bindings->argon2-cffi->jupyter-server<3,>=2.4.0->jupyterlab) (2.21)\n",
            "Collecting arrow>=0.15.0 (from isoduration->jsonschema>=4.18.0->jupyterlab-server<3,>=2.19.0->jupyterlab)\n",
            "  Downloading arrow-1.3.0-py3-none-any.whl (66 kB)\n",
            "\u001b[2K     \u001b[90m━━━━━━━━━━━━━━━━━━━━━━━━━━━━━━━━━━━━━━━━\u001b[0m \u001b[32m66.4/66.4 kB\u001b[0m \u001b[31m8.5 MB/s\u001b[0m eta \u001b[36m0:00:00\u001b[0m\n",
            "\u001b[?25hCollecting types-python-dateutil>=2.8.10 (from arrow>=0.15.0->isoduration->jsonschema>=4.18.0->jupyterlab-server<3,>=2.19.0->jupyterlab)\n",
            "  Downloading types_python_dateutil-2.8.19.14-py3-none-any.whl (9.4 kB)\n",
            "Installing collected packages: types-python-dateutil, json5, uri-template, rfc3986-validator, rfc3339-validator, pyzmq, python-json-logger, overrides, jsonpointer, jedi, fqdn, async-lru, jupyter-server-terminals, jupyter-client, arrow, isoduration, jupyter-events, jupyter-server, jupyterlab-server, jupyter-lsp, jupyterlab\n",
            "  Attempting uninstall: pyzmq\n",
            "    Found existing installation: pyzmq 23.2.1\n",
            "    Uninstalling pyzmq-23.2.1:\n",
            "      Successfully uninstalled pyzmq-23.2.1\n",
            "  Attempting uninstall: jupyter-client\n",
            "    Found existing installation: jupyter-client 6.1.12\n",
            "    Uninstalling jupyter-client-6.1.12:\n",
            "      Successfully uninstalled jupyter-client-6.1.12\n",
            "  Attempting uninstall: jupyter-server\n",
            "    Found existing installation: jupyter-server 1.24.0\n",
            "    Uninstalling jupyter-server-1.24.0:\n",
            "      Successfully uninstalled jupyter-server-1.24.0\n",
            "\u001b[31mERROR: pip's dependency resolver does not currently take into account all the packages that are installed. This behaviour is the source of the following dependency conflicts.\n",
            "notebook 6.5.5 requires jupyter-client<8,>=5.3.4, but you have jupyter-client 8.6.0 which is incompatible.\n",
            "notebook 6.5.5 requires pyzmq<25,>=17, but you have pyzmq 25.1.1 which is incompatible.\u001b[0m\u001b[31m\n",
            "\u001b[0mSuccessfully installed arrow-1.3.0 async-lru-2.0.4 fqdn-1.5.1 isoduration-20.11.0 jedi-0.19.1 json5-0.9.14 jsonpointer-2.4 jupyter-client-8.6.0 jupyter-events-0.9.0 jupyter-lsp-2.2.0 jupyter-server-2.10.0 jupyter-server-terminals-0.4.4 jupyterlab-4.0.8 jupyterlab-server-2.25.1 overrides-7.4.0 python-json-logger-2.0.7 pyzmq-25.1.1 rfc3339-validator-0.1.4 rfc3986-validator-0.1.1 types-python-dateutil-2.8.19.14 uri-template-1.3.0\n"
          ]
        },
        {
          "output_type": "display_data",
          "data": {
            "application/vnd.colab-display-data+json": {
              "pip_warning": {
                "packages": [
                  "zmq"
                ]
              }
            }
          },
          "metadata": {}
        },
        {
          "output_type": "stream",
          "name": "stdout",
          "text": [
            "Collecting visual-automata\n",
            "  Downloading visual_automata-1.1.1-py3-none-any.whl (15 kB)\n",
            "Requirement already satisfied: automata-lib in /usr/local/lib/python3.10/dist-packages (from visual-automata) (8.1.0)\n",
            "Requirement already satisfied: pandas in /usr/local/lib/python3.10/dist-packages (from visual-automata) (1.5.3)\n",
            "Requirement already satisfied: graphviz in /usr/local/lib/python3.10/dist-packages (from visual-automata) (0.20.1)\n",
            "Requirement already satisfied: colormath in /usr/local/lib/python3.10/dist-packages (from visual-automata) (3.0.0)\n",
            "Requirement already satisfied: jupyterlab in /usr/local/lib/python3.10/dist-packages (from visual-automata) (4.0.8)\n",
            "Collecting forbiddenfruit (from visual-automata)\n",
            "  Downloading forbiddenfruit-0.1.4.tar.gz (43 kB)\n",
            "\u001b[2K     \u001b[90m━━━━━━━━━━━━━━━━━━━━━━━━━━━━━━━━━━━━━━━━\u001b[0m \u001b[32m43.8/43.8 kB\u001b[0m \u001b[31m1.8 MB/s\u001b[0m eta \u001b[36m0:00:00\u001b[0m\n",
            "\u001b[?25h  Preparing metadata (setup.py) ... \u001b[?25l\u001b[?25hdone\n",
            "Requirement already satisfied: networkx>=2.6.2 in /usr/local/lib/python3.10/dist-packages (from automata-lib->visual-automata) (3.2.1)\n",
            "Requirement already satisfied: frozendict>=2.3.4 in /usr/local/lib/python3.10/dist-packages (from automata-lib->visual-automata) (2.3.8)\n",
            "Requirement already satisfied: typing-extensions>=4.5.0 in /usr/local/lib/python3.10/dist-packages (from automata-lib->visual-automata) (4.5.0)\n",
            "Requirement already satisfied: cached-method>=0.1.0 in /usr/local/lib/python3.10/dist-packages (from automata-lib->visual-automata) (0.1.0)\n",
            "Requirement already satisfied: numpy in /usr/local/lib/python3.10/dist-packages (from colormath->visual-automata) (1.23.5)\n",
            "Requirement already satisfied: async-lru>=1.0.0 in /usr/local/lib/python3.10/dist-packages (from jupyterlab->visual-automata) (2.0.4)\n",
            "Requirement already satisfied: ipykernel in /usr/local/lib/python3.10/dist-packages (from jupyterlab->visual-automata) (5.5.6)\n",
            "Requirement already satisfied: jinja2>=3.0.3 in /usr/local/lib/python3.10/dist-packages (from jupyterlab->visual-automata) (3.1.2)\n",
            "Requirement already satisfied: jupyter-core in /usr/local/lib/python3.10/dist-packages (from jupyterlab->visual-automata) (5.5.0)\n",
            "Requirement already satisfied: jupyter-lsp>=2.0.0 in /usr/local/lib/python3.10/dist-packages (from jupyterlab->visual-automata) (2.2.0)\n",
            "Requirement already satisfied: jupyter-server<3,>=2.4.0 in /usr/local/lib/python3.10/dist-packages (from jupyterlab->visual-automata) (2.10.0)\n",
            "Requirement already satisfied: jupyterlab-server<3,>=2.19.0 in /usr/local/lib/python3.10/dist-packages (from jupyterlab->visual-automata) (2.25.1)\n",
            "Requirement already satisfied: notebook-shim>=0.2 in /usr/local/lib/python3.10/dist-packages (from jupyterlab->visual-automata) (0.2.3)\n",
            "Requirement already satisfied: packaging in /usr/local/lib/python3.10/dist-packages (from jupyterlab->visual-automata) (23.2)\n",
            "Requirement already satisfied: tomli in /usr/local/lib/python3.10/dist-packages (from jupyterlab->visual-automata) (2.0.1)\n",
            "Requirement already satisfied: tornado>=6.2.0 in /usr/local/lib/python3.10/dist-packages (from jupyterlab->visual-automata) (6.3.2)\n",
            "Requirement already satisfied: traitlets in /usr/local/lib/python3.10/dist-packages (from jupyterlab->visual-automata) (5.7.1)\n",
            "Requirement already satisfied: python-dateutil>=2.8.1 in /usr/local/lib/python3.10/dist-packages (from pandas->visual-automata) (2.8.2)\n",
            "Requirement already satisfied: pytz>=2020.1 in /usr/local/lib/python3.10/dist-packages (from pandas->visual-automata) (2023.3.post1)\n",
            "Requirement already satisfied: MarkupSafe>=2.0 in /usr/local/lib/python3.10/dist-packages (from jinja2>=3.0.3->jupyterlab->visual-automata) (2.1.3)\n",
            "Requirement already satisfied: anyio>=3.1.0 in /usr/local/lib/python3.10/dist-packages (from jupyter-server<3,>=2.4.0->jupyterlab->visual-automata) (3.7.1)\n",
            "Requirement already satisfied: argon2-cffi in /usr/local/lib/python3.10/dist-packages (from jupyter-server<3,>=2.4.0->jupyterlab->visual-automata) (23.1.0)\n",
            "Requirement already satisfied: jupyter-client>=7.4.4 in /usr/local/lib/python3.10/dist-packages (from jupyter-server<3,>=2.4.0->jupyterlab->visual-automata) (8.6.0)\n",
            "Requirement already satisfied: jupyter-events>=0.6.0 in /usr/local/lib/python3.10/dist-packages (from jupyter-server<3,>=2.4.0->jupyterlab->visual-automata) (0.9.0)\n",
            "Requirement already satisfied: jupyter-server-terminals in /usr/local/lib/python3.10/dist-packages (from jupyter-server<3,>=2.4.0->jupyterlab->visual-automata) (0.4.4)\n",
            "Requirement already satisfied: nbconvert>=6.4.4 in /usr/local/lib/python3.10/dist-packages (from jupyter-server<3,>=2.4.0->jupyterlab->visual-automata) (6.5.4)\n",
            "Requirement already satisfied: nbformat>=5.3.0 in /usr/local/lib/python3.10/dist-packages (from jupyter-server<3,>=2.4.0->jupyterlab->visual-automata) (5.9.2)\n",
            "Requirement already satisfied: overrides in /usr/local/lib/python3.10/dist-packages (from jupyter-server<3,>=2.4.0->jupyterlab->visual-automata) (7.4.0)\n",
            "Requirement already satisfied: prometheus-client in /usr/local/lib/python3.10/dist-packages (from jupyter-server<3,>=2.4.0->jupyterlab->visual-automata) (0.18.0)\n",
            "Requirement already satisfied: pyzmq>=24 in /usr/local/lib/python3.10/dist-packages (from jupyter-server<3,>=2.4.0->jupyterlab->visual-automata) (25.1.1)\n",
            "Requirement already satisfied: send2trash>=1.8.2 in /usr/local/lib/python3.10/dist-packages (from jupyter-server<3,>=2.4.0->jupyterlab->visual-automata) (1.8.2)\n",
            "Requirement already satisfied: terminado>=0.8.3 in /usr/local/lib/python3.10/dist-packages (from jupyter-server<3,>=2.4.0->jupyterlab->visual-automata) (0.17.1)\n",
            "Requirement already satisfied: websocket-client in /usr/local/lib/python3.10/dist-packages (from jupyter-server<3,>=2.4.0->jupyterlab->visual-automata) (1.6.4)\n",
            "Requirement already satisfied: platformdirs>=2.5 in /usr/local/lib/python3.10/dist-packages (from jupyter-core->jupyterlab->visual-automata) (3.11.0)\n",
            "Requirement already satisfied: babel>=2.10 in /usr/local/lib/python3.10/dist-packages (from jupyterlab-server<3,>=2.19.0->jupyterlab->visual-automata) (2.13.1)\n",
            "Requirement already satisfied: json5>=0.9.0 in /usr/local/lib/python3.10/dist-packages (from jupyterlab-server<3,>=2.19.0->jupyterlab->visual-automata) (0.9.14)\n",
            "Requirement already satisfied: jsonschema>=4.18.0 in /usr/local/lib/python3.10/dist-packages (from jupyterlab-server<3,>=2.19.0->jupyterlab->visual-automata) (4.19.2)\n",
            "Requirement already satisfied: requests>=2.31 in /usr/local/lib/python3.10/dist-packages (from jupyterlab-server<3,>=2.19.0->jupyterlab->visual-automata) (2.31.0)\n",
            "Requirement already satisfied: six>=1.5 in /usr/local/lib/python3.10/dist-packages (from python-dateutil>=2.8.1->pandas->visual-automata) (1.16.0)\n",
            "Requirement already satisfied: ipython-genutils in /usr/local/lib/python3.10/dist-packages (from ipykernel->jupyterlab->visual-automata) (0.2.0)\n",
            "Requirement already satisfied: ipython>=5.0.0 in /usr/local/lib/python3.10/dist-packages (from ipykernel->jupyterlab->visual-automata) (7.34.0)\n",
            "Requirement already satisfied: idna>=2.8 in /usr/local/lib/python3.10/dist-packages (from anyio>=3.1.0->jupyter-server<3,>=2.4.0->jupyterlab->visual-automata) (3.4)\n",
            "Requirement already satisfied: sniffio>=1.1 in /usr/local/lib/python3.10/dist-packages (from anyio>=3.1.0->jupyter-server<3,>=2.4.0->jupyterlab->visual-automata) (1.3.0)\n",
            "Requirement already satisfied: exceptiongroup in /usr/local/lib/python3.10/dist-packages (from anyio>=3.1.0->jupyter-server<3,>=2.4.0->jupyterlab->visual-automata) (1.1.3)\n",
            "Requirement already satisfied: setuptools>=18.5 in /usr/local/lib/python3.10/dist-packages (from ipython>=5.0.0->ipykernel->jupyterlab->visual-automata) (67.7.2)\n",
            "Requirement already satisfied: jedi>=0.16 in /usr/local/lib/python3.10/dist-packages (from ipython>=5.0.0->ipykernel->jupyterlab->visual-automata) (0.19.1)\n",
            "Requirement already satisfied: decorator in /usr/local/lib/python3.10/dist-packages (from ipython>=5.0.0->ipykernel->jupyterlab->visual-automata) (4.4.2)\n",
            "Requirement already satisfied: pickleshare in /usr/local/lib/python3.10/dist-packages (from ipython>=5.0.0->ipykernel->jupyterlab->visual-automata) (0.7.5)\n",
            "Requirement already satisfied: prompt-toolkit!=3.0.0,!=3.0.1,<3.1.0,>=2.0.0 in /usr/local/lib/python3.10/dist-packages (from ipython>=5.0.0->ipykernel->jupyterlab->visual-automata) (3.0.39)\n",
            "Requirement already satisfied: pygments in /usr/local/lib/python3.10/dist-packages (from ipython>=5.0.0->ipykernel->jupyterlab->visual-automata) (2.16.1)\n",
            "Requirement already satisfied: backcall in /usr/local/lib/python3.10/dist-packages (from ipython>=5.0.0->ipykernel->jupyterlab->visual-automata) (0.2.0)\n",
            "Requirement already satisfied: matplotlib-inline in /usr/local/lib/python3.10/dist-packages (from ipython>=5.0.0->ipykernel->jupyterlab->visual-automata) (0.1.6)\n",
            "Requirement already satisfied: pexpect>4.3 in /usr/local/lib/python3.10/dist-packages (from ipython>=5.0.0->ipykernel->jupyterlab->visual-automata) (4.8.0)\n",
            "Requirement already satisfied: attrs>=22.2.0 in /usr/local/lib/python3.10/dist-packages (from jsonschema>=4.18.0->jupyterlab-server<3,>=2.19.0->jupyterlab->visual-automata) (23.1.0)\n",
            "Requirement already satisfied: jsonschema-specifications>=2023.03.6 in /usr/local/lib/python3.10/dist-packages (from jsonschema>=4.18.0->jupyterlab-server<3,>=2.19.0->jupyterlab->visual-automata) (2023.7.1)\n",
            "Requirement already satisfied: referencing>=0.28.4 in /usr/local/lib/python3.10/dist-packages (from jsonschema>=4.18.0->jupyterlab-server<3,>=2.19.0->jupyterlab->visual-automata) (0.30.2)\n",
            "Requirement already satisfied: rpds-py>=0.7.1 in /usr/local/lib/python3.10/dist-packages (from jsonschema>=4.18.0->jupyterlab-server<3,>=2.19.0->jupyterlab->visual-automata) (0.12.0)\n",
            "Requirement already satisfied: python-json-logger>=2.0.4 in /usr/local/lib/python3.10/dist-packages (from jupyter-events>=0.6.0->jupyter-server<3,>=2.4.0->jupyterlab->visual-automata) (2.0.7)\n",
            "Requirement already satisfied: pyyaml>=5.3 in /usr/local/lib/python3.10/dist-packages (from jupyter-events>=0.6.0->jupyter-server<3,>=2.4.0->jupyterlab->visual-automata) (6.0.1)\n",
            "Requirement already satisfied: rfc3339-validator in /usr/local/lib/python3.10/dist-packages (from jupyter-events>=0.6.0->jupyter-server<3,>=2.4.0->jupyterlab->visual-automata) (0.1.4)\n",
            "Requirement already satisfied: rfc3986-validator>=0.1.1 in /usr/local/lib/python3.10/dist-packages (from jupyter-events>=0.6.0->jupyter-server<3,>=2.4.0->jupyterlab->visual-automata) (0.1.1)\n",
            "Requirement already satisfied: lxml in /usr/local/lib/python3.10/dist-packages (from nbconvert>=6.4.4->jupyter-server<3,>=2.4.0->jupyterlab->visual-automata) (4.9.3)\n",
            "Requirement already satisfied: beautifulsoup4 in /usr/local/lib/python3.10/dist-packages (from nbconvert>=6.4.4->jupyter-server<3,>=2.4.0->jupyterlab->visual-automata) (4.11.2)\n",
            "Requirement already satisfied: bleach in /usr/local/lib/python3.10/dist-packages (from nbconvert>=6.4.4->jupyter-server<3,>=2.4.0->jupyterlab->visual-automata) (6.1.0)\n",
            "Requirement already satisfied: defusedxml in /usr/local/lib/python3.10/dist-packages (from nbconvert>=6.4.4->jupyter-server<3,>=2.4.0->jupyterlab->visual-automata) (0.7.1)\n",
            "Requirement already satisfied: entrypoints>=0.2.2 in /usr/local/lib/python3.10/dist-packages (from nbconvert>=6.4.4->jupyter-server<3,>=2.4.0->jupyterlab->visual-automata) (0.4)\n",
            "Requirement already satisfied: jupyterlab-pygments in /usr/local/lib/python3.10/dist-packages (from nbconvert>=6.4.4->jupyter-server<3,>=2.4.0->jupyterlab->visual-automata) (0.2.2)\n",
            "Requirement already satisfied: mistune<2,>=0.8.1 in /usr/local/lib/python3.10/dist-packages (from nbconvert>=6.4.4->jupyter-server<3,>=2.4.0->jupyterlab->visual-automata) (0.8.4)\n",
            "Requirement already satisfied: nbclient>=0.5.0 in /usr/local/lib/python3.10/dist-packages (from nbconvert>=6.4.4->jupyter-server<3,>=2.4.0->jupyterlab->visual-automata) (0.9.0)\n",
            "Requirement already satisfied: pandocfilters>=1.4.1 in /usr/local/lib/python3.10/dist-packages (from nbconvert>=6.4.4->jupyter-server<3,>=2.4.0->jupyterlab->visual-automata) (1.5.0)\n",
            "Requirement already satisfied: tinycss2 in /usr/local/lib/python3.10/dist-packages (from nbconvert>=6.4.4->jupyter-server<3,>=2.4.0->jupyterlab->visual-automata) (1.2.1)\n",
            "Requirement already satisfied: fastjsonschema in /usr/local/lib/python3.10/dist-packages (from nbformat>=5.3.0->jupyter-server<3,>=2.4.0->jupyterlab->visual-automata) (2.18.1)\n",
            "Requirement already satisfied: charset-normalizer<4,>=2 in /usr/local/lib/python3.10/dist-packages (from requests>=2.31->jupyterlab-server<3,>=2.19.0->jupyterlab->visual-automata) (3.3.2)\n",
            "Requirement already satisfied: urllib3<3,>=1.21.1 in /usr/local/lib/python3.10/dist-packages (from requests>=2.31->jupyterlab-server<3,>=2.19.0->jupyterlab->visual-automata) (2.0.7)\n",
            "Requirement already satisfied: certifi>=2017.4.17 in /usr/local/lib/python3.10/dist-packages (from requests>=2.31->jupyterlab-server<3,>=2.19.0->jupyterlab->visual-automata) (2023.7.22)\n",
            "Requirement already satisfied: ptyprocess in /usr/local/lib/python3.10/dist-packages (from terminado>=0.8.3->jupyter-server<3,>=2.4.0->jupyterlab->visual-automata) (0.7.0)\n",
            "Requirement already satisfied: argon2-cffi-bindings in /usr/local/lib/python3.10/dist-packages (from argon2-cffi->jupyter-server<3,>=2.4.0->jupyterlab->visual-automata) (21.2.0)\n",
            "Requirement already satisfied: parso<0.9.0,>=0.8.3 in /usr/local/lib/python3.10/dist-packages (from jedi>=0.16->ipython>=5.0.0->ipykernel->jupyterlab->visual-automata) (0.8.3)\n",
            "Requirement already satisfied: fqdn in /usr/local/lib/python3.10/dist-packages (from jsonschema>=4.18.0->jupyterlab-server<3,>=2.19.0->jupyterlab->visual-automata) (1.5.1)\n",
            "Requirement already satisfied: isoduration in /usr/local/lib/python3.10/dist-packages (from jsonschema>=4.18.0->jupyterlab-server<3,>=2.19.0->jupyterlab->visual-automata) (20.11.0)\n",
            "Requirement already satisfied: jsonpointer>1.13 in /usr/local/lib/python3.10/dist-packages (from jsonschema>=4.18.0->jupyterlab-server<3,>=2.19.0->jupyterlab->visual-automata) (2.4)\n",
            "Requirement already satisfied: uri-template in /usr/local/lib/python3.10/dist-packages (from jsonschema>=4.18.0->jupyterlab-server<3,>=2.19.0->jupyterlab->visual-automata) (1.3.0)\n",
            "Requirement already satisfied: webcolors>=1.11 in /usr/local/lib/python3.10/dist-packages (from jsonschema>=4.18.0->jupyterlab-server<3,>=2.19.0->jupyterlab->visual-automata) (1.13)\n",
            "Requirement already satisfied: wcwidth in /usr/local/lib/python3.10/dist-packages (from prompt-toolkit!=3.0.0,!=3.0.1,<3.1.0,>=2.0.0->ipython>=5.0.0->ipykernel->jupyterlab->visual-automata) (0.2.9)\n",
            "Requirement already satisfied: cffi>=1.0.1 in /usr/local/lib/python3.10/dist-packages (from argon2-cffi-bindings->argon2-cffi->jupyter-server<3,>=2.4.0->jupyterlab->visual-automata) (1.16.0)\n",
            "Requirement already satisfied: soupsieve>1.2 in /usr/local/lib/python3.10/dist-packages (from beautifulsoup4->nbconvert>=6.4.4->jupyter-server<3,>=2.4.0->jupyterlab->visual-automata) (2.5)\n",
            "Requirement already satisfied: webencodings in /usr/local/lib/python3.10/dist-packages (from bleach->nbconvert>=6.4.4->jupyter-server<3,>=2.4.0->jupyterlab->visual-automata) (0.5.1)\n",
            "Requirement already satisfied: pycparser in /usr/local/lib/python3.10/dist-packages (from cffi>=1.0.1->argon2-cffi-bindings->argon2-cffi->jupyter-server<3,>=2.4.0->jupyterlab->visual-automata) (2.21)\n",
            "Requirement already satisfied: arrow>=0.15.0 in /usr/local/lib/python3.10/dist-packages (from isoduration->jsonschema>=4.18.0->jupyterlab-server<3,>=2.19.0->jupyterlab->visual-automata) (1.3.0)\n",
            "Requirement already satisfied: types-python-dateutil>=2.8.10 in /usr/local/lib/python3.10/dist-packages (from arrow>=0.15.0->isoduration->jsonschema>=4.18.0->jupyterlab-server<3,>=2.19.0->jupyterlab->visual-automata) (2.8.19.14)\n",
            "Building wheels for collected packages: forbiddenfruit\n",
            "  Building wheel for forbiddenfruit (setup.py) ... \u001b[?25l\u001b[?25hdone\n",
            "  Created wheel for forbiddenfruit: filename=forbiddenfruit-0.1.4-py3-none-any.whl size=21791 sha256=a486819b1d6133ea9aa211e2e5a988a81b20d91e401d5331f63a95e4c1e5a249\n",
            "  Stored in directory: /root/.cache/pip/wheels/0c/f3/30/e6e3c3f32fbcda46da9c9828bb1268f43b422559ba6d9d5dde\n",
            "Successfully built forbiddenfruit\n",
            "Installing collected packages: forbiddenfruit, visual-automata\n",
            "Successfully installed forbiddenfruit-0.1.4 visual-automata-1.1.1\n"
          ]
        }
      ],
      "source": [
        "# install some visual components for automatas\n",
        "\n",
        "%pip install graphviz\n",
        "%pip install colormath\n",
        "%pip install jupyterlab\n",
        "%pip install visual-automata"
      ]
    },
    {
      "cell_type": "code",
      "execution_count": null,
      "metadata": {
        "id": "kMl-VKnluaOU",
        "colab": {
          "base_uri": "https://localhost:8080/"
        },
        "outputId": "3d920472-9310-4b61-9e15-07f347b0769f"
      },
      "outputs": [
        {
          "output_type": "stream",
          "name": "stdout",
          "text": [
            "Collecting coloraide\n",
            "  Downloading coloraide-2.12-py3-none-any.whl (235 kB)\n",
            "\u001b[?25l     \u001b[90m━━━━━━━━━━━━━━━━━━━━━━━━━━━━━━━━━━━━━━━━\u001b[0m \u001b[32m0.0/235.1 kB\u001b[0m \u001b[31m?\u001b[0m eta \u001b[36m-:--:--\u001b[0m\r\u001b[2K     \u001b[91m━━━━━━━━━━━━━━━━━━━━━━━━━━\u001b[0m\u001b[90m╺\u001b[0m\u001b[90m━━━━━━━━━━━━━\u001b[0m \u001b[32m153.6/235.1 kB\u001b[0m \u001b[31m4.5 MB/s\u001b[0m eta \u001b[36m0:00:01\u001b[0m\r\u001b[2K     \u001b[90m━━━━━━━━━━━━━━━━━━━━━━━━━━━━━━━━━━━━━━━━\u001b[0m \u001b[32m235.1/235.1 kB\u001b[0m \u001b[31m4.3 MB/s\u001b[0m eta \u001b[36m0:00:00\u001b[0m\n",
            "\u001b[?25hInstalling collected packages: coloraide\n",
            "Successfully installed coloraide-2.12\n",
            "Reading package lists... Done\n",
            "Building dependency tree... Done\n",
            "Reading state information... Done\n",
            "The following additional packages will be installed:\n",
            "  libgail-common libgail18 libgtk2.0-0 libgtk2.0-bin libgtk2.0-common libgvc6-plugins-gtk\n",
            "  librsvg2-common libxdot4\n",
            "Suggested packages:\n",
            "  gvfs\n",
            "The following NEW packages will be installed:\n",
            "  libgail-common libgail18 libgraphviz-dev libgtk2.0-0 libgtk2.0-bin libgtk2.0-common\n",
            "  libgvc6-plugins-gtk librsvg2-common libxdot4\n",
            "0 upgraded, 9 newly installed, 0 to remove and 6 not upgraded.\n",
            "Need to get 2,433 kB of archives.\n",
            "After this operation, 7,694 kB of additional disk space will be used.\n",
            "Get:1 http://archive.ubuntu.com/ubuntu jammy/main amd64 libgtk2.0-common all 2.24.33-2ubuntu2 [125 kB]\n",
            "Get:2 http://archive.ubuntu.com/ubuntu jammy/main amd64 libgtk2.0-0 amd64 2.24.33-2ubuntu2 [2,037 kB]\n",
            "Get:3 http://archive.ubuntu.com/ubuntu jammy/main amd64 libgail18 amd64 2.24.33-2ubuntu2 [15.9 kB]\n",
            "Get:4 http://archive.ubuntu.com/ubuntu jammy/main amd64 libgail-common amd64 2.24.33-2ubuntu2 [132 kB]\n",
            "Get:5 http://archive.ubuntu.com/ubuntu jammy/universe amd64 libxdot4 amd64 2.42.2-6 [16.4 kB]\n",
            "Get:6 http://archive.ubuntu.com/ubuntu jammy/universe amd64 libgvc6-plugins-gtk amd64 2.42.2-6 [22.6 kB]\n",
            "Get:7 http://archive.ubuntu.com/ubuntu jammy/universe amd64 libgraphviz-dev amd64 2.42.2-6 [58.5 kB]\n",
            "Get:8 http://archive.ubuntu.com/ubuntu jammy/main amd64 libgtk2.0-bin amd64 2.24.33-2ubuntu2 [7,932 B]\n",
            "Get:9 http://archive.ubuntu.com/ubuntu jammy-updates/main amd64 librsvg2-common amd64 2.52.5+dfsg-3ubuntu0.2 [17.7 kB]\n",
            "Fetched 2,433 kB in 2s (1,437 kB/s)\n",
            "Selecting previously unselected package libgtk2.0-common.\n",
            "(Reading database ... 120872 files and directories currently installed.)\n",
            "Preparing to unpack .../0-libgtk2.0-common_2.24.33-2ubuntu2_all.deb ...\n",
            "Unpacking libgtk2.0-common (2.24.33-2ubuntu2) ...\n",
            "Selecting previously unselected package libgtk2.0-0:amd64.\n",
            "Preparing to unpack .../1-libgtk2.0-0_2.24.33-2ubuntu2_amd64.deb ...\n",
            "Unpacking libgtk2.0-0:amd64 (2.24.33-2ubuntu2) ...\n",
            "Selecting previously unselected package libgail18:amd64.\n",
            "Preparing to unpack .../2-libgail18_2.24.33-2ubuntu2_amd64.deb ...\n",
            "Unpacking libgail18:amd64 (2.24.33-2ubuntu2) ...\n",
            "Selecting previously unselected package libgail-common:amd64.\n",
            "Preparing to unpack .../3-libgail-common_2.24.33-2ubuntu2_amd64.deb ...\n",
            "Unpacking libgail-common:amd64 (2.24.33-2ubuntu2) ...\n",
            "Selecting previously unselected package libxdot4:amd64.\n",
            "Preparing to unpack .../4-libxdot4_2.42.2-6_amd64.deb ...\n",
            "Unpacking libxdot4:amd64 (2.42.2-6) ...\n",
            "Selecting previously unselected package libgvc6-plugins-gtk.\n",
            "Preparing to unpack .../5-libgvc6-plugins-gtk_2.42.2-6_amd64.deb ...\n",
            "Unpacking libgvc6-plugins-gtk (2.42.2-6) ...\n",
            "Selecting previously unselected package libgraphviz-dev:amd64.\n",
            "Preparing to unpack .../6-libgraphviz-dev_2.42.2-6_amd64.deb ...\n",
            "Unpacking libgraphviz-dev:amd64 (2.42.2-6) ...\n",
            "Selecting previously unselected package libgtk2.0-bin.\n",
            "Preparing to unpack .../7-libgtk2.0-bin_2.24.33-2ubuntu2_amd64.deb ...\n",
            "Unpacking libgtk2.0-bin (2.24.33-2ubuntu2) ...\n",
            "Selecting previously unselected package librsvg2-common:amd64.\n",
            "Preparing to unpack .../8-librsvg2-common_2.52.5+dfsg-3ubuntu0.2_amd64.deb ...\n",
            "Unpacking librsvg2-common:amd64 (2.52.5+dfsg-3ubuntu0.2) ...\n",
            "Setting up libxdot4:amd64 (2.42.2-6) ...\n",
            "Setting up librsvg2-common:amd64 (2.52.5+dfsg-3ubuntu0.2) ...\n",
            "Setting up libgtk2.0-common (2.24.33-2ubuntu2) ...\n",
            "Setting up libgtk2.0-0:amd64 (2.24.33-2ubuntu2) ...\n",
            "Setting up libgvc6-plugins-gtk (2.42.2-6) ...\n",
            "Setting up libgail18:amd64 (2.24.33-2ubuntu2) ...\n",
            "Setting up libgtk2.0-bin (2.24.33-2ubuntu2) ...\n",
            "Setting up libgail-common:amd64 (2.24.33-2ubuntu2) ...\n",
            "Setting up libgraphviz-dev:amd64 (2.42.2-6) ...\n",
            "Processing triggers for libc-bin (2.35-0ubuntu3.4) ...\n",
            "/sbin/ldconfig.real: /usr/local/lib/libtbbmalloc_proxy.so.2 is not a symbolic link\n",
            "\n",
            "/sbin/ldconfig.real: /usr/local/lib/libtbb.so.12 is not a symbolic link\n",
            "\n",
            "/sbin/ldconfig.real: /usr/local/lib/libtbbbind_2_0.so.3 is not a symbolic link\n",
            "\n",
            "/sbin/ldconfig.real: /usr/local/lib/libtbbbind_2_5.so.3 is not a symbolic link\n",
            "\n",
            "/sbin/ldconfig.real: /usr/local/lib/libtbbbind.so.3 is not a symbolic link\n",
            "\n",
            "/sbin/ldconfig.real: /usr/local/lib/libtbbmalloc.so.2 is not a symbolic link\n",
            "\n",
            "Processing triggers for man-db (2.10.2-1) ...\n",
            "Processing triggers for libgdk-pixbuf-2.0-0:amd64 (2.42.8+dfsg-1ubuntu0.2) ...\n",
            "Collecting pygraphviz\n",
            "  Downloading pygraphviz-1.11.zip (120 kB)\n",
            "\u001b[2K     \u001b[90m━━━━━━━━━━━━━━━━━━━━━━━━━━━━━━━━━━━━━━━━\u001b[0m \u001b[32m120.8/120.8 kB\u001b[0m \u001b[31m3.9 MB/s\u001b[0m eta \u001b[36m0:00:00\u001b[0m\n",
            "\u001b[?25h  Preparing metadata (setup.py) ... \u001b[?25l\u001b[?25hdone\n",
            "Building wheels for collected packages: pygraphviz\n",
            "  Building wheel for pygraphviz (setup.py) ... \u001b[?25l\u001b[?25hdone\n",
            "  Created wheel for pygraphviz: filename=pygraphviz-1.11-cp310-cp310-linux_x86_64.whl size=175926 sha256=1f7af269ffaa233985ef2dbafd6b9154fad27d9f0c56aa86a921833be5243876\n",
            "  Stored in directory: /root/.cache/pip/wheels/5b/ee/36/f47a0d35664fbe1a2b5a433ae33c6ad636b00bb231f68a9aaa\n",
            "Successfully built pygraphviz\n",
            "Installing collected packages: pygraphviz\n",
            "Successfully installed pygraphviz-1.11\n"
          ]
        }
      ],
      "source": [
        "%pip install coloraide\n",
        "!apt install libgraphviz-dev # ERROR with local\n",
        "%pip install pygraphviz"
      ]
    },
    {
      "cell_type": "markdown",
      "metadata": {
        "id": "8OdNDTkcsc-p"
      },
      "source": [
        "**(1) TODO: what are the 5 tuple that defines an NFA?**"
      ]
    },
    {
      "cell_type": "markdown",
      "metadata": {
        "id": "NRP_xU-jF2tL"
      },
      "source": [
        "The five tuples that define an NFA are:\n",
        "\n",
        "- Q: Set of states of the NFA\n",
        "- Σ: Alphabet that the NFA will use in the transitions\n",
        "- δ: Transitions between states. δ: Q x (Σ ∪ {ϵ}) → 𝒫(Q).\n",
        "- q0: Initial state\n",
        "- F: Set of final states. F ⊆ Q."
      ]
    },
    {
      "cell_type": "markdown",
      "metadata": {
        "id": "pWqVvz4x0t_G"
      },
      "source": [
        "Understanding Automatas in Python\n",
        "\n",
        "We are going to use an existing library in Python that enables the possibility to implement automatas in an easy way.\n",
        "The code and documentation of the library can be found on the following git repository https://github.com/caleb531/automata\n",
        "\n",
        "In order to implement an automata we have to be able to define the 5-tuple in the code.\n",
        "\n",
        "The Finite Automaton is an abstract class with several subclasses depending on the type of Automata:\n",
        "Finite Automaton (FA)\n",
        "    Deterministic (DFA)\n",
        "    Non-Deterministic (NFA)\n",
        "    Generalized Non-Deterministic (GNFA)\n",
        "\n",
        "Every DFA has the following (required) properties:\n",
        "\n",
        "    states: a set of the DFA's valid states, each of which must be represented as a string\n",
        "    input_symbols: a set of the DFA's valid input symbols, each of which must also be represented as a string\n",
        "    transitions: a dict consisting of the transitions for each state. Each key is a state name and each value is a dict which maps a symbol (the key) to a state (the value).\n",
        "    initial_state: the name of the initial state for this DFA\n",
        "    final_states: a set of final states for this DFA\n",
        "    allow_partial"
      ]
    },
    {
      "cell_type": "markdown",
      "metadata": {
        "id": "aJJ7aRl-kiDF"
      },
      "source": [
        "**(2) TODO: Explain what is the behaviour of the flag \"allow_partial\"**\n"
      ]
    },
    {
      "cell_type": "markdown",
      "metadata": {
        "id": "8sw1pStVF2tM"
      },
      "source": [
        "The allow_partial property allows to have a non-complete automata. If it is set to False, the automata will not necessarily have all the possible transitions in Σ. Otherwise, the automata will have all the transitions possible."
      ]
    },
    {
      "cell_type": "markdown",
      "metadata": {
        "id": "XO-Z7mP0EbQp"
      },
      "source": [
        "According to the documentation:\n",
        " \"by default, each DFA state must have a transition to every input symbol; if allow_partial is True, you can disable this characteristic (such that any DFA state can have fewer transitions than input symbols). Note that a DFA must always have every state represented in the transition dictionary, even if there are no transitions on input symbols leaving a state (dictionary is left empty in that case).\""
      ]
    },
    {
      "cell_type": "code",
      "execution_count": null,
      "metadata": {
        "id": "yDJhBF85JwUs",
        "colab": {
          "base_uri": "https://localhost:8080/"
        },
        "outputId": "eb548d92-e162-45a8-910f-073848a43f61"
      },
      "outputs": [
        {
          "output_type": "stream",
          "name": "stdout",
          "text": [
            "Please enter your input: 000000000001\n",
            "Accepted\n"
          ]
        }
      ],
      "source": [
        "#Run the following code comment what the program is doing\n",
        "\n",
        "from automata.fa.dfa import DFA\n",
        "from visual_automata.fa.dfa import VisualDFA\n",
        "\n",
        "my_dfa = DFA(\n",
        "    states={'q0', 'q1'},\n",
        "    input_symbols={'0', '1'},\n",
        "    transitions={\n",
        "        'q0': {'0': 'q0', '1': 'q1'},\n",
        "        'q1': {'0': 'q0', '1': 'q1'},\n",
        "    },\n",
        "    initial_state='q0',\n",
        "    final_states={'q1'}\n",
        ")\n",
        "\n",
        "if my_dfa.accepts_input(input('Please enter your input: ')):\n",
        "    print('Accepted')\n",
        "else:\n",
        "    print('Rejected')"
      ]
    },
    {
      "cell_type": "markdown",
      "metadata": {
        "id": "JiF1LhNXF2tN"
      },
      "source": [
        "Accepts any binary string that ends with 1."
      ]
    },
    {
      "cell_type": "markdown",
      "metadata": {
        "id": "bisXMBKjpwDg"
      },
      "source": [
        "**(3) TODO: list three inputs that are accepted by the DFA?**"
      ]
    },
    {
      "cell_type": "markdown",
      "metadata": {
        "id": "6cGNv5cpF2tN"
      },
      "source": [
        "1, 01, 101"
      ]
    },
    {
      "cell_type": "markdown",
      "metadata": {
        "id": "2CPBfDaRp0bK"
      },
      "source": [
        "\n",
        "**(4) TODO: list three  inputs that are rejected by the DFA?**"
      ]
    },
    {
      "cell_type": "markdown",
      "metadata": {
        "id": "GOYYwPMrF2tN"
      },
      "source": [
        "0, 10, 100"
      ]
    },
    {
      "cell_type": "code",
      "execution_count": null,
      "metadata": {
        "id": "-bhPP248plWX",
        "colab": {
          "base_uri": "https://localhost:8080/"
        },
        "outputId": "004ae7b8-bf4c-4b43-ab6d-29e9dad5c2a0"
      },
      "outputs": [
        {
          "output_type": "stream",
          "name": "stdout",
          "text": [
            "Please enter your input: abaaaaaaaabaaa\n",
            "Accepted\n"
          ]
        }
      ],
      "source": [
        "#The library allows to implement DFA but also Non deterministic finite automatas.\n",
        "\n",
        "# NFA which matches strings beginning with 'a', ending with 'a', and containing\n",
        "# no consecutive 'b's\n",
        "\n",
        "from automata.fa.nfa import NFA\n",
        "\n",
        "my_nfa = NFA(\n",
        "    states={'q0', 'q1', 'q2'},\n",
        "    input_symbols={'a', 'b'},\n",
        "    transitions={\n",
        "        'q0': {'a': {'q1'}},\n",
        "        # Use '' as the key name for empty string (lambda/epsilon) transitions\n",
        "        'q1': {'a': {'q1'}, '': {'q2'}},\n",
        "        'q2': {'b': {'q0'}}\n",
        "    },\n",
        "    initial_state='q0',\n",
        "    final_states={'q1'}\n",
        ")\n",
        "\n",
        "if my_nfa.accepts_input(input('Please enter your input: ')):\n",
        "    print('Accepted')\n",
        "else:\n",
        "    print('Rejected')"
      ]
    },
    {
      "cell_type": "markdown",
      "metadata": {
        "id": "8e1nbBhRF2tN"
      },
      "source": [
        "Looks like the NFA has a regex pattern of: (a+b)a+. Starts and ends with an A, and has not more than one consecutive b."
      ]
    },
    {
      "cell_type": "markdown",
      "metadata": {
        "id": "VXZ_sZJOFqhJ"
      },
      "source": [
        "**(5) TODO: list three inputs that are accepted by the NFA?**"
      ]
    },
    {
      "cell_type": "markdown",
      "metadata": {
        "id": "RfNzoOEcF2tN"
      },
      "source": [
        "a, aba, abaaa"
      ]
    },
    {
      "cell_type": "markdown",
      "metadata": {
        "id": "vwGQUxcBFrvh"
      },
      "source": [
        "**(6) TODO: list three inputs that are rejected by the NFA?**"
      ]
    },
    {
      "cell_type": "markdown",
      "metadata": {
        "id": "6j7lb5RTF2tO"
      },
      "source": [
        "b, ab, abba"
      ]
    },
    {
      "cell_type": "code",
      "execution_count": null,
      "metadata": {
        "id": "Z1Ofn5azprcY",
        "colab": {
          "base_uri": "https://localhost:8080/",
          "height": 134
        },
        "outputId": "a4c23e89-ef69-4b4c-b62d-686aa0f4fbed"
      },
      "outputs": [
        {
          "output_type": "execute_result",
          "data": {
            "image/svg+xml": "<?xml version=\"1.0\" encoding=\"UTF-8\" standalone=\"no\"?>\n<!DOCTYPE svg PUBLIC \"-//W3C//DTD SVG 1.1//EN\"\n \"http://www.w3.org/Graphics/SVG/1.1/DTD/svg11.dtd\">\n<!-- Generated by graphviz version 2.43.0 (0)\n -->\n<!-- Title: %3 Pages: 1 -->\n<svg width=\"276pt\" height=\"84pt\"\n viewBox=\"0.00 0.00 275.59 84.00\" xmlns=\"http://www.w3.org/2000/svg\" xmlns:xlink=\"http://www.w3.org/1999/xlink\">\n<g id=\"graph0\" class=\"graph\" transform=\"scale(1 1) rotate(0) translate(4 80)\">\n<title>%3</title>\n<polygon fill=\"white\" stroke=\"transparent\" points=\"-4,4 -4,-80 271.59,-80 271.59,4 -4,4\"/>\n<!-- Initial -->\n<g id=\"node1\" class=\"node\">\n<title>Initial</title>\n<ellipse fill=\"black\" stroke=\"black\" cx=\"1.8\" cy=\"-23.5\" rx=\"1.8\" ry=\"1.8\"/>\n</g>\n<!-- q0 -->\n<g id=\"node2\" class=\"node\">\n<title>q0</title>\n<ellipse fill=\"none\" stroke=\"black\" cx=\"60.1\" cy=\"-23.5\" rx=\"19.5\" ry=\"19.5\"/>\n<text text-anchor=\"middle\" x=\"60.1\" y=\"-19.8\" font-family=\"Times,serif\" font-size=\"14.00\">q0</text>\n</g>\n<!-- Initial&#45;&gt;q0 -->\n<g id=\"edge1\" class=\"edge\">\n<title>Initial&#45;&gt;q0</title>\n<path fill=\"none\" stroke=\"black\" d=\"M3.78,-23.5C7.28,-23.5 19.64,-23.5 31.78,-23.5\"/>\n<polygon fill=\"black\" stroke=\"black\" points=\"31.96,-26.47 40.46,-23.5 31.96,-20.52 31.96,-26.47\"/>\n</g>\n<!-- q0&#45;&gt;q0 -->\n<g id=\"edge2\" class=\"edge\">\n<title>q0&#45;&gt;q0</title>\n<path fill=\"none\" stroke=\"black\" d=\"M53.63,-42.02C52.53,-51.95 54.68,-61 60.1,-61 63.82,-61 66,-56.72 66.65,-50.82\"/>\n<polygon fill=\"black\" stroke=\"black\" points=\"69.62,-50.49 66.57,-42.02 63.67,-50.55 69.62,-50.49\"/>\n<text text-anchor=\"middle\" x=\"60.1\" y=\"-64.8\" font-family=\"Times,serif\" font-size=\"14.00\"> 0 </text>\n</g>\n<!-- q1 -->\n<g id=\"node3\" class=\"node\">\n<title>q1</title>\n<ellipse fill=\"none\" stroke=\"black\" cx=\"154.09\" cy=\"-23.5\" rx=\"19.5\" ry=\"19.5\"/>\n<ellipse fill=\"none\" stroke=\"black\" cx=\"154.09\" cy=\"-23.5\" rx=\"23.5\" ry=\"23.5\"/>\n<text text-anchor=\"middle\" x=\"154.09\" y=\"-19.8\" font-family=\"Times,serif\" font-size=\"14.00\">q1</text>\n</g>\n<!-- q0&#45;&gt;q1 -->\n<g id=\"edge3\" class=\"edge\">\n<title>q0&#45;&gt;q1</title>\n<path fill=\"none\" stroke=\"black\" d=\"M79.72,-23.5C91.69,-23.5 107.55,-23.5 121.47,-23.5\"/>\n<polygon fill=\"black\" stroke=\"black\" points=\"121.77,-26.47 130.27,-23.5 121.77,-20.52 121.77,-26.47\"/>\n<text text-anchor=\"middle\" x=\"105.1\" y=\"-27.3\" font-family=\"Times,serif\" font-size=\"14.00\"> 1 </text>\n</g>\n<!-- q1&#45;&gt;q0 -->\n<g id=\"edge4\" class=\"edge\">\n<title>q1&#45;&gt;q0</title>\n<path fill=\"none\" stroke=\"black\" d=\"M133.83,-11.16C123.27,-5.86 109.86,-1.5 97.6,-4.5 93.2,-5.57 88.74,-7.28 84.52,-9.24\"/>\n<polygon fill=\"black\" stroke=\"black\" points=\"82.98,-6.69 76.79,-13.23 85.71,-11.98 82.98,-6.69\"/>\n<text text-anchor=\"middle\" x=\"105.1\" y=\"-8.3\" font-family=\"Times,serif\" font-size=\"14.00\"> 0 </text>\n</g>\n<!-- q2 -->\n<g id=\"node4\" class=\"node\">\n<title>q2</title>\n<ellipse fill=\"none\" stroke=\"black\" cx=\"248.09\" cy=\"-23.5\" rx=\"19.5\" ry=\"19.5\"/>\n<text text-anchor=\"middle\" x=\"248.09\" y=\"-19.8\" font-family=\"Times,serif\" font-size=\"14.00\">q2</text>\n</g>\n<!-- q1&#45;&gt;q2 -->\n<g id=\"edge5\" class=\"edge\">\n<title>q1&#45;&gt;q2</title>\n<path fill=\"none\" stroke=\"black\" d=\"M177.84,-23.5C190.46,-23.5 206.25,-23.5 219.57,-23.5\"/>\n<polygon fill=\"black\" stroke=\"black\" points=\"219.83,-26.47 228.33,-23.5 219.83,-20.52 219.83,-26.47\"/>\n<text text-anchor=\"middle\" x=\"203.09\" y=\"-27.3\" font-family=\"Times,serif\" font-size=\"14.00\"> 1 </text>\n</g>\n<!-- q2&#45;&gt;q1 -->\n<g id=\"edge7\" class=\"edge\">\n<title>q2&#45;&gt;q1</title>\n<path fill=\"none\" stroke=\"black\" d=\"M231.4,-13.23C225.19,-9.73 217.81,-6.26 210.59,-4.5 201.2,-2.2 191.14,-4.22 182.2,-7.67\"/>\n<polygon fill=\"black\" stroke=\"black\" points=\"180.92,-4.99 174.36,-11.16 183.34,-10.42 180.92,-4.99\"/>\n<text text-anchor=\"middle\" x=\"203.09\" y=\"-8.3\" font-family=\"Times,serif\" font-size=\"14.00\"> 1 </text>\n</g>\n<!-- q2&#45;&gt;q2 -->\n<g id=\"edge6\" class=\"edge\">\n<title>q2&#45;&gt;q2</title>\n<path fill=\"none\" stroke=\"black\" d=\"M240.24,-41.63C238.77,-51.71 241.39,-61 248.09,-61 252.8,-61 255.5,-56.41 256.17,-50.18\"/>\n<polygon fill=\"black\" stroke=\"black\" points=\"259.15,-50.05 255.95,-41.63 253.2,-50.21 259.15,-50.05\"/>\n<text text-anchor=\"middle\" x=\"248.09\" y=\"-64.8\" font-family=\"Times,serif\" font-size=\"14.00\"> 0 </text>\n</g>\n</g>\n</svg>\n",
            "text/plain": [
              "<graphviz.graphs.Digraph at 0x7d153d3f59f0>"
            ]
          },
          "metadata": {},
          "execution_count": 8
        }
      ],
      "source": [
        "#Using the VisualDFA class we can show the diagram for an implemented DFA. The class Visual DFA. Check the documentation of this visual library and try the following examples\n",
        "#https://pypi.org/project/visual-automata/\n",
        "\n",
        "new_dfa = VisualDFA(\n",
        "    states={'q0', 'q1', 'q2'},\n",
        "    input_symbols={'0', '1'},\n",
        "    transitions={\n",
        "        'q0': {'0': 'q0', '1': 'q1'},\n",
        "        'q1': {'0': 'q0', '1': 'q2'},\n",
        "        'q2': {'0': 'q2', '1': 'q1'}\n",
        "    },\n",
        "    initial_state='q0',\n",
        "    final_states={'q1'}\n",
        ")\n",
        "\n",
        "my_dfa = DFA(\n",
        "    states={'q0', 'q1', 'q2'},\n",
        "    input_symbols={'0', '1'},\n",
        "    transitions={\n",
        "        'q0': {'0': 'q0', '1': 'q1'},\n",
        "        'q1': {'0': 'q0', '1': 'q2'},\n",
        "        'q2': {'0': 'q2', '1': 'q1'}\n",
        "    },\n",
        "    initial_state='q0',\n",
        "    final_states={'q1'}\n",
        ")\n",
        "\n",
        "new_dfa.show_diagram()"
      ]
    },
    {
      "cell_type": "code",
      "execution_count": null,
      "metadata": {
        "id": "Sbacqa-SQ8m6",
        "colab": {
          "base_uri": "https://localhost:8080/",
          "height": 385
        },
        "outputId": "7d021fd8-2783-4bc1-bfc3-c87dfdf524e7"
      },
      "outputs": [
        {
          "output_type": "display_data",
          "data": {
            "text/plain": [
              "          [Accepted]                         \n",
              "Step: Current state: Input symbol: New state:\n",
              "1                →q0             1        *q1\n",
              "2                *q1             0        →q0\n",
              "3                →q0             0        →q0\n",
              "4                →q0             1        *q1"
            ],
            "text/html": [
              "\n",
              "  <div id=\"df-7bf23d3b-bbc1-485f-a6d5-cba320758d8c\" class=\"colab-df-container\">\n",
              "    <div>\n",
              "<style scoped>\n",
              "    .dataframe tbody tr th:only-of-type {\n",
              "        vertical-align: middle;\n",
              "    }\n",
              "\n",
              "    .dataframe tbody tr th {\n",
              "        vertical-align: top;\n",
              "    }\n",
              "\n",
              "    .dataframe thead tr th {\n",
              "        text-align: left;\n",
              "    }\n",
              "</style>\n",
              "<table border=\"1\" class=\"dataframe\">\n",
              "  <thead>\n",
              "    <tr>\n",
              "      <th></th>\n",
              "      <th colspan=\"3\" halign=\"left\">[Accepted]</th>\n",
              "    </tr>\n",
              "    <tr>\n",
              "      <th>Step:</th>\n",
              "      <th>Current state:</th>\n",
              "      <th>Input symbol:</th>\n",
              "      <th>New state:</th>\n",
              "    </tr>\n",
              "  </thead>\n",
              "  <tbody>\n",
              "    <tr>\n",
              "      <th>1</th>\n",
              "      <td>→q0</td>\n",
              "      <td>1</td>\n",
              "      <td>*q1</td>\n",
              "    </tr>\n",
              "    <tr>\n",
              "      <th>2</th>\n",
              "      <td>*q1</td>\n",
              "      <td>0</td>\n",
              "      <td>→q0</td>\n",
              "    </tr>\n",
              "    <tr>\n",
              "      <th>3</th>\n",
              "      <td>→q0</td>\n",
              "      <td>0</td>\n",
              "      <td>→q0</td>\n",
              "    </tr>\n",
              "    <tr>\n",
              "      <th>4</th>\n",
              "      <td>→q0</td>\n",
              "      <td>1</td>\n",
              "      <td>*q1</td>\n",
              "    </tr>\n",
              "  </tbody>\n",
              "</table>\n",
              "</div>\n",
              "    <div class=\"colab-df-buttons\">\n",
              "\n",
              "  <div class=\"colab-df-container\">\n",
              "    <button class=\"colab-df-convert\" onclick=\"convertToInteractive('df-7bf23d3b-bbc1-485f-a6d5-cba320758d8c')\"\n",
              "            title=\"Convert this dataframe to an interactive table.\"\n",
              "            style=\"display:none;\">\n",
              "\n",
              "  <svg xmlns=\"http://www.w3.org/2000/svg\" height=\"24px\" viewBox=\"0 -960 960 960\">\n",
              "    <path d=\"M120-120v-720h720v720H120Zm60-500h600v-160H180v160Zm220 220h160v-160H400v160Zm0 220h160v-160H400v160ZM180-400h160v-160H180v160Zm440 0h160v-160H620v160ZM180-180h160v-160H180v160Zm440 0h160v-160H620v160Z\"/>\n",
              "  </svg>\n",
              "    </button>\n",
              "\n",
              "  <style>\n",
              "    .colab-df-container {\n",
              "      display:flex;\n",
              "      gap: 12px;\n",
              "    }\n",
              "\n",
              "    .colab-df-convert {\n",
              "      background-color: #E8F0FE;\n",
              "      border: none;\n",
              "      border-radius: 50%;\n",
              "      cursor: pointer;\n",
              "      display: none;\n",
              "      fill: #1967D2;\n",
              "      height: 32px;\n",
              "      padding: 0 0 0 0;\n",
              "      width: 32px;\n",
              "    }\n",
              "\n",
              "    .colab-df-convert:hover {\n",
              "      background-color: #E2EBFA;\n",
              "      box-shadow: 0px 1px 2px rgba(60, 64, 67, 0.3), 0px 1px 3px 1px rgba(60, 64, 67, 0.15);\n",
              "      fill: #174EA6;\n",
              "    }\n",
              "\n",
              "    .colab-df-buttons div {\n",
              "      margin-bottom: 4px;\n",
              "    }\n",
              "\n",
              "    [theme=dark] .colab-df-convert {\n",
              "      background-color: #3B4455;\n",
              "      fill: #D2E3FC;\n",
              "    }\n",
              "\n",
              "    [theme=dark] .colab-df-convert:hover {\n",
              "      background-color: #434B5C;\n",
              "      box-shadow: 0px 1px 3px 1px rgba(0, 0, 0, 0.15);\n",
              "      filter: drop-shadow(0px 1px 2px rgba(0, 0, 0, 0.3));\n",
              "      fill: #FFFFFF;\n",
              "    }\n",
              "  </style>\n",
              "\n",
              "    <script>\n",
              "      const buttonEl =\n",
              "        document.querySelector('#df-7bf23d3b-bbc1-485f-a6d5-cba320758d8c button.colab-df-convert');\n",
              "      buttonEl.style.display =\n",
              "        google.colab.kernel.accessAllowed ? 'block' : 'none';\n",
              "\n",
              "      async function convertToInteractive(key) {\n",
              "        const element = document.querySelector('#df-7bf23d3b-bbc1-485f-a6d5-cba320758d8c');\n",
              "        const dataTable =\n",
              "          await google.colab.kernel.invokeFunction('convertToInteractive',\n",
              "                                                    [key], {});\n",
              "        if (!dataTable) return;\n",
              "\n",
              "        const docLinkHtml = 'Like what you see? Visit the ' +\n",
              "          '<a target=\"_blank\" href=https://colab.research.google.com/notebooks/data_table.ipynb>data table notebook</a>'\n",
              "          + ' to learn more about interactive tables.';\n",
              "        element.innerHTML = '';\n",
              "        dataTable['output_type'] = 'display_data';\n",
              "        await google.colab.output.renderOutput(dataTable, element);\n",
              "        const docLink = document.createElement('div');\n",
              "        docLink.innerHTML = docLinkHtml;\n",
              "        element.appendChild(docLink);\n",
              "      }\n",
              "    </script>\n",
              "  </div>\n",
              "\n",
              "\n",
              "<div id=\"df-e7f1eb75-7d9e-4881-b3d5-0c98d0b35a9d\">\n",
              "  <button class=\"colab-df-quickchart\" onclick=\"quickchart('df-e7f1eb75-7d9e-4881-b3d5-0c98d0b35a9d')\"\n",
              "            title=\"Suggest charts\"\n",
              "            style=\"display:none;\">\n",
              "\n",
              "<svg xmlns=\"http://www.w3.org/2000/svg\" height=\"24px\"viewBox=\"0 0 24 24\"\n",
              "     width=\"24px\">\n",
              "    <g>\n",
              "        <path d=\"M19 3H5c-1.1 0-2 .9-2 2v14c0 1.1.9 2 2 2h14c1.1 0 2-.9 2-2V5c0-1.1-.9-2-2-2zM9 17H7v-7h2v7zm4 0h-2V7h2v10zm4 0h-2v-4h2v4z\"/>\n",
              "    </g>\n",
              "</svg>\n",
              "  </button>\n",
              "\n",
              "<style>\n",
              "  .colab-df-quickchart {\n",
              "      --bg-color: #E8F0FE;\n",
              "      --fill-color: #1967D2;\n",
              "      --hover-bg-color: #E2EBFA;\n",
              "      --hover-fill-color: #174EA6;\n",
              "      --disabled-fill-color: #AAA;\n",
              "      --disabled-bg-color: #DDD;\n",
              "  }\n",
              "\n",
              "  [theme=dark] .colab-df-quickchart {\n",
              "      --bg-color: #3B4455;\n",
              "      --fill-color: #D2E3FC;\n",
              "      --hover-bg-color: #434B5C;\n",
              "      --hover-fill-color: #FFFFFF;\n",
              "      --disabled-bg-color: #3B4455;\n",
              "      --disabled-fill-color: #666;\n",
              "  }\n",
              "\n",
              "  .colab-df-quickchart {\n",
              "    background-color: var(--bg-color);\n",
              "    border: none;\n",
              "    border-radius: 50%;\n",
              "    cursor: pointer;\n",
              "    display: none;\n",
              "    fill: var(--fill-color);\n",
              "    height: 32px;\n",
              "    padding: 0;\n",
              "    width: 32px;\n",
              "  }\n",
              "\n",
              "  .colab-df-quickchart:hover {\n",
              "    background-color: var(--hover-bg-color);\n",
              "    box-shadow: 0 1px 2px rgba(60, 64, 67, 0.3), 0 1px 3px 1px rgba(60, 64, 67, 0.15);\n",
              "    fill: var(--button-hover-fill-color);\n",
              "  }\n",
              "\n",
              "  .colab-df-quickchart-complete:disabled,\n",
              "  .colab-df-quickchart-complete:disabled:hover {\n",
              "    background-color: var(--disabled-bg-color);\n",
              "    fill: var(--disabled-fill-color);\n",
              "    box-shadow: none;\n",
              "  }\n",
              "\n",
              "  .colab-df-spinner {\n",
              "    border: 2px solid var(--fill-color);\n",
              "    border-color: transparent;\n",
              "    border-bottom-color: var(--fill-color);\n",
              "    animation:\n",
              "      spin 1s steps(1) infinite;\n",
              "  }\n",
              "\n",
              "  @keyframes spin {\n",
              "    0% {\n",
              "      border-color: transparent;\n",
              "      border-bottom-color: var(--fill-color);\n",
              "      border-left-color: var(--fill-color);\n",
              "    }\n",
              "    20% {\n",
              "      border-color: transparent;\n",
              "      border-left-color: var(--fill-color);\n",
              "      border-top-color: var(--fill-color);\n",
              "    }\n",
              "    30% {\n",
              "      border-color: transparent;\n",
              "      border-left-color: var(--fill-color);\n",
              "      border-top-color: var(--fill-color);\n",
              "      border-right-color: var(--fill-color);\n",
              "    }\n",
              "    40% {\n",
              "      border-color: transparent;\n",
              "      border-right-color: var(--fill-color);\n",
              "      border-top-color: var(--fill-color);\n",
              "    }\n",
              "    60% {\n",
              "      border-color: transparent;\n",
              "      border-right-color: var(--fill-color);\n",
              "    }\n",
              "    80% {\n",
              "      border-color: transparent;\n",
              "      border-right-color: var(--fill-color);\n",
              "      border-bottom-color: var(--fill-color);\n",
              "    }\n",
              "    90% {\n",
              "      border-color: transparent;\n",
              "      border-bottom-color: var(--fill-color);\n",
              "    }\n",
              "  }\n",
              "</style>\n",
              "\n",
              "  <script>\n",
              "    async function quickchart(key) {\n",
              "      const quickchartButtonEl =\n",
              "        document.querySelector('#' + key + ' button');\n",
              "      quickchartButtonEl.disabled = true;  // To prevent multiple clicks.\n",
              "      quickchartButtonEl.classList.add('colab-df-spinner');\n",
              "      try {\n",
              "        const charts = await google.colab.kernel.invokeFunction(\n",
              "            'suggestCharts', [key], {});\n",
              "      } catch (error) {\n",
              "        console.error('Error during call to suggestCharts:', error);\n",
              "      }\n",
              "      quickchartButtonEl.classList.remove('colab-df-spinner');\n",
              "      quickchartButtonEl.classList.add('colab-df-quickchart-complete');\n",
              "    }\n",
              "    (() => {\n",
              "      let quickchartButtonEl =\n",
              "        document.querySelector('#df-e7f1eb75-7d9e-4881-b3d5-0c98d0b35a9d button');\n",
              "      quickchartButtonEl.style.display =\n",
              "        google.colab.kernel.accessAllowed ? 'block' : 'none';\n",
              "    })();\n",
              "  </script>\n",
              "</div>\n",
              "    </div>\n",
              "  </div>\n"
            ]
          },
          "metadata": {}
        },
        {
          "output_type": "execute_result",
          "data": {
            "image/svg+xml": "<?xml version=\"1.0\" encoding=\"UTF-8\" standalone=\"no\"?>\n<!DOCTYPE svg PUBLIC \"-//W3C//DTD SVG 1.1//EN\"\n \"http://www.w3.org/Graphics/SVG/1.1/DTD/svg11.dtd\">\n<!-- Generated by graphviz version 2.43.0 (0)\n -->\n<!-- Title: %3 Pages: 1 -->\n<svg width=\"281pt\" height=\"131pt\"\n viewBox=\"0.00 0.00 280.59 130.55\" xmlns=\"http://www.w3.org/2000/svg\" xmlns:xlink=\"http://www.w3.org/1999/xlink\">\n<g id=\"graph0\" class=\"graph\" transform=\"scale(1 1) rotate(0) translate(4 126.55)\">\n<title>%3</title>\n<polygon fill=\"white\" stroke=\"transparent\" points=\"-4,4 -4,-126.55 276.59,-126.55 276.59,4 -4,4\"/>\n<!-- Initial -->\n<g id=\"node1\" class=\"node\">\n<title>Initial</title>\n<ellipse fill=\"black\" stroke=\"black\" cx=\"1.8\" cy=\"-55.05\" rx=\"1.8\" ry=\"1.8\"/>\n</g>\n<!-- q0 -->\n<g id=\"node2\" class=\"node\">\n<title>q0</title>\n<ellipse fill=\"none\" stroke=\"black\" cx=\"60.1\" cy=\"-55.05\" rx=\"19.5\" ry=\"19.5\"/>\n<text text-anchor=\"middle\" x=\"60.1\" y=\"-51.35\" font-family=\"Times,serif\" font-size=\"14.00\">q0</text>\n</g>\n<!-- Initial&#45;&gt;q0 -->\n<g id=\"edge1\" class=\"edge\">\n<title>Initial&#45;&gt;q0</title>\n<path fill=\"none\" stroke=\"black\" d=\"M3.78,-55.05C7.28,-55.05 19.64,-55.05 31.78,-55.05\"/>\n<polygon fill=\"black\" stroke=\"black\" points=\"31.96,-58.02 40.46,-55.05 31.96,-52.07 31.96,-58.02\"/>\n</g>\n<!-- q0&#45;&gt;q0 -->\n<g id=\"edge4\" class=\"edge\">\n<title>q0&#45;&gt;q0</title>\n<path fill=\"none\" stroke=\"#55ff00\" stroke-width=\"2.5\" d=\"M53.63,-73.57C52.53,-83.5 54.68,-92.55 60.1,-92.55 63.82,-92.55 66,-88.27 66.65,-82.37\"/>\n<polygon fill=\"#55ff00\" stroke=\"#55ff00\" stroke-width=\"2.5\" points=\"69.62,-82.04 66.57,-73.57 63.67,-82.1 69.62,-82.04\"/>\n<text text-anchor=\"middle\" x=\"60.1\" y=\"-111.35\" font-family=\"Times,serif\" font-size=\"14.00\"> [3]</text>\n<text text-anchor=\"middle\" x=\"60.1\" y=\"-96.35\" font-family=\"Times,serif\" font-size=\"14.00\">0 </text>\n</g>\n<!-- q1 -->\n<g id=\"node3\" class=\"node\">\n<title>q1</title>\n<ellipse fill=\"none\" stroke=\"black\" cx=\"159.09\" cy=\"-55.05\" rx=\"19.5\" ry=\"19.5\"/>\n<ellipse fill=\"none\" stroke=\"black\" cx=\"159.09\" cy=\"-55.05\" rx=\"23.5\" ry=\"23.5\"/>\n<text text-anchor=\"middle\" x=\"159.09\" y=\"-51.35\" font-family=\"Times,serif\" font-size=\"14.00\">q1</text>\n</g>\n<!-- q0&#45;&gt;q1 -->\n<g id=\"edge2\" class=\"edge\">\n<title>q0&#45;&gt;q1</title>\n<path fill=\"none\" stroke=\"#ffff00\" stroke-width=\"2.5\" d=\"M73.45,-69.41C79.91,-75.82 88.39,-82.67 97.6,-86.05 105.94,-89.11 109.18,-88.9 117.6,-86.05 123.71,-83.98 129.62,-80.57 134.96,-76.76\"/>\n<polygon fill=\"#ffff00\" stroke=\"#ffff00\" stroke-width=\"2.5\" points=\"136.96,-78.98 141.83,-71.4 133.3,-74.28 136.96,-78.98\"/>\n<text text-anchor=\"middle\" x=\"107.6\" y=\"-106.85\" font-family=\"Times,serif\" font-size=\"14.00\"> [1]</text>\n<text text-anchor=\"middle\" x=\"107.6\" y=\"-91.85\" font-family=\"Times,serif\" font-size=\"14.00\">1 </text>\n</g>\n<!-- q0&#45;&gt;q1 -->\n<g id=\"edge5\" class=\"edge\">\n<title>q0&#45;&gt;q1</title>\n<path fill=\"none\" stroke=\"#00ff00\" stroke-width=\"2.5\" d=\"M79.65,-53.23C85.39,-52.74 91.75,-52.29 97.6,-52.05 107.07,-51.66 117.38,-51.92 126.76,-52.41\"/>\n<polygon fill=\"#00ff00\" stroke=\"#00ff00\" stroke-width=\"2.5\" points=\"126.74,-55.39 135.4,-52.95 127.1,-49.45 126.74,-55.39\"/>\n<text text-anchor=\"middle\" x=\"107.6\" y=\"-70.85\" font-family=\"Times,serif\" font-size=\"14.00\"> [4]</text>\n<text text-anchor=\"middle\" x=\"107.6\" y=\"-55.85\" font-family=\"Times,serif\" font-size=\"14.00\">1 </text>\n</g>\n<!-- q1&#45;&gt;q0 -->\n<g id=\"edge3\" class=\"edge\">\n<title>q1&#45;&gt;q0</title>\n<path fill=\"none\" stroke=\"#aaff00\" stroke-width=\"2.5\" d=\"M147.46,-34.63C136.21,-15.98 117.38,7.24 97.6,-3.05 86.68,-8.72 78.35,-19.33 72.42,-29.49\"/>\n<polygon fill=\"#aaff00\" stroke=\"#aaff00\" stroke-width=\"2.5\" points=\"69.74,-28.18 68.35,-37.08 74.99,-30.99 69.74,-28.18\"/>\n<text text-anchor=\"middle\" x=\"107.6\" y=\"-21.85\" font-family=\"Times,serif\" font-size=\"14.00\"> [2]</text>\n<text text-anchor=\"middle\" x=\"107.6\" y=\"-6.85\" font-family=\"Times,serif\" font-size=\"14.00\">0 </text>\n</g>\n<!-- q2 -->\n<g id=\"node4\" class=\"node\">\n<title>q2</title>\n<ellipse fill=\"none\" stroke=\"black\" cx=\"253.09\" cy=\"-55.05\" rx=\"19.5\" ry=\"19.5\"/>\n<text text-anchor=\"middle\" x=\"253.09\" y=\"-51.35\" font-family=\"Times,serif\" font-size=\"14.00\">q2</text>\n</g>\n<!-- q1&#45;&gt;q2 -->\n<g id=\"edge6\" class=\"edge\">\n<title>q1&#45;&gt;q2</title>\n<path fill=\"none\" stroke=\"black\" d=\"M182.84,-55.05C195.46,-55.05 211.25,-55.05 224.57,-55.05\"/>\n<polygon fill=\"black\" stroke=\"black\" points=\"224.83,-58.02 233.33,-55.05 224.83,-52.07 224.83,-58.02\"/>\n<text text-anchor=\"middle\" x=\"208.09\" y=\"-58.85\" font-family=\"Times,serif\" font-size=\"14.00\"> 1 </text>\n</g>\n<!-- q2&#45;&gt;q1 -->\n<g id=\"edge8\" class=\"edge\">\n<title>q2&#45;&gt;q1</title>\n<path fill=\"none\" stroke=\"black\" d=\"M236.4,-44.78C230.19,-41.28 222.81,-37.81 215.59,-36.05 206.2,-33.75 196.14,-35.77 187.2,-39.22\"/>\n<polygon fill=\"black\" stroke=\"black\" points=\"185.92,-36.54 179.36,-42.71 188.34,-41.97 185.92,-36.54\"/>\n<text text-anchor=\"middle\" x=\"208.09\" y=\"-39.85\" font-family=\"Times,serif\" font-size=\"14.00\"> 1 </text>\n</g>\n<!-- q2&#45;&gt;q2 -->\n<g id=\"edge7\" class=\"edge\">\n<title>q2&#45;&gt;q2</title>\n<path fill=\"none\" stroke=\"black\" d=\"M245.24,-73.18C243.77,-83.26 246.39,-92.55 253.09,-92.55 257.8,-92.55 260.5,-87.96 261.17,-81.73\"/>\n<polygon fill=\"black\" stroke=\"black\" points=\"264.15,-81.6 260.95,-73.18 258.2,-81.76 264.15,-81.6\"/>\n<text text-anchor=\"middle\" x=\"253.09\" y=\"-96.35\" font-family=\"Times,serif\" font-size=\"14.00\"> 0 </text>\n</g>\n</g>\n</svg>\n",
            "text/plain": [
              "<graphviz.graphs.Digraph at 0x7d153d3f5810>"
            ]
          },
          "metadata": {},
          "execution_count": 9
        }
      ],
      "source": [
        "#Using the show_diagram method you can display the DFA\n",
        "new_dfa.show_diagram(\"1001\")"
      ]
    },
    {
      "cell_type": "code",
      "execution_count": null,
      "metadata": {
        "id": "ZH6YKQ1vGjZj",
        "colab": {
          "base_uri": "https://localhost:8080/",
          "height": 143
        },
        "outputId": "1744b530-b5ce-4272-85dd-70a4e28f694e"
      },
      "outputs": [
        {
          "output_type": "execute_result",
          "data": {
            "text/plain": [
              "      0    1\n",
              "→q0  q0  *q1\n",
              "*q1  q0   q2\n",
              "q2   q2  *q1"
            ],
            "text/html": [
              "\n",
              "  <div id=\"df-cd6be5fe-5abd-49e5-961b-eb98c38ba9c6\" class=\"colab-df-container\">\n",
              "    <div>\n",
              "<style scoped>\n",
              "    .dataframe tbody tr th:only-of-type {\n",
              "        vertical-align: middle;\n",
              "    }\n",
              "\n",
              "    .dataframe tbody tr th {\n",
              "        vertical-align: top;\n",
              "    }\n",
              "\n",
              "    .dataframe thead th {\n",
              "        text-align: right;\n",
              "    }\n",
              "</style>\n",
              "<table border=\"1\" class=\"dataframe\">\n",
              "  <thead>\n",
              "    <tr style=\"text-align: right;\">\n",
              "      <th></th>\n",
              "      <th>0</th>\n",
              "      <th>1</th>\n",
              "    </tr>\n",
              "  </thead>\n",
              "  <tbody>\n",
              "    <tr>\n",
              "      <th>→q0</th>\n",
              "      <td>q0</td>\n",
              "      <td>*q1</td>\n",
              "    </tr>\n",
              "    <tr>\n",
              "      <th>*q1</th>\n",
              "      <td>q0</td>\n",
              "      <td>q2</td>\n",
              "    </tr>\n",
              "    <tr>\n",
              "      <th>q2</th>\n",
              "      <td>q2</td>\n",
              "      <td>*q1</td>\n",
              "    </tr>\n",
              "  </tbody>\n",
              "</table>\n",
              "</div>\n",
              "    <div class=\"colab-df-buttons\">\n",
              "\n",
              "  <div class=\"colab-df-container\">\n",
              "    <button class=\"colab-df-convert\" onclick=\"convertToInteractive('df-cd6be5fe-5abd-49e5-961b-eb98c38ba9c6')\"\n",
              "            title=\"Convert this dataframe to an interactive table.\"\n",
              "            style=\"display:none;\">\n",
              "\n",
              "  <svg xmlns=\"http://www.w3.org/2000/svg\" height=\"24px\" viewBox=\"0 -960 960 960\">\n",
              "    <path d=\"M120-120v-720h720v720H120Zm60-500h600v-160H180v160Zm220 220h160v-160H400v160Zm0 220h160v-160H400v160ZM180-400h160v-160H180v160Zm440 0h160v-160H620v160ZM180-180h160v-160H180v160Zm440 0h160v-160H620v160Z\"/>\n",
              "  </svg>\n",
              "    </button>\n",
              "\n",
              "  <style>\n",
              "    .colab-df-container {\n",
              "      display:flex;\n",
              "      gap: 12px;\n",
              "    }\n",
              "\n",
              "    .colab-df-convert {\n",
              "      background-color: #E8F0FE;\n",
              "      border: none;\n",
              "      border-radius: 50%;\n",
              "      cursor: pointer;\n",
              "      display: none;\n",
              "      fill: #1967D2;\n",
              "      height: 32px;\n",
              "      padding: 0 0 0 0;\n",
              "      width: 32px;\n",
              "    }\n",
              "\n",
              "    .colab-df-convert:hover {\n",
              "      background-color: #E2EBFA;\n",
              "      box-shadow: 0px 1px 2px rgba(60, 64, 67, 0.3), 0px 1px 3px 1px rgba(60, 64, 67, 0.15);\n",
              "      fill: #174EA6;\n",
              "    }\n",
              "\n",
              "    .colab-df-buttons div {\n",
              "      margin-bottom: 4px;\n",
              "    }\n",
              "\n",
              "    [theme=dark] .colab-df-convert {\n",
              "      background-color: #3B4455;\n",
              "      fill: #D2E3FC;\n",
              "    }\n",
              "\n",
              "    [theme=dark] .colab-df-convert:hover {\n",
              "      background-color: #434B5C;\n",
              "      box-shadow: 0px 1px 3px 1px rgba(0, 0, 0, 0.15);\n",
              "      filter: drop-shadow(0px 1px 2px rgba(0, 0, 0, 0.3));\n",
              "      fill: #FFFFFF;\n",
              "    }\n",
              "  </style>\n",
              "\n",
              "    <script>\n",
              "      const buttonEl =\n",
              "        document.querySelector('#df-cd6be5fe-5abd-49e5-961b-eb98c38ba9c6 button.colab-df-convert');\n",
              "      buttonEl.style.display =\n",
              "        google.colab.kernel.accessAllowed ? 'block' : 'none';\n",
              "\n",
              "      async function convertToInteractive(key) {\n",
              "        const element = document.querySelector('#df-cd6be5fe-5abd-49e5-961b-eb98c38ba9c6');\n",
              "        const dataTable =\n",
              "          await google.colab.kernel.invokeFunction('convertToInteractive',\n",
              "                                                    [key], {});\n",
              "        if (!dataTable) return;\n",
              "\n",
              "        const docLinkHtml = 'Like what you see? Visit the ' +\n",
              "          '<a target=\"_blank\" href=https://colab.research.google.com/notebooks/data_table.ipynb>data table notebook</a>'\n",
              "          + ' to learn more about interactive tables.';\n",
              "        element.innerHTML = '';\n",
              "        dataTable['output_type'] = 'display_data';\n",
              "        await google.colab.output.renderOutput(dataTable, element);\n",
              "        const docLink = document.createElement('div');\n",
              "        docLink.innerHTML = docLinkHtml;\n",
              "        element.appendChild(docLink);\n",
              "      }\n",
              "    </script>\n",
              "  </div>\n",
              "\n",
              "\n",
              "<div id=\"df-a6965985-50a2-44b3-b082-6081dab28909\">\n",
              "  <button class=\"colab-df-quickchart\" onclick=\"quickchart('df-a6965985-50a2-44b3-b082-6081dab28909')\"\n",
              "            title=\"Suggest charts\"\n",
              "            style=\"display:none;\">\n",
              "\n",
              "<svg xmlns=\"http://www.w3.org/2000/svg\" height=\"24px\"viewBox=\"0 0 24 24\"\n",
              "     width=\"24px\">\n",
              "    <g>\n",
              "        <path d=\"M19 3H5c-1.1 0-2 .9-2 2v14c0 1.1.9 2 2 2h14c1.1 0 2-.9 2-2V5c0-1.1-.9-2-2-2zM9 17H7v-7h2v7zm4 0h-2V7h2v10zm4 0h-2v-4h2v4z\"/>\n",
              "    </g>\n",
              "</svg>\n",
              "  </button>\n",
              "\n",
              "<style>\n",
              "  .colab-df-quickchart {\n",
              "      --bg-color: #E8F0FE;\n",
              "      --fill-color: #1967D2;\n",
              "      --hover-bg-color: #E2EBFA;\n",
              "      --hover-fill-color: #174EA6;\n",
              "      --disabled-fill-color: #AAA;\n",
              "      --disabled-bg-color: #DDD;\n",
              "  }\n",
              "\n",
              "  [theme=dark] .colab-df-quickchart {\n",
              "      --bg-color: #3B4455;\n",
              "      --fill-color: #D2E3FC;\n",
              "      --hover-bg-color: #434B5C;\n",
              "      --hover-fill-color: #FFFFFF;\n",
              "      --disabled-bg-color: #3B4455;\n",
              "      --disabled-fill-color: #666;\n",
              "  }\n",
              "\n",
              "  .colab-df-quickchart {\n",
              "    background-color: var(--bg-color);\n",
              "    border: none;\n",
              "    border-radius: 50%;\n",
              "    cursor: pointer;\n",
              "    display: none;\n",
              "    fill: var(--fill-color);\n",
              "    height: 32px;\n",
              "    padding: 0;\n",
              "    width: 32px;\n",
              "  }\n",
              "\n",
              "  .colab-df-quickchart:hover {\n",
              "    background-color: var(--hover-bg-color);\n",
              "    box-shadow: 0 1px 2px rgba(60, 64, 67, 0.3), 0 1px 3px 1px rgba(60, 64, 67, 0.15);\n",
              "    fill: var(--button-hover-fill-color);\n",
              "  }\n",
              "\n",
              "  .colab-df-quickchart-complete:disabled,\n",
              "  .colab-df-quickchart-complete:disabled:hover {\n",
              "    background-color: var(--disabled-bg-color);\n",
              "    fill: var(--disabled-fill-color);\n",
              "    box-shadow: none;\n",
              "  }\n",
              "\n",
              "  .colab-df-spinner {\n",
              "    border: 2px solid var(--fill-color);\n",
              "    border-color: transparent;\n",
              "    border-bottom-color: var(--fill-color);\n",
              "    animation:\n",
              "      spin 1s steps(1) infinite;\n",
              "  }\n",
              "\n",
              "  @keyframes spin {\n",
              "    0% {\n",
              "      border-color: transparent;\n",
              "      border-bottom-color: var(--fill-color);\n",
              "      border-left-color: var(--fill-color);\n",
              "    }\n",
              "    20% {\n",
              "      border-color: transparent;\n",
              "      border-left-color: var(--fill-color);\n",
              "      border-top-color: var(--fill-color);\n",
              "    }\n",
              "    30% {\n",
              "      border-color: transparent;\n",
              "      border-left-color: var(--fill-color);\n",
              "      border-top-color: var(--fill-color);\n",
              "      border-right-color: var(--fill-color);\n",
              "    }\n",
              "    40% {\n",
              "      border-color: transparent;\n",
              "      border-right-color: var(--fill-color);\n",
              "      border-top-color: var(--fill-color);\n",
              "    }\n",
              "    60% {\n",
              "      border-color: transparent;\n",
              "      border-right-color: var(--fill-color);\n",
              "    }\n",
              "    80% {\n",
              "      border-color: transparent;\n",
              "      border-right-color: var(--fill-color);\n",
              "      border-bottom-color: var(--fill-color);\n",
              "    }\n",
              "    90% {\n",
              "      border-color: transparent;\n",
              "      border-bottom-color: var(--fill-color);\n",
              "    }\n",
              "  }\n",
              "</style>\n",
              "\n",
              "  <script>\n",
              "    async function quickchart(key) {\n",
              "      const quickchartButtonEl =\n",
              "        document.querySelector('#' + key + ' button');\n",
              "      quickchartButtonEl.disabled = true;  // To prevent multiple clicks.\n",
              "      quickchartButtonEl.classList.add('colab-df-spinner');\n",
              "      try {\n",
              "        const charts = await google.colab.kernel.invokeFunction(\n",
              "            'suggestCharts', [key], {});\n",
              "      } catch (error) {\n",
              "        console.error('Error during call to suggestCharts:', error);\n",
              "      }\n",
              "      quickchartButtonEl.classList.remove('colab-df-spinner');\n",
              "      quickchartButtonEl.classList.add('colab-df-quickchart-complete');\n",
              "    }\n",
              "    (() => {\n",
              "      let quickchartButtonEl =\n",
              "        document.querySelector('#df-a6965985-50a2-44b3-b082-6081dab28909 button');\n",
              "      quickchartButtonEl.style.display =\n",
              "        google.colab.kernel.accessAllowed ? 'block' : 'none';\n",
              "    })();\n",
              "  </script>\n",
              "</div>\n",
              "    </div>\n",
              "  </div>\n"
            ]
          },
          "metadata": {},
          "execution_count": 10
        }
      ],
      "source": [
        "#And show the transition table\n",
        "new_dfa.table"
      ]
    },
    {
      "cell_type": "markdown",
      "metadata": {
        "id": "OE9ualHYGvnI"
      },
      "source": [
        "**(7) TODO Explain what does the previous automata. Use the following function to ilustrate some inputs**\n",
        "\n",
        "\n",
        "```\n",
        "new_dfa.input_check(\"1001\")\n",
        "```\n",
        "\n",
        "\n"
      ]
    },
    {
      "cell_type": "code",
      "execution_count": null,
      "metadata": {
        "id": "Ke7wB9rAPkAn",
        "colab": {
          "base_uri": "https://localhost:8080/",
          "height": 206
        },
        "outputId": "d39ad860-d2a8-43d8-87a4-985ee1ff96e4"
      },
      "outputs": [
        {
          "output_type": "execute_result",
          "data": {
            "text/plain": [
              "          [Accepted]                         \n",
              "Step: Current state: Input symbol: New state:\n",
              "1                →q0             1        *q1\n",
              "2                *q1             0        →q0\n",
              "3                →q0             0        →q0\n",
              "4                →q0             1        *q1"
            ],
            "text/html": [
              "\n",
              "  <div id=\"df-b0a125ee-d6f8-460a-afc5-188741aaa77b\" class=\"colab-df-container\">\n",
              "    <div>\n",
              "<style scoped>\n",
              "    .dataframe tbody tr th:only-of-type {\n",
              "        vertical-align: middle;\n",
              "    }\n",
              "\n",
              "    .dataframe tbody tr th {\n",
              "        vertical-align: top;\n",
              "    }\n",
              "\n",
              "    .dataframe thead tr th {\n",
              "        text-align: left;\n",
              "    }\n",
              "</style>\n",
              "<table border=\"1\" class=\"dataframe\">\n",
              "  <thead>\n",
              "    <tr>\n",
              "      <th></th>\n",
              "      <th colspan=\"3\" halign=\"left\">[Accepted]</th>\n",
              "    </tr>\n",
              "    <tr>\n",
              "      <th>Step:</th>\n",
              "      <th>Current state:</th>\n",
              "      <th>Input symbol:</th>\n",
              "      <th>New state:</th>\n",
              "    </tr>\n",
              "  </thead>\n",
              "  <tbody>\n",
              "    <tr>\n",
              "      <th>1</th>\n",
              "      <td>→q0</td>\n",
              "      <td>1</td>\n",
              "      <td>*q1</td>\n",
              "    </tr>\n",
              "    <tr>\n",
              "      <th>2</th>\n",
              "      <td>*q1</td>\n",
              "      <td>0</td>\n",
              "      <td>→q0</td>\n",
              "    </tr>\n",
              "    <tr>\n",
              "      <th>3</th>\n",
              "      <td>→q0</td>\n",
              "      <td>0</td>\n",
              "      <td>→q0</td>\n",
              "    </tr>\n",
              "    <tr>\n",
              "      <th>4</th>\n",
              "      <td>→q0</td>\n",
              "      <td>1</td>\n",
              "      <td>*q1</td>\n",
              "    </tr>\n",
              "  </tbody>\n",
              "</table>\n",
              "</div>\n",
              "    <div class=\"colab-df-buttons\">\n",
              "\n",
              "  <div class=\"colab-df-container\">\n",
              "    <button class=\"colab-df-convert\" onclick=\"convertToInteractive('df-b0a125ee-d6f8-460a-afc5-188741aaa77b')\"\n",
              "            title=\"Convert this dataframe to an interactive table.\"\n",
              "            style=\"display:none;\">\n",
              "\n",
              "  <svg xmlns=\"http://www.w3.org/2000/svg\" height=\"24px\" viewBox=\"0 -960 960 960\">\n",
              "    <path d=\"M120-120v-720h720v720H120Zm60-500h600v-160H180v160Zm220 220h160v-160H400v160Zm0 220h160v-160H400v160ZM180-400h160v-160H180v160Zm440 0h160v-160H620v160ZM180-180h160v-160H180v160Zm440 0h160v-160H620v160Z\"/>\n",
              "  </svg>\n",
              "    </button>\n",
              "\n",
              "  <style>\n",
              "    .colab-df-container {\n",
              "      display:flex;\n",
              "      gap: 12px;\n",
              "    }\n",
              "\n",
              "    .colab-df-convert {\n",
              "      background-color: #E8F0FE;\n",
              "      border: none;\n",
              "      border-radius: 50%;\n",
              "      cursor: pointer;\n",
              "      display: none;\n",
              "      fill: #1967D2;\n",
              "      height: 32px;\n",
              "      padding: 0 0 0 0;\n",
              "      width: 32px;\n",
              "    }\n",
              "\n",
              "    .colab-df-convert:hover {\n",
              "      background-color: #E2EBFA;\n",
              "      box-shadow: 0px 1px 2px rgba(60, 64, 67, 0.3), 0px 1px 3px 1px rgba(60, 64, 67, 0.15);\n",
              "      fill: #174EA6;\n",
              "    }\n",
              "\n",
              "    .colab-df-buttons div {\n",
              "      margin-bottom: 4px;\n",
              "    }\n",
              "\n",
              "    [theme=dark] .colab-df-convert {\n",
              "      background-color: #3B4455;\n",
              "      fill: #D2E3FC;\n",
              "    }\n",
              "\n",
              "    [theme=dark] .colab-df-convert:hover {\n",
              "      background-color: #434B5C;\n",
              "      box-shadow: 0px 1px 3px 1px rgba(0, 0, 0, 0.15);\n",
              "      filter: drop-shadow(0px 1px 2px rgba(0, 0, 0, 0.3));\n",
              "      fill: #FFFFFF;\n",
              "    }\n",
              "  </style>\n",
              "\n",
              "    <script>\n",
              "      const buttonEl =\n",
              "        document.querySelector('#df-b0a125ee-d6f8-460a-afc5-188741aaa77b button.colab-df-convert');\n",
              "      buttonEl.style.display =\n",
              "        google.colab.kernel.accessAllowed ? 'block' : 'none';\n",
              "\n",
              "      async function convertToInteractive(key) {\n",
              "        const element = document.querySelector('#df-b0a125ee-d6f8-460a-afc5-188741aaa77b');\n",
              "        const dataTable =\n",
              "          await google.colab.kernel.invokeFunction('convertToInteractive',\n",
              "                                                    [key], {});\n",
              "        if (!dataTable) return;\n",
              "\n",
              "        const docLinkHtml = 'Like what you see? Visit the ' +\n",
              "          '<a target=\"_blank\" href=https://colab.research.google.com/notebooks/data_table.ipynb>data table notebook</a>'\n",
              "          + ' to learn more about interactive tables.';\n",
              "        element.innerHTML = '';\n",
              "        dataTable['output_type'] = 'display_data';\n",
              "        await google.colab.output.renderOutput(dataTable, element);\n",
              "        const docLink = document.createElement('div');\n",
              "        docLink.innerHTML = docLinkHtml;\n",
              "        element.appendChild(docLink);\n",
              "      }\n",
              "    </script>\n",
              "  </div>\n",
              "\n",
              "\n",
              "<div id=\"df-f1820412-a449-46a9-8a5e-d4e434f354f5\">\n",
              "  <button class=\"colab-df-quickchart\" onclick=\"quickchart('df-f1820412-a449-46a9-8a5e-d4e434f354f5')\"\n",
              "            title=\"Suggest charts\"\n",
              "            style=\"display:none;\">\n",
              "\n",
              "<svg xmlns=\"http://www.w3.org/2000/svg\" height=\"24px\"viewBox=\"0 0 24 24\"\n",
              "     width=\"24px\">\n",
              "    <g>\n",
              "        <path d=\"M19 3H5c-1.1 0-2 .9-2 2v14c0 1.1.9 2 2 2h14c1.1 0 2-.9 2-2V5c0-1.1-.9-2-2-2zM9 17H7v-7h2v7zm4 0h-2V7h2v10zm4 0h-2v-4h2v4z\"/>\n",
              "    </g>\n",
              "</svg>\n",
              "  </button>\n",
              "\n",
              "<style>\n",
              "  .colab-df-quickchart {\n",
              "      --bg-color: #E8F0FE;\n",
              "      --fill-color: #1967D2;\n",
              "      --hover-bg-color: #E2EBFA;\n",
              "      --hover-fill-color: #174EA6;\n",
              "      --disabled-fill-color: #AAA;\n",
              "      --disabled-bg-color: #DDD;\n",
              "  }\n",
              "\n",
              "  [theme=dark] .colab-df-quickchart {\n",
              "      --bg-color: #3B4455;\n",
              "      --fill-color: #D2E3FC;\n",
              "      --hover-bg-color: #434B5C;\n",
              "      --hover-fill-color: #FFFFFF;\n",
              "      --disabled-bg-color: #3B4455;\n",
              "      --disabled-fill-color: #666;\n",
              "  }\n",
              "\n",
              "  .colab-df-quickchart {\n",
              "    background-color: var(--bg-color);\n",
              "    border: none;\n",
              "    border-radius: 50%;\n",
              "    cursor: pointer;\n",
              "    display: none;\n",
              "    fill: var(--fill-color);\n",
              "    height: 32px;\n",
              "    padding: 0;\n",
              "    width: 32px;\n",
              "  }\n",
              "\n",
              "  .colab-df-quickchart:hover {\n",
              "    background-color: var(--hover-bg-color);\n",
              "    box-shadow: 0 1px 2px rgba(60, 64, 67, 0.3), 0 1px 3px 1px rgba(60, 64, 67, 0.15);\n",
              "    fill: var(--button-hover-fill-color);\n",
              "  }\n",
              "\n",
              "  .colab-df-quickchart-complete:disabled,\n",
              "  .colab-df-quickchart-complete:disabled:hover {\n",
              "    background-color: var(--disabled-bg-color);\n",
              "    fill: var(--disabled-fill-color);\n",
              "    box-shadow: none;\n",
              "  }\n",
              "\n",
              "  .colab-df-spinner {\n",
              "    border: 2px solid var(--fill-color);\n",
              "    border-color: transparent;\n",
              "    border-bottom-color: var(--fill-color);\n",
              "    animation:\n",
              "      spin 1s steps(1) infinite;\n",
              "  }\n",
              "\n",
              "  @keyframes spin {\n",
              "    0% {\n",
              "      border-color: transparent;\n",
              "      border-bottom-color: var(--fill-color);\n",
              "      border-left-color: var(--fill-color);\n",
              "    }\n",
              "    20% {\n",
              "      border-color: transparent;\n",
              "      border-left-color: var(--fill-color);\n",
              "      border-top-color: var(--fill-color);\n",
              "    }\n",
              "    30% {\n",
              "      border-color: transparent;\n",
              "      border-left-color: var(--fill-color);\n",
              "      border-top-color: var(--fill-color);\n",
              "      border-right-color: var(--fill-color);\n",
              "    }\n",
              "    40% {\n",
              "      border-color: transparent;\n",
              "      border-right-color: var(--fill-color);\n",
              "      border-top-color: var(--fill-color);\n",
              "    }\n",
              "    60% {\n",
              "      border-color: transparent;\n",
              "      border-right-color: var(--fill-color);\n",
              "    }\n",
              "    80% {\n",
              "      border-color: transparent;\n",
              "      border-right-color: var(--fill-color);\n",
              "      border-bottom-color: var(--fill-color);\n",
              "    }\n",
              "    90% {\n",
              "      border-color: transparent;\n",
              "      border-bottom-color: var(--fill-color);\n",
              "    }\n",
              "  }\n",
              "</style>\n",
              "\n",
              "  <script>\n",
              "    async function quickchart(key) {\n",
              "      const quickchartButtonEl =\n",
              "        document.querySelector('#' + key + ' button');\n",
              "      quickchartButtonEl.disabled = true;  // To prevent multiple clicks.\n",
              "      quickchartButtonEl.classList.add('colab-df-spinner');\n",
              "      try {\n",
              "        const charts = await google.colab.kernel.invokeFunction(\n",
              "            'suggestCharts', [key], {});\n",
              "      } catch (error) {\n",
              "        console.error('Error during call to suggestCharts:', error);\n",
              "      }\n",
              "      quickchartButtonEl.classList.remove('colab-df-spinner');\n",
              "      quickchartButtonEl.classList.add('colab-df-quickchart-complete');\n",
              "    }\n",
              "    (() => {\n",
              "      let quickchartButtonEl =\n",
              "        document.querySelector('#df-f1820412-a449-46a9-8a5e-d4e434f354f5 button');\n",
              "      quickchartButtonEl.style.display =\n",
              "        google.colab.kernel.accessAllowed ? 'block' : 'none';\n",
              "    })();\n",
              "  </script>\n",
              "</div>\n",
              "    </div>\n",
              "  </div>\n"
            ]
          },
          "metadata": {},
          "execution_count": 11
        }
      ],
      "source": [
        "new_dfa.input_check(\"1001\")"
      ]
    },
    {
      "cell_type": "markdown",
      "metadata": {
        "id": "_3vak59yF2tO"
      },
      "source": [
        "If we generate the GNFA and remove nodes, we get an equivalent RE of: (0+1(10\\*1)0)\\*1(10\\*1)\\*. It has too many conditions to describe it accurately with words."
      ]
    },
    {
      "cell_type": "markdown",
      "metadata": {
        "id": "FGwOf-m2IagG"
      },
      "source": [
        "**(8) TODO Generate the minimal of the previous DFA, use the function print to see the result. How many states has the resulting DFA?**\n",
        "\n",
        "\n",
        "\n"
      ]
    },
    {
      "cell_type": "code",
      "execution_count": null,
      "metadata": {
        "id": "DPQEEN5nF2tO",
        "colab": {
          "base_uri": "https://localhost:8080/"
        },
        "outputId": "f315cff3-1fad-4889-a646-0ad260a8f654"
      },
      "outputs": [
        {
          "output_type": "stream",
          "name": "stdout",
          "text": [
            "DFA(states={frozenset({'q1'}), frozenset({'q0', 'q2'})}, input_symbols={'1', '0'}, transitions={frozenset({'q0', 'q2'}): {'0': {'q0', 'q2'}, '1': {'q1'}}, frozenset({'q1'}): {'0': {'q0', 'q2'}, '1': {'q0', 'q2'}}}, initial_state={'q0', 'q2'}, final_states={frozenset({'q1'})}, allow_partial=False)\n"
          ]
        }
      ],
      "source": [
        "minimal = my_dfa.minify(retain_names=True)\n",
        "print(minimal)"
      ]
    },
    {
      "cell_type": "markdown",
      "metadata": {
        "id": "vMI0WGo6F2tP"
      },
      "source": [
        "The resulting DFA has two states, {'q0', 'q2'} and {'q1'}."
      ]
    },
    {
      "cell_type": "markdown",
      "metadata": {
        "id": "8a1Q1rtUKFk1"
      },
      "source": [
        "**(9) TODO Generate the complement of the DFA, use the function print to see the resulting DFA and check some values.**\n"
      ]
    },
    {
      "cell_type": "code",
      "execution_count": null,
      "metadata": {
        "id": "k6yXiDivF2tP",
        "colab": {
          "base_uri": "https://localhost:8080/",
          "height": 144
        },
        "outputId": "0c55d221-7b4c-4e0e-dcf4-d9c52ee3efc1"
      },
      "outputs": [
        {
          "output_type": "execute_result",
          "data": {
            "image/svg+xml": "<?xml version=\"1.0\" encoding=\"UTF-8\" standalone=\"no\"?>\n<!DOCTYPE svg PUBLIC \"-//W3C//DTD SVG 1.1//EN\"\n \"http://www.w3.org/Graphics/SVG/1.1/DTD/svg11.dtd\">\n<!-- Generated by graphviz version 2.43.0 (0)\n -->\n<!-- Pages: 1 -->\n<svg width=\"272pt\" height=\"92pt\"\n viewBox=\"0.00 0.00 271.59 92.00\" xmlns=\"http://www.w3.org/2000/svg\" xmlns:xlink=\"http://www.w3.org/1999/xlink\">\n<g id=\"graph0\" class=\"graph\" transform=\"scale(1 1) rotate(0) translate(4 88)\">\n<polygon fill=\"white\" stroke=\"transparent\" points=\"-4,4 -4,-88 267.59,-88 267.59,4 -4,4\"/>\n<!-- bc1274f6&#45;24bc&#45;4a49&#45;bd13&#45;3933a8cc4900 -->\n<g id=\"node1\" class=\"node\">\n<title>bc1274f6&#45;24bc&#45;4a49&#45;bd13&#45;3933a8cc4900</title>\n<g id=\"a_node1\"><a xlink:title=\".\">\n<ellipse fill=\"black\" stroke=\"black\" cx=\"1.8\" cy=\"-27.5\" rx=\"1.8\" ry=\"1.8\"/>\n</a>\n</g>\n</g>\n<!-- q0 -->\n<g id=\"node2\" class=\"node\">\n<title>q0</title>\n<ellipse fill=\"none\" stroke=\"black\" cx=\"64.1\" cy=\"-27.5\" rx=\"23.5\" ry=\"23.5\"/>\n<ellipse fill=\"none\" stroke=\"black\" cx=\"64.1\" cy=\"-27.5\" rx=\"27.5\" ry=\"27.5\"/>\n<text text-anchor=\"middle\" x=\"64.1\" y=\"-23.8\" font-family=\"Times,serif\" font-size=\"14.00\">q0</text>\n</g>\n<!-- bc1274f6&#45;24bc&#45;4a49&#45;bd13&#45;3933a8cc4900&#45;&gt;q0 -->\n<g id=\"edge1\" class=\"edge\">\n<title>bc1274f6&#45;24bc&#45;4a49&#45;bd13&#45;3933a8cc4900&#45;&gt;q0</title>\n<g id=\"a_edge1\"><a xlink:title=\"&#45;&gt;q0\">\n<path fill=\"none\" stroke=\"black\" d=\"M3.85,-27.5C7.37,-27.5 19.27,-27.5 31.48,-27.5\"/>\n<polygon fill=\"black\" stroke=\"black\" points=\"31.82,-30.48 40.32,-27.5 31.82,-24.53 31.82,-30.48\"/>\n</a>\n</g>\n</g>\n<!-- q0&#45;&gt;q0 -->\n<g id=\"edge2\" class=\"edge\">\n<title>q0&#45;&gt;q0</title>\n<path fill=\"none\" stroke=\"black\" d=\"M56.72,-50.12C56.01,-60.25 58.47,-69 64.1,-69 67.97,-69 70.34,-64.86 71.21,-58.99\"/>\n<polygon fill=\"black\" stroke=\"black\" points=\"74.2,-58.71 71.48,-50.12 68.25,-58.53 74.2,-58.71\"/>\n<text text-anchor=\"middle\" x=\"64.1\" y=\"-72.8\" font-family=\"Times,serif\" font-size=\"14.00\">0</text>\n</g>\n<!-- q1 -->\n<g id=\"node3\" class=\"node\">\n<title>q1</title>\n<ellipse fill=\"none\" stroke=\"black\" cx=\"150.09\" cy=\"-27.5\" rx=\"19.5\" ry=\"19.5\"/>\n<text text-anchor=\"middle\" x=\"150.09\" y=\"-23.8\" font-family=\"Times,serif\" font-size=\"14.00\">q1</text>\n</g>\n<!-- q0&#45;&gt;q1 -->\n<g id=\"edge3\" class=\"edge\">\n<title>q0&#45;&gt;q1</title>\n<path fill=\"none\" stroke=\"black\" d=\"M87.61,-27.5C98.09,-27.5 110.64,-27.5 121.67,-27.5\"/>\n<polygon fill=\"black\" stroke=\"black\" points=\"122,-30.48 130.5,-27.5 122,-24.53 122,-30.48\"/>\n<text text-anchor=\"middle\" x=\"109.1\" y=\"-31.3\" font-family=\"Times,serif\" font-size=\"14.00\">1</text>\n</g>\n<!-- q1&#45;&gt;q0 -->\n<g id=\"edge4\" class=\"edge\">\n<title>q1&#45;&gt;q0</title>\n<path fill=\"none\" stroke=\"black\" d=\"M133.41,-17.23C127.19,-13.73 119.81,-10.27 112.6,-8.5 105.68,-6.81 98.44,-8.04 91.75,-10.53\"/>\n<polygon fill=\"black\" stroke=\"black\" points=\"90.15,-7.99 83.65,-14.23 92.62,-13.4 90.15,-7.99\"/>\n<text text-anchor=\"middle\" x=\"109.1\" y=\"-12.3\" font-family=\"Times,serif\" font-size=\"14.00\">0</text>\n</g>\n<!-- q2 -->\n<g id=\"node4\" class=\"node\">\n<title>q2</title>\n<ellipse fill=\"none\" stroke=\"black\" cx=\"236.09\" cy=\"-27.5\" rx=\"23.5\" ry=\"23.5\"/>\n<ellipse fill=\"none\" stroke=\"black\" cx=\"236.09\" cy=\"-27.5\" rx=\"27.5\" ry=\"27.5\"/>\n<text text-anchor=\"middle\" x=\"236.09\" y=\"-23.8\" font-family=\"Times,serif\" font-size=\"14.00\">q2</text>\n</g>\n<!-- q1&#45;&gt;q2 -->\n<g id=\"edge5\" class=\"edge\">\n<title>q1&#45;&gt;q2</title>\n<path fill=\"none\" stroke=\"black\" d=\"M169.74,-27.5C179.65,-27.5 192.11,-27.5 203.49,-27.5\"/>\n<polygon fill=\"black\" stroke=\"black\" points=\"203.81,-30.48 212.31,-27.5 203.81,-24.53 203.81,-30.48\"/>\n<text text-anchor=\"middle\" x=\"191.09\" y=\"-31.3\" font-family=\"Times,serif\" font-size=\"14.00\">1</text>\n</g>\n<!-- q2&#45;&gt;q1 -->\n<g id=\"edge6\" class=\"edge\">\n<title>q2&#45;&gt;q1</title>\n<path fill=\"none\" stroke=\"black\" d=\"M216.54,-14.23C207.92,-9.6 197.43,-6.09 187.59,-8.5 183.2,-9.58 178.74,-11.28 174.52,-13.24\"/>\n<polygon fill=\"black\" stroke=\"black\" points=\"172.98,-10.69 166.78,-17.23 175.7,-15.98 172.98,-10.69\"/>\n<text text-anchor=\"middle\" x=\"191.09\" y=\"-12.3\" font-family=\"Times,serif\" font-size=\"14.00\">1</text>\n</g>\n<!-- q2&#45;&gt;q2 -->\n<g id=\"edge7\" class=\"edge\">\n<title>q2&#45;&gt;q2</title>\n<path fill=\"none\" stroke=\"black\" d=\"M228,-49.7C227.12,-60 229.82,-69 236.09,-69 240.5,-69 243.14,-64.55 244.02,-58.33\"/>\n<polygon fill=\"black\" stroke=\"black\" points=\"247,-58.25 244.18,-49.7 241.05,-58.14 247,-58.25\"/>\n<text text-anchor=\"middle\" x=\"236.09\" y=\"-72.8\" font-family=\"Times,serif\" font-size=\"14.00\">0</text>\n</g>\n</g>\n</svg>\n",
            "text/plain": [
              "DFA(states={'q0', 'q1', 'q2'}, input_symbols={'1', '0'}, transitions={'q0': {'0': 'q0', '1': 'q1'}, 'q1': {'0': 'q0', '1': 'q2'}, 'q2': {'0': 'q2', '1': 'q1'}}, initial_state='q0', final_states={'q0', 'q2'}, allow_partial=False)"
            ]
          },
          "metadata": {},
          "execution_count": 13
        }
      ],
      "source": [
        "my_dfa.complement(retain_names=True, minify=False)"
      ]
    },
    {
      "cell_type": "markdown",
      "metadata": {
        "id": "sIXv5yqXH1xI"
      },
      "source": [
        "**(10) TODO: Implement a NFA that implement a vending machine, the machine should accept coins of 1 Euro and 50 cents, the machine has water bottles and each bottle cost 1 euro. Use the class NFA.**"
      ]
    },
    {
      "cell_type": "code",
      "execution_count": null,
      "metadata": {
        "colab": {
          "base_uri": "https://localhost:8080/"
        },
        "outputId": "c7e8b5c6-a6cf-4685-962a-804cc17fb0a2",
        "id": "G2talV3u2au7"
      },
      "outputs": [
        {
          "output_type": "stream",
          "name": "stdout",
          "text": [
            "Please enter your input: 11W\n",
            "Accepted\n"
          ]
        }
      ],
      "source": [
        "my_nfa_water = NFA(\n",
        "    states={'q0', 'q1', 'q2', 'q3'},\n",
        "    input_symbols={'5', '1', 'W',''},\n",
        "    transitions={\n",
        "        'q0': {'5': {'q1'}, '1': {'q2'}},\n",
        "        'q1': {'5': {'q2'}},\n",
        "        'q2': {'W': {'q3'}, '1': {'q2'}, '5': {'q2'}},\n",
        "        'q3': {'': {'q0'}}\n",
        "    },\n",
        "    initial_state='q0',\n",
        "    final_states={'q3'}\n",
        ")\n",
        "\n",
        "if my_nfa_water.accepts_input(input('Please enter your input: ')):\n",
        "    print('Accepted')\n",
        "else:\n",
        "    print('Rejected')"
      ]
    },
    {
      "cell_type": "markdown",
      "metadata": {
        "id": "HgzZBmEY6YNa"
      },
      "source": [
        "**(11) TODO: Implement a NFA that implement a vending machine, the machine should accept coins of 1 Euro and 50 cents, the machine has soda cans and and each can cost 1,5 euros. Use the class NFA.**"
      ]
    },
    {
      "cell_type": "code",
      "execution_count": null,
      "metadata": {
        "id": "d3Y4PSbaF2tP",
        "colab": {
          "base_uri": "https://localhost:8080/"
        },
        "outputId": "99e9904a-cb94-4805-ff2e-40e880f42479"
      },
      "outputs": [
        {
          "output_type": "stream",
          "name": "stdout",
          "text": [
            "Please enter your input: 155C\n",
            "Accepted\n"
          ]
        }
      ],
      "source": [
        "my_nfa_can = NFA(\n",
        "    states={'q0', 'q1', 'q2', 'q3', 'q4'},\n",
        "    input_symbols={'5', '1', 'C', ''},\n",
        "    transitions={\n",
        "        'q0': {'5': {'q1'}, '1': {'q2'}},\n",
        "        'q1': {'5': {'q2'}, '1': {'q3'}},\n",
        "        'q2': {'5': {'q3'}, '1': {'q3'}},\n",
        "        'q3': {'5': {'q3'}, '1': {'q3'}, 'C': {'q4'}},\n",
        "        'q4': {'': {'q0'}}\n",
        "    },\n",
        "    initial_state='q0',\n",
        "    final_states={'q4'}\n",
        ")\n",
        "\n",
        "if my_nfa_can.accepts_input(input('Please enter your input: ')):\n",
        "    print('Accepted')\n",
        "else:\n",
        "    print('Rejected')"
      ]
    },
    {
      "cell_type": "markdown",
      "metadata": {
        "id": "rwyF8EObd_1h"
      },
      "source": [
        "**(12) TODO Evaluate the following inpunts for the NFA created\n",
        "\"11C\",\"555C\",\"15C\",\"51C\",\"111C\"**"
      ]
    },
    {
      "cell_type": "code",
      "execution_count": null,
      "metadata": {
        "colab": {
          "base_uri": "https://localhost:8080/"
        },
        "outputId": "3a05174b-0266-4893-e44b-d29939c0c3df",
        "id": "3WbPe-BC2FNt"
      },
      "outputs": [
        {
          "output_type": "stream",
          "name": "stdout",
          "text": [
            "Accepted\n"
          ]
        }
      ],
      "source": [
        "if my_nfa_can.accepts_input('11C'):\n",
        "    print('Accepted')\n",
        "else:\n",
        "    print('Rejected')"
      ]
    },
    {
      "cell_type": "code",
      "source": [
        "if my_nfa_can.accepts_input('555C'):\n",
        "    print('Accepted')\n",
        "else:\n",
        "    print('Rejected')"
      ],
      "metadata": {
        "colab": {
          "base_uri": "https://localhost:8080/"
        },
        "id": "70mXzJ7o1s45",
        "outputId": "b8a7e458-b5e0-4595-fb73-9f02ceafeda4"
      },
      "execution_count": null,
      "outputs": [
        {
          "output_type": "stream",
          "name": "stdout",
          "text": [
            "Accepted\n"
          ]
        }
      ]
    },
    {
      "cell_type": "code",
      "source": [
        "if my_nfa_can.accepts_input('15C'):\n",
        "    print('Accepted')\n",
        "else:\n",
        "    print('Rejected')"
      ],
      "metadata": {
        "colab": {
          "base_uri": "https://localhost:8080/"
        },
        "id": "TOu2gD-Z1ta3",
        "outputId": "77518b0b-eebb-4f78-ec77-88418348256c"
      },
      "execution_count": null,
      "outputs": [
        {
          "output_type": "stream",
          "name": "stdout",
          "text": [
            "Accepted\n"
          ]
        }
      ]
    },
    {
      "cell_type": "code",
      "source": [
        "if my_nfa_can.accepts_input('51C'):\n",
        "    print('Accepted')\n",
        "else:\n",
        "    print('Rejected')"
      ],
      "metadata": {
        "colab": {
          "base_uri": "https://localhost:8080/"
        },
        "id": "ZA6uBRN_1uI3",
        "outputId": "a1cf44ab-0bca-4414-b9ee-852c0f999346"
      },
      "execution_count": null,
      "outputs": [
        {
          "output_type": "stream",
          "name": "stdout",
          "text": [
            "Accepted\n"
          ]
        }
      ]
    },
    {
      "cell_type": "code",
      "source": [
        "if my_nfa_can.accepts_input('111C'):\n",
        "    print('Accepted')\n",
        "else:\n",
        "    print('Rejected')"
      ],
      "metadata": {
        "colab": {
          "base_uri": "https://localhost:8080/"
        },
        "id": "HbtuyKa-1vcK",
        "outputId": "8ab02a08-0450-4232-bdf0-af2e390707d1"
      },
      "execution_count": null,
      "outputs": [
        {
          "output_type": "stream",
          "name": "stdout",
          "text": [
            "Accepted\n"
          ]
        }
      ]
    },
    {
      "cell_type": "markdown",
      "metadata": {
        "id": "XbtRaCDu-_ze"
      },
      "source": [
        "**(13) TODO Use the operation union for both vendime machine NFAs, explain what is doing the resulting NFA.**\n"
      ]
    },
    {
      "cell_type": "code",
      "execution_count": null,
      "metadata": {
        "id": "7bxpalEXF2tn",
        "colab": {
          "base_uri": "https://localhost:8080/",
          "height": 408
        },
        "outputId": "aae86e10-6327-4f34-de27-ccdcc9ef6a03"
      },
      "outputs": [
        {
          "output_type": "execute_result",
          "data": {
            "image/svg+xml": "<?xml version=\"1.0\" encoding=\"UTF-8\" standalone=\"no\"?>\n<!DOCTYPE svg PUBLIC \"-//W3C//DTD SVG 1.1//EN\"\n \"http://www.w3.org/Graphics/SVG/1.1/DTD/svg11.dtd\">\n<!-- Generated by graphviz version 2.43.0 (0)\n -->\n<!-- Pages: 1 -->\n<svg width=\"514pt\" height=\"290pt\"\n viewBox=\"0.00 0.00 513.60 290.00\" xmlns=\"http://www.w3.org/2000/svg\" xmlns:xlink=\"http://www.w3.org/1999/xlink\">\n<g id=\"graph0\" class=\"graph\" transform=\"scale(1 1) rotate(0) translate(4 286)\">\n<polygon fill=\"white\" stroke=\"transparent\" points=\"-4,4 -4,-286 509.6,-286 509.6,4 -4,4\"/>\n<!-- 0fb9a257&#45;8637&#45;4bf5&#45;806a&#45;cdd1ccaa1ee5 -->\n<g id=\"node1\" class=\"node\">\n<title>0fb9a257&#45;8637&#45;4bf5&#45;806a&#45;cdd1ccaa1ee5</title>\n<g id=\"a_node1\"><a xlink:title=\".\">\n<ellipse fill=\"black\" stroke=\"black\" cx=\"1.8\" cy=\"-138\" rx=\"1.8\" ry=\"1.8\"/>\n</a>\n</g>\n</g>\n<!-- 0 -->\n<g id=\"node2\" class=\"node\">\n<title>0</title>\n<ellipse fill=\"none\" stroke=\"black\" cx=\"58.6\" cy=\"-138\" rx=\"18\" ry=\"18\"/>\n<text text-anchor=\"middle\" x=\"58.6\" y=\"-134.3\" font-family=\"Times,serif\" font-size=\"14.00\">0</text>\n</g>\n<!-- 0fb9a257&#45;8637&#45;4bf5&#45;806a&#45;cdd1ccaa1ee5&#45;&gt;0 -->\n<g id=\"edge1\" class=\"edge\">\n<title>0fb9a257&#45;8637&#45;4bf5&#45;806a&#45;cdd1ccaa1ee5&#45;&gt;0</title>\n<g id=\"a_edge1\"><a xlink:title=\"&#45;&gt;0\">\n<path fill=\"none\" stroke=\"black\" d=\"M3.75,-138C7.25,-138 19.84,-138 31.96,-138\"/>\n<polygon fill=\"black\" stroke=\"black\" points=\"32.08,-140.98 40.58,-138 32.07,-135.03 32.08,-140.98\"/>\n</a>\n</g>\n</g>\n<!-- 1 -->\n<g id=\"node3\" class=\"node\">\n<title>1</title>\n<ellipse fill=\"none\" stroke=\"black\" cx=\"137.6\" cy=\"-180\" rx=\"18\" ry=\"18\"/>\n<text text-anchor=\"middle\" x=\"137.6\" y=\"-176.3\" font-family=\"Times,serif\" font-size=\"14.00\">1</text>\n</g>\n<!-- 0&#45;&gt;1 -->\n<g id=\"edge2\" class=\"edge\">\n<title>0&#45;&gt;1</title>\n<path fill=\"none\" stroke=\"black\" d=\"M74.81,-146.3C85.89,-152.34 101.08,-160.62 113.62,-167.47\"/>\n<polygon fill=\"black\" stroke=\"black\" points=\"112.53,-170.27 121.42,-171.72 115.38,-165.04 112.53,-170.27\"/>\n<text text-anchor=\"middle\" x=\"98.1\" y=\"-163.8\" font-family=\"Times,serif\" font-size=\"14.00\">ε</text>\n</g>\n<!-- 6 -->\n<g id=\"node4\" class=\"node\">\n<title>6</title>\n<ellipse fill=\"none\" stroke=\"black\" cx=\"137.6\" cy=\"-111\" rx=\"18\" ry=\"18\"/>\n<text text-anchor=\"middle\" x=\"137.6\" y=\"-107.3\" font-family=\"Times,serif\" font-size=\"14.00\">6</text>\n</g>\n<!-- 0&#45;&gt;6 -->\n<g id=\"edge3\" class=\"edge\">\n<title>0&#45;&gt;6</title>\n<path fill=\"none\" stroke=\"black\" d=\"M75.53,-131.32C81.47,-128.9 88.31,-126.23 94.6,-124 100.08,-122.06 106.01,-120.12 111.65,-118.36\"/>\n<polygon fill=\"black\" stroke=\"black\" points=\"112.88,-121.09 120.14,-115.76 111.14,-115.4 112.88,-121.09\"/>\n<text text-anchor=\"middle\" x=\"98.1\" y=\"-127.8\" font-family=\"Times,serif\" font-size=\"14.00\">ε</text>\n</g>\n<!-- 2 -->\n<g id=\"node5\" class=\"node\">\n<title>2</title>\n<ellipse fill=\"none\" stroke=\"black\" cx=\"216.6\" cy=\"-264\" rx=\"18\" ry=\"18\"/>\n<text text-anchor=\"middle\" x=\"216.6\" y=\"-260.3\" font-family=\"Times,serif\" font-size=\"14.00\">2</text>\n</g>\n<!-- 1&#45;&gt;2 -->\n<g id=\"edge4\" class=\"edge\">\n<title>1&#45;&gt;2</title>\n<path fill=\"none\" stroke=\"black\" d=\"M148.28,-194.59C154.93,-204.19 164.23,-216.82 173.6,-227 180.22,-234.18 188.11,-241.43 195.26,-247.58\"/>\n<polygon fill=\"black\" stroke=\"black\" points=\"193.67,-250.13 202.09,-253.33 197.5,-245.58 193.67,-250.13\"/>\n<text text-anchor=\"middle\" x=\"177.1\" y=\"-236.8\" font-family=\"Times,serif\" font-size=\"14.00\">5</text>\n</g>\n<!-- 3 -->\n<g id=\"node6\" class=\"node\">\n<title>3</title>\n<ellipse fill=\"none\" stroke=\"black\" cx=\"295.6\" cy=\"-213\" rx=\"18\" ry=\"18\"/>\n<text text-anchor=\"middle\" x=\"295.6\" y=\"-209.3\" font-family=\"Times,serif\" font-size=\"14.00\">3</text>\n</g>\n<!-- 1&#45;&gt;3 -->\n<g id=\"edge5\" class=\"edge\">\n<title>1&#45;&gt;3</title>\n<path fill=\"none\" stroke=\"black\" d=\"M155.29,-183.53C182.6,-189.31 236.97,-200.81 269.12,-207.61\"/>\n<polygon fill=\"black\" stroke=\"black\" points=\"268.62,-210.54 277.55,-209.39 269.85,-204.72 268.62,-210.54\"/>\n<text text-anchor=\"middle\" x=\"216.6\" y=\"-202.8\" font-family=\"Times,serif\" font-size=\"14.00\">1</text>\n</g>\n<!-- 7 -->\n<g id=\"node7\" class=\"node\">\n<title>7</title>\n<ellipse fill=\"none\" stroke=\"black\" cx=\"295.6\" cy=\"-112\" rx=\"18\" ry=\"18\"/>\n<text text-anchor=\"middle\" x=\"295.6\" y=\"-108.3\" font-family=\"Times,serif\" font-size=\"14.00\">7</text>\n</g>\n<!-- 6&#45;&gt;7 -->\n<g id=\"edge6\" class=\"edge\">\n<title>6&#45;&gt;7</title>\n<path fill=\"none\" stroke=\"black\" d=\"M155.89,-111.11C183.18,-111.29 236.43,-111.63 268.42,-111.83\"/>\n<polygon fill=\"black\" stroke=\"black\" points=\"268.71,-114.81 277.23,-111.89 268.75,-108.86 268.71,-114.81\"/>\n<text text-anchor=\"middle\" x=\"216.6\" y=\"-114.8\" font-family=\"Times,serif\" font-size=\"14.00\">1</text>\n</g>\n<!-- 9 -->\n<g id=\"node8\" class=\"node\">\n<title>9</title>\n<ellipse fill=\"none\" stroke=\"black\" cx=\"216.6\" cy=\"-70\" rx=\"18\" ry=\"18\"/>\n<text text-anchor=\"middle\" x=\"216.6\" y=\"-66.3\" font-family=\"Times,serif\" font-size=\"14.00\">9</text>\n</g>\n<!-- 6&#45;&gt;9 -->\n<g id=\"edge7\" class=\"edge\">\n<title>6&#45;&gt;9</title>\n<path fill=\"none\" stroke=\"black\" d=\"M153.81,-102.9C164.89,-97 180.08,-88.92 192.62,-82.23\"/>\n<polygon fill=\"black\" stroke=\"black\" points=\"194.31,-84.7 200.42,-78.08 191.52,-79.45 194.31,-84.7\"/>\n<text text-anchor=\"middle\" x=\"177.1\" y=\"-94.8\" font-family=\"Times,serif\" font-size=\"14.00\">5</text>\n</g>\n<!-- 2&#45;&gt;3 -->\n<g id=\"edge8\" class=\"edge\">\n<title>2&#45;&gt;3</title>\n<path fill=\"none\" stroke=\"black\" d=\"M232.08,-254.41C243.59,-246.79 259.87,-236.01 272.92,-227.36\"/>\n<polygon fill=\"black\" stroke=\"black\" points=\"274.74,-229.72 280.18,-222.55 271.45,-224.76 274.74,-229.72\"/>\n<text text-anchor=\"middle\" x=\"256.1\" y=\"-243.8\" font-family=\"Times,serif\" font-size=\"14.00\">5</text>\n</g>\n<!-- 3&#45;&gt;3 -->\n<g id=\"edge9\" class=\"edge\">\n<title>3&#45;&gt;3</title>\n<path fill=\"none\" stroke=\"black\" d=\"M288.87,-230.04C287.49,-239.86 289.74,-249 295.6,-249 299.63,-249 301.95,-244.68 302.56,-238.79\"/>\n<polygon fill=\"black\" stroke=\"black\" points=\"305.53,-238.46 302.33,-230.04 299.58,-238.62 305.53,-238.46\"/>\n<text text-anchor=\"middle\" x=\"295.6\" y=\"-252.8\" font-family=\"Times,serif\" font-size=\"14.00\">1,5</text>\n</g>\n<!-- 4 -->\n<g id=\"node9\" class=\"node\">\n<title>4</title>\n<ellipse fill=\"none\" stroke=\"black\" cx=\"389.6\" cy=\"-187\" rx=\"22\" ry=\"22\"/>\n<ellipse fill=\"none\" stroke=\"black\" cx=\"389.6\" cy=\"-187\" rx=\"26\" ry=\"26\"/>\n<text text-anchor=\"middle\" x=\"389.6\" y=\"-183.3\" font-family=\"Times,serif\" font-size=\"14.00\">4</text>\n</g>\n<!-- 3&#45;&gt;4 -->\n<g id=\"edge10\" class=\"edge\">\n<title>3&#45;&gt;4</title>\n<path fill=\"none\" stroke=\"black\" d=\"M313.05,-208.35C326.04,-204.68 344.5,-199.46 359.91,-195.11\"/>\n<polygon fill=\"black\" stroke=\"black\" points=\"360.74,-197.97 368.11,-192.79 359.12,-192.24 360.74,-197.97\"/>\n<text text-anchor=\"middle\" x=\"340.6\" y=\"-206.8\" font-family=\"Times,serif\" font-size=\"14.00\">W</text>\n</g>\n<!-- 8 -->\n<g id=\"node10\" class=\"node\">\n<title>8</title>\n<ellipse fill=\"none\" stroke=\"black\" cx=\"389.6\" cy=\"-61\" rx=\"18\" ry=\"18\"/>\n<text text-anchor=\"middle\" x=\"389.6\" y=\"-57.3\" font-family=\"Times,serif\" font-size=\"14.00\">8</text>\n</g>\n<!-- 7&#45;&gt;8 -->\n<g id=\"edge11\" class=\"edge\">\n<title>7&#45;&gt;8</title>\n<path fill=\"none\" stroke=\"black\" d=\"M311.79,-103.58C326.44,-95.46 348.8,-83.06 365.63,-73.73\"/>\n<polygon fill=\"black\" stroke=\"black\" points=\"367.4,-76.16 373.39,-69.43 364.51,-70.95 367.4,-76.16\"/>\n<text text-anchor=\"middle\" x=\"340.6\" y=\"-95.8\" font-family=\"Times,serif\" font-size=\"14.00\">1,5</text>\n</g>\n<!-- 9&#45;&gt;7 -->\n<g id=\"edge12\" class=\"edge\">\n<title>9&#45;&gt;7</title>\n<path fill=\"none\" stroke=\"black\" d=\"M232.81,-78.3C243.89,-84.34 259.08,-92.62 271.62,-99.47\"/>\n<polygon fill=\"black\" stroke=\"black\" points=\"270.53,-102.26 279.42,-103.72 273.38,-97.04 270.53,-102.26\"/>\n<text text-anchor=\"middle\" x=\"256.1\" y=\"-95.8\" font-family=\"Times,serif\" font-size=\"14.00\">5</text>\n</g>\n<!-- 9&#45;&gt;8 -->\n<g id=\"edge13\" class=\"edge\">\n<title>9&#45;&gt;8</title>\n<path fill=\"none\" stroke=\"black\" d=\"M234.62,-69.1C264.63,-67.53 327.13,-64.23 362.58,-62.37\"/>\n<polygon fill=\"black\" stroke=\"black\" points=\"363.06,-65.32 371.39,-61.91 362.75,-59.38 363.06,-65.32\"/>\n<text text-anchor=\"middle\" x=\"295.6\" y=\"-69.8\" font-family=\"Times,serif\" font-size=\"14.00\">1</text>\n</g>\n<!-- 4&#45;&gt;1 -->\n<g id=\"edge14\" class=\"edge\">\n<title>4&#45;&gt;1</title>\n<path fill=\"none\" stroke=\"black\" d=\"M367.48,-186.41C321.8,-185.13 213.91,-182.11 164.33,-180.72\"/>\n<polygon fill=\"black\" stroke=\"black\" points=\"164.36,-177.74 155.78,-180.48 164.19,-183.69 164.36,-177.74\"/>\n<text text-anchor=\"middle\" x=\"256.1\" y=\"-186.8\" font-family=\"Times,serif\" font-size=\"14.00\">ε</text>\n</g>\n<!-- 8&#45;&gt;8 -->\n<g id=\"edge15\" class=\"edge\">\n<title>8&#45;&gt;8</title>\n<path fill=\"none\" stroke=\"black\" d=\"M381.93,-77.29C380.08,-87.39 382.64,-97 389.6,-97 394.49,-97 397.21,-92.25 397.75,-85.92\"/>\n<polygon fill=\"black\" stroke=\"black\" points=\"400.71,-85.61 397.27,-77.29 394.77,-85.94 400.71,-85.61\"/>\n<text text-anchor=\"middle\" x=\"389.6\" y=\"-100.8\" font-family=\"Times,serif\" font-size=\"14.00\">1,5</text>\n</g>\n<!-- 5 -->\n<g id=\"node11\" class=\"node\">\n<title>5</title>\n<ellipse fill=\"none\" stroke=\"black\" cx=\"479.6\" cy=\"-26\" rx=\"22\" ry=\"22\"/>\n<ellipse fill=\"none\" stroke=\"black\" cx=\"479.6\" cy=\"-26\" rx=\"26\" ry=\"26\"/>\n<text text-anchor=\"middle\" x=\"479.6\" y=\"-22.3\" font-family=\"Times,serif\" font-size=\"14.00\">5</text>\n</g>\n<!-- 8&#45;&gt;5 -->\n<g id=\"edge16\" class=\"edge\">\n<title>8&#45;&gt;5</title>\n<path fill=\"none\" stroke=\"black\" d=\"M406.74,-54.58C419.02,-49.7 436.21,-42.86 450.7,-37.09\"/>\n<polygon fill=\"black\" stroke=\"black\" points=\"452.06,-39.76 458.86,-33.85 449.86,-34.23 452.06,-39.76\"/>\n<text text-anchor=\"middle\" x=\"434.6\" y=\"-47.8\" font-family=\"Times,serif\" font-size=\"14.00\">C</text>\n</g>\n<!-- 5&#45;&gt;6 -->\n<g id=\"edge17\" class=\"edge\">\n<title>5&#45;&gt;6</title>\n<path fill=\"none\" stroke=\"black\" d=\"M458.17,-20.13C440.45,-15.57 414.05,-10 390.6,-10 215.6,-10 215.6,-10 215.6,-10 177.87,-10 156.18,-55.12 145.94,-85.05\"/>\n<polygon fill=\"black\" stroke=\"black\" points=\"143.02,-84.4 143.24,-93.41 148.68,-86.23 143.02,-84.4\"/>\n<text text-anchor=\"middle\" x=\"295.6\" y=\"-13.8\" font-family=\"Times,serif\" font-size=\"14.00\">ε</text>\n</g>\n</g>\n</svg>\n",
            "text/plain": [
              "<AGraph <Swig Object of type 'Agraph_t *' at 0x7d150e0f1500>>"
            ]
          },
          "metadata": {},
          "execution_count": 21
        }
      ],
      "source": [
        "my_nfa_union = my_nfa_water.union(my_nfa_can)\n",
        "my_nfa_union.show_diagram()"
      ]
    },
    {
      "cell_type": "markdown",
      "metadata": {
        "id": "zxs2_fM5F2tn"
      },
      "source": [
        "The resulting NFA connects both vending machines by adding a start state. This way, the vending machine obtained from the union will either process waters or cans."
      ]
    },
    {
      "cell_type": "markdown",
      "metadata": {
        "id": "uOCXe1W3Eps6"
      },
      "source": [
        "**(14) TODO Use the operation concatenation for both vending machine NFAs, explain what is doing the resulting NFA.**"
      ]
    },
    {
      "cell_type": "code",
      "execution_count": null,
      "metadata": {
        "id": "Slq8z7s8F2tn",
        "colab": {
          "base_uri": "https://localhost:8080/",
          "height": 252
        },
        "outputId": "e621b4ff-1405-478d-8f22-7a3193d7ced8"
      },
      "outputs": [
        {
          "output_type": "execute_result",
          "data": {
            "image/svg+xml": "<?xml version=\"1.0\" encoding=\"UTF-8\" standalone=\"no\"?>\n<!DOCTYPE svg PUBLIC \"-//W3C//DTD SVG 1.1//EN\"\n \"http://www.w3.org/Graphics/SVG/1.1/DTD/svg11.dtd\">\n<!-- Generated by graphviz version 2.43.0 (0)\n -->\n<!-- Pages: 1 -->\n<svg width=\"750pt\" height=\"173pt\"\n viewBox=\"0.00 0.00 749.60 173.00\" xmlns=\"http://www.w3.org/2000/svg\" xmlns:xlink=\"http://www.w3.org/1999/xlink\">\n<g id=\"graph0\" class=\"graph\" transform=\"scale(1 1) rotate(0) translate(4 169)\">\n<polygon fill=\"white\" stroke=\"transparent\" points=\"-4,4 -4,-169 745.6,-169 745.6,4 -4,4\"/>\n<!-- dac011b9&#45;fb74&#45;4dac&#45;a2dd&#45;ab380f8401d9 -->\n<g id=\"node1\" class=\"node\">\n<title>dac011b9&#45;fb74&#45;4dac&#45;a2dd&#45;ab380f8401d9</title>\n<g id=\"a_node1\"><a xlink:title=\".\">\n<ellipse fill=\"black\" stroke=\"black\" cx=\"1.8\" cy=\"-96\" rx=\"1.8\" ry=\"1.8\"/>\n</a>\n</g>\n</g>\n<!-- 0 -->\n<g id=\"node2\" class=\"node\">\n<title>0</title>\n<ellipse fill=\"none\" stroke=\"black\" cx=\"58.6\" cy=\"-96\" rx=\"18\" ry=\"18\"/>\n<text text-anchor=\"middle\" x=\"58.6\" y=\"-92.3\" font-family=\"Times,serif\" font-size=\"14.00\">0</text>\n</g>\n<!-- dac011b9&#45;fb74&#45;4dac&#45;a2dd&#45;ab380f8401d9&#45;&gt;0 -->\n<g id=\"edge1\" class=\"edge\">\n<title>dac011b9&#45;fb74&#45;4dac&#45;a2dd&#45;ab380f8401d9&#45;&gt;0</title>\n<g id=\"a_edge1\"><a xlink:title=\"&#45;&gt;0\">\n<path fill=\"none\" stroke=\"black\" d=\"M3.75,-96C7.25,-96 19.84,-96 31.96,-96\"/>\n<polygon fill=\"black\" stroke=\"black\" points=\"32.08,-98.98 40.58,-96 32.07,-93.03 32.08,-98.98\"/>\n</a>\n</g>\n</g>\n<!-- 1 -->\n<g id=\"node3\" class=\"node\">\n<title>1</title>\n<ellipse fill=\"none\" stroke=\"black\" cx=\"137.6\" cy=\"-147\" rx=\"18\" ry=\"18\"/>\n<text text-anchor=\"middle\" x=\"137.6\" y=\"-143.3\" font-family=\"Times,serif\" font-size=\"14.00\">1</text>\n</g>\n<!-- 0&#45;&gt;1 -->\n<g id=\"edge2\" class=\"edge\">\n<title>0&#45;&gt;1</title>\n<path fill=\"none\" stroke=\"black\" d=\"M74.08,-105.59C85.59,-113.21 101.87,-123.99 114.92,-132.64\"/>\n<polygon fill=\"black\" stroke=\"black\" points=\"113.45,-135.24 122.18,-137.45 116.74,-130.28 113.45,-135.24\"/>\n<text text-anchor=\"middle\" x=\"98.1\" y=\"-126.8\" font-family=\"Times,serif\" font-size=\"14.00\">5</text>\n</g>\n<!-- 2 -->\n<g id=\"node4\" class=\"node\">\n<title>2</title>\n<ellipse fill=\"none\" stroke=\"black\" cx=\"216.6\" cy=\"-96\" rx=\"18\" ry=\"18\"/>\n<text text-anchor=\"middle\" x=\"216.6\" y=\"-92.3\" font-family=\"Times,serif\" font-size=\"14.00\">2</text>\n</g>\n<!-- 0&#45;&gt;2 -->\n<g id=\"edge3\" class=\"edge\">\n<title>0&#45;&gt;2</title>\n<path fill=\"none\" stroke=\"black\" d=\"M76.89,-96C104.18,-96 157.43,-96 189.42,-96\"/>\n<polygon fill=\"black\" stroke=\"black\" points=\"189.73,-98.98 198.23,-96 189.73,-93.03 189.73,-98.98\"/>\n<text text-anchor=\"middle\" x=\"137.6\" y=\"-99.8\" font-family=\"Times,serif\" font-size=\"14.00\">1</text>\n</g>\n<!-- 1&#45;&gt;2 -->\n<g id=\"edge4\" class=\"edge\">\n<title>1&#45;&gt;2</title>\n<path fill=\"none\" stroke=\"black\" d=\"M153.08,-137.41C164.59,-129.79 180.87,-119.01 193.92,-110.36\"/>\n<polygon fill=\"black\" stroke=\"black\" points=\"195.74,-112.72 201.18,-105.55 192.45,-107.76 195.74,-112.72\"/>\n<text text-anchor=\"middle\" x=\"177.1\" y=\"-126.8\" font-family=\"Times,serif\" font-size=\"14.00\">5</text>\n</g>\n<!-- 2&#45;&gt;2 -->\n<g id=\"edge5\" class=\"edge\">\n<title>2&#45;&gt;2</title>\n<path fill=\"none\" stroke=\"black\" d=\"M209.87,-113.04C208.49,-122.86 210.74,-132 216.6,-132 220.63,-132 222.95,-127.68 223.56,-121.79\"/>\n<polygon fill=\"black\" stroke=\"black\" points=\"226.53,-121.46 223.33,-113.04 220.58,-121.62 226.53,-121.46\"/>\n<text text-anchor=\"middle\" x=\"216.6\" y=\"-135.8\" font-family=\"Times,serif\" font-size=\"14.00\">1,5</text>\n</g>\n<!-- 3 -->\n<g id=\"node5\" class=\"node\">\n<title>3</title>\n<ellipse fill=\"none\" stroke=\"black\" cx=\"302.6\" cy=\"-66\" rx=\"18\" ry=\"18\"/>\n<text text-anchor=\"middle\" x=\"302.6\" y=\"-62.3\" font-family=\"Times,serif\" font-size=\"14.00\">3</text>\n</g>\n<!-- 2&#45;&gt;3 -->\n<g id=\"edge6\" class=\"edge\">\n<title>2&#45;&gt;3</title>\n<path fill=\"none\" stroke=\"black\" d=\"M233.8,-90.22C246.11,-85.82 263.27,-79.69 277.24,-74.7\"/>\n<polygon fill=\"black\" stroke=\"black\" points=\"278.45,-77.43 285.45,-71.77 276.44,-71.83 278.45,-77.43\"/>\n<text text-anchor=\"middle\" x=\"259.6\" y=\"-85.8\" font-family=\"Times,serif\" font-size=\"14.00\">W</text>\n</g>\n<!-- 3&#45;&gt;0 -->\n<g id=\"edge7\" class=\"edge\">\n<title>3&#45;&gt;0</title>\n<path fill=\"none\" stroke=\"black\" d=\"M284.41,-65.65C263.91,-65.43 228.65,-65.67 198.6,-69 158.25,-73.48 112.12,-83.41 84.46,-89.9\"/>\n<polygon fill=\"black\" stroke=\"black\" points=\"83.74,-87.01 76.16,-91.88 85.11,-92.8 83.74,-87.01\"/>\n<text text-anchor=\"middle\" x=\"177.1\" y=\"-75.8\" font-family=\"Times,serif\" font-size=\"14.00\">ε</text>\n</g>\n<!-- 5 -->\n<g id=\"node6\" class=\"node\">\n<title>5</title>\n<ellipse fill=\"none\" stroke=\"black\" cx=\"381.6\" cy=\"-66\" rx=\"18\" ry=\"18\"/>\n<text text-anchor=\"middle\" x=\"381.6\" y=\"-62.3\" font-family=\"Times,serif\" font-size=\"14.00\">5</text>\n</g>\n<!-- 3&#45;&gt;5 -->\n<g id=\"edge8\" class=\"edge\">\n<title>3&#45;&gt;5</title>\n<path fill=\"none\" stroke=\"black\" d=\"M320.69,-66C330.76,-66 343.69,-66 354.96,-66\"/>\n<polygon fill=\"black\" stroke=\"black\" points=\"355.06,-68.98 363.56,-66 355.06,-63.03 355.06,-68.98\"/>\n<text text-anchor=\"middle\" x=\"342.1\" y=\"-69.8\" font-family=\"Times,serif\" font-size=\"14.00\">ε</text>\n</g>\n<!-- 6 -->\n<g id=\"node7\" class=\"node\">\n<title>6</title>\n<ellipse fill=\"none\" stroke=\"black\" cx=\"539.6\" cy=\"-112\" rx=\"18\" ry=\"18\"/>\n<text text-anchor=\"middle\" x=\"539.6\" y=\"-108.3\" font-family=\"Times,serif\" font-size=\"14.00\">6</text>\n</g>\n<!-- 5&#45;&gt;6 -->\n<g id=\"edge9\" class=\"edge\">\n<title>5&#45;&gt;6</title>\n<path fill=\"none\" stroke=\"black\" d=\"M397.63,-74.96C403.7,-78.37 410.86,-82.12 417.6,-85 431.73,-91.03 487.42,-107.33 496.6,-109 501.76,-109.94 507.33,-110.58 512.67,-111.03\"/>\n<polygon fill=\"black\" stroke=\"black\" points=\"512.65,-114.01 521.33,-111.61 513.05,-108.07 512.65,-114.01\"/>\n<text text-anchor=\"middle\" x=\"460.6\" y=\"-107.8\" font-family=\"Times,serif\" font-size=\"14.00\">1</text>\n</g>\n<!-- 8 -->\n<g id=\"node8\" class=\"node\">\n<title>8</title>\n<ellipse fill=\"none\" stroke=\"black\" cx=\"460.6\" cy=\"-66\" rx=\"18\" ry=\"18\"/>\n<text text-anchor=\"middle\" x=\"460.6\" y=\"-62.3\" font-family=\"Times,serif\" font-size=\"14.00\">8</text>\n</g>\n<!-- 5&#45;&gt;8 -->\n<g id=\"edge10\" class=\"edge\">\n<title>5&#45;&gt;8</title>\n<path fill=\"none\" stroke=\"black\" d=\"M399.69,-66C409.76,-66 422.69,-66 433.96,-66\"/>\n<polygon fill=\"black\" stroke=\"black\" points=\"434.06,-68.98 442.56,-66 434.06,-63.03 434.06,-68.98\"/>\n<text text-anchor=\"middle\" x=\"421.1\" y=\"-69.8\" font-family=\"Times,serif\" font-size=\"14.00\">5</text>\n</g>\n<!-- 7 -->\n<g id=\"node9\" class=\"node\">\n<title>7</title>\n<ellipse fill=\"none\" stroke=\"black\" cx=\"629.6\" cy=\"-61\" rx=\"18\" ry=\"18\"/>\n<text text-anchor=\"middle\" x=\"629.6\" y=\"-57.3\" font-family=\"Times,serif\" font-size=\"14.00\">7</text>\n</g>\n<!-- 6&#45;&gt;7 -->\n<g id=\"edge11\" class=\"edge\">\n<title>6&#45;&gt;7</title>\n<path fill=\"none\" stroke=\"black\" d=\"M555.53,-103.35C569.31,-95.36 589.97,-83.39 605.82,-74.2\"/>\n<polygon fill=\"black\" stroke=\"black\" points=\"607.74,-76.53 613.6,-69.69 604.75,-71.38 607.74,-76.53\"/>\n<text text-anchor=\"middle\" x=\"584.6\" y=\"-94.8\" font-family=\"Times,serif\" font-size=\"14.00\">1,5</text>\n</g>\n<!-- 8&#45;&gt;6 -->\n<g id=\"edge12\" class=\"edge\">\n<title>8&#45;&gt;6</title>\n<path fill=\"none\" stroke=\"black\" d=\"M476.45,-74.87C487.74,-81.61 503.46,-91.01 516.27,-98.66\"/>\n<polygon fill=\"black\" stroke=\"black\" points=\"514.98,-101.35 523.8,-103.16 518.03,-96.24 514.98,-101.35\"/>\n<text text-anchor=\"middle\" x=\"500.1\" y=\"-93.8\" font-family=\"Times,serif\" font-size=\"14.00\">5</text>\n</g>\n<!-- 8&#45;&gt;7 -->\n<g id=\"edge13\" class=\"edge\">\n<title>8&#45;&gt;7</title>\n<path fill=\"none\" stroke=\"black\" d=\"M478.84,-65.48C508.22,-64.6 568.13,-62.81 602.61,-61.78\"/>\n<polygon fill=\"black\" stroke=\"black\" points=\"602.79,-64.75 611.2,-61.52 602.61,-58.8 602.79,-64.75\"/>\n<text text-anchor=\"middle\" x=\"539.6\" y=\"-68.8\" font-family=\"Times,serif\" font-size=\"14.00\">1</text>\n</g>\n<!-- 7&#45;&gt;7 -->\n<g id=\"edge14\" class=\"edge\">\n<title>7&#45;&gt;7</title>\n<path fill=\"none\" stroke=\"black\" d=\"M622.57,-77.66C621.01,-87.62 623.35,-97 629.6,-97 633.9,-97 636.35,-92.57 636.95,-86.56\"/>\n<polygon fill=\"black\" stroke=\"black\" points=\"639.91,-86.05 636.63,-77.66 633.96,-86.27 639.91,-86.05\"/>\n<text text-anchor=\"middle\" x=\"629.6\" y=\"-100.8\" font-family=\"Times,serif\" font-size=\"14.00\">1,5</text>\n</g>\n<!-- 4 -->\n<g id=\"node10\" class=\"node\">\n<title>4</title>\n<ellipse fill=\"none\" stroke=\"black\" cx=\"715.6\" cy=\"-26\" rx=\"22\" ry=\"22\"/>\n<ellipse fill=\"none\" stroke=\"black\" cx=\"715.6\" cy=\"-26\" rx=\"26\" ry=\"26\"/>\n<text text-anchor=\"middle\" x=\"715.6\" y=\"-22.3\" font-family=\"Times,serif\" font-size=\"14.00\">4</text>\n</g>\n<!-- 7&#45;&gt;4 -->\n<g id=\"edge15\" class=\"edge\">\n<title>7&#45;&gt;4</title>\n<path fill=\"none\" stroke=\"black\" d=\"M646.4,-54.42C657.81,-49.66 673.52,-43.12 686.99,-37.5\"/>\n<polygon fill=\"black\" stroke=\"black\" points=\"688.33,-40.17 695.03,-34.16 686.04,-34.68 688.33,-40.17\"/>\n<text text-anchor=\"middle\" x=\"670.6\" y=\"-49.8\" font-family=\"Times,serif\" font-size=\"14.00\">C</text>\n</g>\n<!-- 4&#45;&gt;5 -->\n<g id=\"edge16\" class=\"edge\">\n<title>4&#45;&gt;5</title>\n<path fill=\"none\" stroke=\"black\" d=\"M694.44,-19.95C677.55,-15.42 652.72,-10 630.6,-10 459.6,-10 459.6,-10 459.6,-10 434.72,-10 412.48,-29.35 398.38,-45.31\"/>\n<polygon fill=\"black\" stroke=\"black\" points=\"396.05,-43.45 392.85,-51.87 400.6,-47.29 396.05,-43.45\"/>\n<text text-anchor=\"middle\" x=\"539.6\" y=\"-13.8\" font-family=\"Times,serif\" font-size=\"14.00\">ε</text>\n</g>\n</g>\n</svg>\n",
            "text/plain": [
              "<AGraph <Swig Object of type 'Agraph_t *' at 0x7d150e0f1e30>>"
            ]
          },
          "metadata": {},
          "execution_count": 22
        }
      ],
      "source": [
        "my_nfa_concatenation1 = my_nfa_water.concatenate(my_nfa_can)\n",
        "my_nfa_concatenation1.show_diagram()"
      ]
    },
    {
      "cell_type": "markdown",
      "metadata": {
        "id": "1ALYRJcvF2tn"
      },
      "source": [
        "The resulting NFA concatenates both vending machines by connecting the no longer final state of the first machine with the start state of the second machine.\n",
        "\n",
        "This allows to have as many waters as wanted, followed by as many cans as selected."
      ]
    },
    {
      "cell_type": "markdown",
      "metadata": {
        "id": "n4QGHMNyAieA"
      },
      "source": [
        "**(15) TODO Combine both NFA in order to achieve a vending machine that can dispose water and soda cans and also allow to get first a water and then a can or viceversa. You will need to use the operations concatena and union toghether.**"
      ]
    },
    {
      "cell_type": "code",
      "execution_count": null,
      "metadata": {
        "id": "OqNtREIxF2to",
        "colab": {
          "base_uri": "https://localhost:8080/",
          "height": 770
        },
        "outputId": "5c550905-ac86-45c7-e185-2e2b8c4b66a6"
      },
      "outputs": [
        {
          "output_type": "execute_result",
          "data": {
            "image/svg+xml": "<?xml version=\"1.0\" encoding=\"UTF-8\" standalone=\"no\"?>\n<!DOCTYPE svg PUBLIC \"-//W3C//DTD SVG 1.1//EN\"\n \"http://www.w3.org/Graphics/SVG/1.1/DTD/svg11.dtd\">\n<!-- Generated by graphviz version 2.43.0 (0)\n -->\n<!-- Pages: 1 -->\n<svg width=\"984pt\" height=\"561pt\"\n viewBox=\"0.00 0.00 983.57 560.50\" xmlns=\"http://www.w3.org/2000/svg\" xmlns:xlink=\"http://www.w3.org/1999/xlink\">\n<g id=\"graph0\" class=\"graph\" transform=\"scale(1 1) rotate(0) translate(4 556.5)\">\n<polygon fill=\"white\" stroke=\"transparent\" points=\"-4,4 -4,-556.5 979.57,-556.5 979.57,4 -4,4\"/>\n<!-- c7bc6089&#45;71a0&#45;4d1c&#45;9e3c&#45;35f0ad150338 -->\n<g id=\"node1\" class=\"node\">\n<title>c7bc6089&#45;71a0&#45;4d1c&#45;9e3c&#45;35f0ad150338</title>\n<g id=\"a_node1\"><a xlink:title=\".\">\n<ellipse fill=\"black\" stroke=\"black\" cx=\"1.8\" cy=\"-135.5\" rx=\"1.8\" ry=\"1.8\"/>\n</a>\n</g>\n</g>\n<!-- 0 -->\n<g id=\"node2\" class=\"node\">\n<title>0</title>\n<ellipse fill=\"none\" stroke=\"black\" cx=\"58.6\" cy=\"-135.5\" rx=\"18\" ry=\"18\"/>\n<text text-anchor=\"middle\" x=\"58.6\" y=\"-131.8\" font-family=\"Times,serif\" font-size=\"14.00\">0</text>\n</g>\n<!-- c7bc6089&#45;71a0&#45;4d1c&#45;9e3c&#45;35f0ad150338&#45;&gt;0 -->\n<g id=\"edge1\" class=\"edge\">\n<title>c7bc6089&#45;71a0&#45;4d1c&#45;9e3c&#45;35f0ad150338&#45;&gt;0</title>\n<g id=\"a_edge1\"><a xlink:title=\"&#45;&gt;0\">\n<path fill=\"none\" stroke=\"black\" d=\"M3.75,-135.5C7.25,-135.5 19.84,-135.5 31.96,-135.5\"/>\n<polygon fill=\"black\" stroke=\"black\" points=\"32.08,-138.48 40.58,-135.5 32.07,-132.53 32.08,-138.48\"/>\n</a>\n</g>\n</g>\n<!-- 1 -->\n<g id=\"node3\" class=\"node\">\n<title>1</title>\n<ellipse fill=\"none\" stroke=\"black\" cx=\"139.1\" cy=\"-283.5\" rx=\"18\" ry=\"18\"/>\n<text text-anchor=\"middle\" x=\"139.1\" y=\"-279.8\" font-family=\"Times,serif\" font-size=\"14.00\">1</text>\n</g>\n<!-- 0&#45;&gt;1 -->\n<g id=\"edge2\" class=\"edge\">\n<title>0&#45;&gt;1</title>\n<path fill=\"none\" stroke=\"black\" d=\"M67.85,-151.06C81.66,-177.08 109.5,-229.58 125.68,-260.09\"/>\n<polygon fill=\"black\" stroke=\"black\" points=\"123.11,-261.59 129.72,-267.7 128.36,-258.8 123.11,-261.59\"/>\n<text text-anchor=\"middle\" x=\"98.1\" y=\"-217.3\" font-family=\"Times,serif\" font-size=\"14.00\">ε</text>\n</g>\n<!-- 22 -->\n<g id=\"node4\" class=\"node\">\n<title>22</title>\n<ellipse fill=\"none\" stroke=\"black\" cx=\"139.1\" cy=\"-99.5\" rx=\"19.5\" ry=\"19.5\"/>\n<text text-anchor=\"middle\" x=\"139.1\" y=\"-95.8\" font-family=\"Times,serif\" font-size=\"14.00\">22</text>\n</g>\n<!-- 0&#45;&gt;22 -->\n<g id=\"edge3\" class=\"edge\">\n<title>0&#45;&gt;22</title>\n<path fill=\"none\" stroke=\"black\" d=\"M75.48,-128.21C86.36,-123.22 101.01,-116.51 113.4,-110.83\"/>\n<polygon fill=\"black\" stroke=\"black\" points=\"114.67,-113.52 121.15,-107.27 112.18,-108.12 114.67,-113.52\"/>\n<text text-anchor=\"middle\" x=\"98.1\" y=\"-122.3\" font-family=\"Times,serif\" font-size=\"14.00\">ε</text>\n</g>\n<!-- 2 -->\n<g id=\"node5\" class=\"node\">\n<title>2</title>\n<ellipse fill=\"none\" stroke=\"black\" cx=\"221.09\" cy=\"-460.5\" rx=\"18\" ry=\"18\"/>\n<text text-anchor=\"middle\" x=\"221.09\" y=\"-456.8\" font-family=\"Times,serif\" font-size=\"14.00\">2</text>\n</g>\n<!-- 1&#45;&gt;2 -->\n<g id=\"edge4\" class=\"edge\">\n<title>1&#45;&gt;2</title>\n<path fill=\"none\" stroke=\"black\" d=\"M147.34,-299.52C161.4,-330.64 192.49,-399.42 209.11,-436.2\"/>\n<polygon fill=\"black\" stroke=\"black\" points=\"206.6,-437.87 212.81,-444.39 212.02,-435.42 206.6,-437.87\"/>\n<text text-anchor=\"middle\" x=\"180.1\" y=\"-380.3\" font-family=\"Times,serif\" font-size=\"14.00\">ε</text>\n</g>\n<!-- 11 -->\n<g id=\"node6\" class=\"node\">\n<title>11</title>\n<ellipse fill=\"none\" stroke=\"black\" cx=\"221.09\" cy=\"-283.5\" rx=\"19.5\" ry=\"19.5\"/>\n<text text-anchor=\"middle\" x=\"221.09\" y=\"-279.8\" font-family=\"Times,serif\" font-size=\"14.00\">11</text>\n</g>\n<!-- 1&#45;&gt;11 -->\n<g id=\"edge5\" class=\"edge\">\n<title>1&#45;&gt;11</title>\n<path fill=\"none\" stroke=\"black\" d=\"M157.46,-283.5C167.78,-283.5 181.11,-283.5 192.82,-283.5\"/>\n<polygon fill=\"black\" stroke=\"black\" points=\"192.88,-286.48 201.38,-283.5 192.88,-280.53 192.88,-286.48\"/>\n<text text-anchor=\"middle\" x=\"180.1\" y=\"-287.3\" font-family=\"Times,serif\" font-size=\"14.00\">ε</text>\n</g>\n<!-- 23 -->\n<g id=\"node7\" class=\"node\">\n<title>23</title>\n<ellipse fill=\"none\" stroke=\"black\" cx=\"303.09\" cy=\"-109.5\" rx=\"19.5\" ry=\"19.5\"/>\n<text text-anchor=\"middle\" x=\"303.09\" y=\"-105.8\" font-family=\"Times,serif\" font-size=\"14.00\">23</text>\n</g>\n<!-- 22&#45;&gt;23 -->\n<g id=\"edge6\" class=\"edge\">\n<title>22&#45;&gt;23</title>\n<path fill=\"none\" stroke=\"black\" d=\"M158.65,-101.76C164.39,-102.4 170.75,-103.04 176.6,-103.5 210.29,-106.15 249.18,-107.79 274.63,-108.67\"/>\n<polygon fill=\"black\" stroke=\"black\" points=\"274.77,-111.65 283.36,-108.96 274.96,-105.71 274.77,-111.65\"/>\n<text text-anchor=\"middle\" x=\"221.09\" y=\"-110.3\" font-family=\"Times,serif\" font-size=\"14.00\">1</text>\n</g>\n<!-- 25 -->\n<g id=\"node8\" class=\"node\">\n<title>25</title>\n<ellipse fill=\"none\" stroke=\"black\" cx=\"221.09\" cy=\"-65.5\" rx=\"19.5\" ry=\"19.5\"/>\n<text text-anchor=\"middle\" x=\"221.09\" y=\"-61.8\" font-family=\"Times,serif\" font-size=\"14.00\">25</text>\n</g>\n<!-- 22&#45;&gt;25 -->\n<g id=\"edge7\" class=\"edge\">\n<title>22&#45;&gt;25</title>\n<path fill=\"none\" stroke=\"black\" d=\"M157.46,-92.12C168.36,-87.49 182.61,-81.43 194.76,-76.27\"/>\n<polygon fill=\"black\" stroke=\"black\" points=\"196.11,-78.93 202.77,-72.86 193.78,-73.45 196.11,-78.93\"/>\n<text text-anchor=\"middle\" x=\"180.1\" y=\"-88.3\" font-family=\"Times,serif\" font-size=\"14.00\">5</text>\n</g>\n<!-- 3 -->\n<g id=\"node9\" class=\"node\">\n<title>3</title>\n<ellipse fill=\"none\" stroke=\"black\" cx=\"303.09\" cy=\"-534.5\" rx=\"18\" ry=\"18\"/>\n<text text-anchor=\"middle\" x=\"303.09\" y=\"-530.8\" font-family=\"Times,serif\" font-size=\"14.00\">3</text>\n</g>\n<!-- 2&#45;&gt;3 -->\n<g id=\"edge8\" class=\"edge\">\n<title>2&#45;&gt;3</title>\n<path fill=\"none\" stroke=\"black\" d=\"M234,-473.1C241.01,-480.39 250.13,-489.64 258.59,-497.5 265.89,-504.28 274.17,-511.44 281.52,-517.63\"/>\n<polygon fill=\"black\" stroke=\"black\" points=\"280.07,-520.3 288.5,-523.46 283.88,-515.73 280.07,-520.3\"/>\n<text text-anchor=\"middle\" x=\"262.09\" y=\"-507.3\" font-family=\"Times,serif\" font-size=\"14.00\">5</text>\n</g>\n<!-- 4 -->\n<g id=\"node10\" class=\"node\">\n<title>4</title>\n<ellipse fill=\"none\" stroke=\"black\" cx=\"396.09\" cy=\"-483.5\" rx=\"18\" ry=\"18\"/>\n<text text-anchor=\"middle\" x=\"396.09\" y=\"-479.8\" font-family=\"Times,serif\" font-size=\"14.00\">4</text>\n</g>\n<!-- 2&#45;&gt;4 -->\n<g id=\"edge9\" class=\"edge\">\n<title>2&#45;&gt;4</title>\n<path fill=\"none\" stroke=\"black\" d=\"M239,-462.75C269.49,-466.8 333.84,-475.36 369.66,-480.12\"/>\n<polygon fill=\"black\" stroke=\"black\" points=\"369.3,-483.08 378.12,-481.24 370.08,-477.18 369.3,-483.08\"/>\n<text text-anchor=\"middle\" x=\"303.09\" y=\"-477.3\" font-family=\"Times,serif\" font-size=\"14.00\">1</text>\n</g>\n<!-- 12 -->\n<g id=\"node11\" class=\"node\">\n<title>12</title>\n<ellipse fill=\"none\" stroke=\"black\" cx=\"303.09\" cy=\"-315.5\" rx=\"19.5\" ry=\"19.5\"/>\n<text text-anchor=\"middle\" x=\"303.09\" y=\"-311.8\" font-family=\"Times,serif\" font-size=\"14.00\">12</text>\n</g>\n<!-- 11&#45;&gt;12 -->\n<g id=\"edge10\" class=\"edge\">\n<title>11&#45;&gt;12</title>\n<path fill=\"none\" stroke=\"black\" d=\"M239.45,-290.44C250.36,-294.8 264.6,-300.5 276.76,-305.36\"/>\n<polygon fill=\"black\" stroke=\"black\" points=\"275.77,-308.17 284.77,-308.57 277.99,-302.65 275.77,-308.17\"/>\n<text text-anchor=\"middle\" x=\"262.09\" y=\"-303.3\" font-family=\"Times,serif\" font-size=\"14.00\">ε</text>\n</g>\n<!-- 17 -->\n<g id=\"node12\" class=\"node\">\n<title>17</title>\n<ellipse fill=\"none\" stroke=\"black\" cx=\"303.09\" cy=\"-227.5\" rx=\"19.5\" ry=\"19.5\"/>\n<text text-anchor=\"middle\" x=\"303.09\" y=\"-223.8\" font-family=\"Times,serif\" font-size=\"14.00\">17</text>\n</g>\n<!-- 11&#45;&gt;17 -->\n<g id=\"edge11\" class=\"edge\">\n<title>11&#45;&gt;17</title>\n<path fill=\"none\" stroke=\"black\" d=\"M237.52,-272.7C249.47,-264.33 266.2,-252.62 279.64,-243.21\"/>\n<polygon fill=\"black\" stroke=\"black\" points=\"281.45,-245.57 286.71,-238.26 278.04,-240.7 281.45,-245.57\"/>\n<text text-anchor=\"middle\" x=\"262.09\" y=\"-260.3\" font-family=\"Times,serif\" font-size=\"14.00\">ε</text>\n</g>\n<!-- 24 -->\n<g id=\"node13\" class=\"node\">\n<title>24</title>\n<ellipse fill=\"none\" stroke=\"black\" cx=\"396.09\" cy=\"-55.5\" rx=\"19.5\" ry=\"19.5\"/>\n<text text-anchor=\"middle\" x=\"396.09\" y=\"-51.8\" font-family=\"Times,serif\" font-size=\"14.00\">24</text>\n</g>\n<!-- 23&#45;&gt;24 -->\n<g id=\"edge12\" class=\"edge\">\n<title>23&#45;&gt;24</title>\n<path fill=\"none\" stroke=\"black\" d=\"M320.36,-99.85C334.59,-91.4 355.45,-79.03 371.51,-69.49\"/>\n<polygon fill=\"black\" stroke=\"black\" points=\"373.17,-71.97 378.96,-65.07 370.13,-66.85 373.17,-71.97\"/>\n<text text-anchor=\"middle\" x=\"349.59\" y=\"-91.3\" font-family=\"Times,serif\" font-size=\"14.00\">1,5</text>\n</g>\n<!-- 25&#45;&gt;23 -->\n<g id=\"edge13\" class=\"edge\">\n<title>25&#45;&gt;23</title>\n<path fill=\"none\" stroke=\"black\" d=\"M238.67,-74.62C250.04,-80.87 265.31,-89.27 278.01,-96.26\"/>\n<polygon fill=\"black\" stroke=\"black\" points=\"276.66,-98.91 285.54,-100.4 279.52,-93.69 276.66,-98.91\"/>\n<text text-anchor=\"middle\" x=\"262.09\" y=\"-93.3\" font-family=\"Times,serif\" font-size=\"14.00\">5</text>\n</g>\n<!-- 25&#45;&gt;24 -->\n<g id=\"edge14\" class=\"edge\">\n<title>25&#45;&gt;24</title>\n<path fill=\"none\" stroke=\"black\" d=\"M240.61,-64.43C271.09,-62.67 332.01,-59.15 367.56,-57.09\"/>\n<polygon fill=\"black\" stroke=\"black\" points=\"368.14,-60.04 376.45,-56.58 367.79,-54.1 368.14,-60.04\"/>\n<text text-anchor=\"middle\" x=\"303.09\" y=\"-66.3\" font-family=\"Times,serif\" font-size=\"14.00\">1</text>\n</g>\n<!-- 3&#45;&gt;4 -->\n<g id=\"edge15\" class=\"edge\">\n<title>3&#45;&gt;4</title>\n<path fill=\"none\" stroke=\"black\" d=\"M319.12,-526.08C333.61,-517.96 355.73,-505.56 372.37,-496.23\"/>\n<polygon fill=\"black\" stroke=\"black\" points=\"374.08,-498.68 380.04,-491.93 371.17,-493.49 374.08,-498.68\"/>\n<text text-anchor=\"middle\" x=\"349.59\" y=\"-517.3\" font-family=\"Times,serif\" font-size=\"14.00\">5</text>\n</g>\n<!-- 4&#45;&gt;4 -->\n<g id=\"edge16\" class=\"edge\">\n<title>4&#45;&gt;4</title>\n<path fill=\"none\" stroke=\"black\" d=\"M388.42,-499.79C386.57,-509.89 389.13,-519.5 396.09,-519.5 400.98,-519.5 403.7,-514.75 404.24,-508.42\"/>\n<polygon fill=\"black\" stroke=\"black\" points=\"407.2,-508.11 403.76,-499.79 401.26,-508.44 407.2,-508.11\"/>\n<text text-anchor=\"middle\" x=\"396.09\" y=\"-523.3\" font-family=\"Times,serif\" font-size=\"14.00\">1,5</text>\n</g>\n<!-- 5 -->\n<g id=\"node14\" class=\"node\">\n<title>5</title>\n<ellipse fill=\"none\" stroke=\"black\" cx=\"485.08\" cy=\"-453.5\" rx=\"18\" ry=\"18\"/>\n<text text-anchor=\"middle\" x=\"485.08\" y=\"-449.8\" font-family=\"Times,serif\" font-size=\"14.00\">5</text>\n</g>\n<!-- 4&#45;&gt;5 -->\n<g id=\"edge17\" class=\"edge\">\n<title>4&#45;&gt;5</title>\n<path fill=\"none\" stroke=\"black\" d=\"M413.45,-477.86C426.45,-473.37 444.84,-467.03 459.59,-461.94\"/>\n<polygon fill=\"black\" stroke=\"black\" points=\"460.72,-464.7 467.79,-459.12 458.78,-459.07 460.72,-464.7\"/>\n<text text-anchor=\"middle\" x=\"440.59\" y=\"-473.3\" font-family=\"Times,serif\" font-size=\"14.00\">W</text>\n</g>\n<!-- 13 -->\n<g id=\"node15\" class=\"node\">\n<title>13</title>\n<ellipse fill=\"none\" stroke=\"black\" cx=\"396.09\" cy=\"-390.5\" rx=\"19.5\" ry=\"19.5\"/>\n<text text-anchor=\"middle\" x=\"396.09\" y=\"-386.8\" font-family=\"Times,serif\" font-size=\"14.00\">13</text>\n</g>\n<!-- 12&#45;&gt;13 -->\n<g id=\"edge18\" class=\"edge\">\n<title>12&#45;&gt;13</title>\n<path fill=\"none\" stroke=\"black\" d=\"M316.71,-329.47C323.49,-336.67 332.17,-345.4 340.59,-352.5 350.43,-360.79 362.04,-369.08 372.01,-375.78\"/>\n<polygon fill=\"black\" stroke=\"black\" points=\"370.53,-378.37 379.26,-380.57 373.81,-373.4 370.53,-378.37\"/>\n<text text-anchor=\"middle\" x=\"349.59\" y=\"-369.3\" font-family=\"Times,serif\" font-size=\"14.00\">5</text>\n</g>\n<!-- 14 -->\n<g id=\"node16\" class=\"node\">\n<title>14</title>\n<ellipse fill=\"none\" stroke=\"black\" cx=\"485.08\" cy=\"-339.5\" rx=\"19.5\" ry=\"19.5\"/>\n<text text-anchor=\"middle\" x=\"485.08\" y=\"-335.8\" font-family=\"Times,serif\" font-size=\"14.00\">14</text>\n</g>\n<!-- 12&#45;&gt;14 -->\n<g id=\"edge19\" class=\"edge\">\n<title>12&#45;&gt;14</title>\n<path fill=\"none\" stroke=\"black\" d=\"M322.68,-317.98C354.55,-322.23 419.8,-330.93 456.83,-335.86\"/>\n<polygon fill=\"black\" stroke=\"black\" points=\"456.78,-338.86 465.6,-337.03 457.57,-332.96 456.78,-338.86\"/>\n<text text-anchor=\"middle\" x=\"396.09\" y=\"-333.3\" font-family=\"Times,serif\" font-size=\"14.00\">1</text>\n</g>\n<!-- 18 -->\n<g id=\"node17\" class=\"node\">\n<title>18</title>\n<ellipse fill=\"none\" stroke=\"black\" cx=\"485.08\" cy=\"-238.5\" rx=\"19.5\" ry=\"19.5\"/>\n<text text-anchor=\"middle\" x=\"485.08\" y=\"-234.8\" font-family=\"Times,serif\" font-size=\"14.00\">18</text>\n</g>\n<!-- 17&#45;&gt;18 -->\n<g id=\"edge20\" class=\"edge\">\n<title>17&#45;&gt;18</title>\n<path fill=\"none\" stroke=\"black\" d=\"M322.62,-230.38C328.37,-231.18 334.73,-231.98 340.59,-232.5 380.93,-236.1 427.84,-237.54 456.75,-238.12\"/>\n<polygon fill=\"black\" stroke=\"black\" points=\"456.92,-241.1 465.47,-238.28 457.03,-235.15 456.92,-241.1\"/>\n<text text-anchor=\"middle\" x=\"396.09\" y=\"-240.3\" font-family=\"Times,serif\" font-size=\"14.00\">1</text>\n</g>\n<!-- 20 -->\n<g id=\"node18\" class=\"node\">\n<title>20</title>\n<ellipse fill=\"none\" stroke=\"black\" cx=\"396.09\" cy=\"-194.5\" rx=\"19.5\" ry=\"19.5\"/>\n<text text-anchor=\"middle\" x=\"396.09\" y=\"-190.8\" font-family=\"Times,serif\" font-size=\"14.00\">20</text>\n</g>\n<!-- 17&#45;&gt;20 -->\n<g id=\"edge21\" class=\"edge\">\n<title>17&#45;&gt;20</title>\n<path fill=\"none\" stroke=\"black\" d=\"M321.64,-221.14C335.23,-216.21 354.26,-209.3 369.55,-203.76\"/>\n<polygon fill=\"black\" stroke=\"black\" points=\"370.62,-206.54 377.6,-200.84 368.59,-200.94 370.62,-206.54\"/>\n<text text-anchor=\"middle\" x=\"349.59\" y=\"-217.3\" font-family=\"Times,serif\" font-size=\"14.00\">5</text>\n</g>\n<!-- 24&#45;&gt;24 -->\n<g id=\"edge50\" class=\"edge\">\n<title>24&#45;&gt;24</title>\n<path fill=\"none\" stroke=\"black\" d=\"M388.23,-73.63C386.77,-83.72 389.38,-93 396.09,-93 400.8,-93 403.49,-88.41 404.17,-82.18\"/>\n<polygon fill=\"black\" stroke=\"black\" points=\"407.14,-82.05 403.94,-73.63 401.19,-82.21 407.14,-82.05\"/>\n<text text-anchor=\"middle\" x=\"396.09\" y=\"-96.8\" font-family=\"Times,serif\" font-size=\"14.00\">1,5</text>\n</g>\n<!-- 21 -->\n<g id=\"node27\" class=\"node\">\n<title>21</title>\n<ellipse fill=\"none\" stroke=\"black\" cx=\"485.08\" cy=\"-49.5\" rx=\"19.5\" ry=\"19.5\"/>\n<text text-anchor=\"middle\" x=\"485.08\" y=\"-45.8\" font-family=\"Times,serif\" font-size=\"14.00\">21</text>\n</g>\n<!-- 24&#45;&gt;21 -->\n<g id=\"edge49\" class=\"edge\">\n<title>24&#45;&gt;21</title>\n<path fill=\"none\" stroke=\"black\" d=\"M415.96,-54.2C427.9,-53.38 443.53,-52.3 456.8,-51.38\"/>\n<polygon fill=\"black\" stroke=\"black\" points=\"457.26,-54.33 465.54,-50.78 456.86,-48.4 457.26,-54.33\"/>\n<text text-anchor=\"middle\" x=\"440.59\" y=\"-57.3\" font-family=\"Times,serif\" font-size=\"14.00\">C</text>\n</g>\n<!-- 5&#45;&gt;2 -->\n<g id=\"edge22\" class=\"edge\">\n<title>5&#45;&gt;2</title>\n<path fill=\"none\" stroke=\"black\" d=\"M466.85,-453.79C439.91,-454.25 386.17,-455.25 340.59,-456.5 308.66,-457.37 271.9,-458.66 247.9,-459.53\"/>\n<polygon fill=\"black\" stroke=\"black\" points=\"247.74,-456.56 239.36,-459.85 247.97,-462.51 247.74,-456.56\"/>\n<text text-anchor=\"middle\" x=\"349.59\" y=\"-460.3\" font-family=\"Times,serif\" font-size=\"14.00\">ε</text>\n</g>\n<!-- 7 -->\n<g id=\"node19\" class=\"node\">\n<title>7</title>\n<ellipse fill=\"none\" stroke=\"black\" cx=\"582.08\" cy=\"-453.5\" rx=\"18\" ry=\"18\"/>\n<text text-anchor=\"middle\" x=\"582.08\" y=\"-449.8\" font-family=\"Times,serif\" font-size=\"14.00\">7</text>\n</g>\n<!-- 5&#45;&gt;7 -->\n<g id=\"edge23\" class=\"edge\">\n<title>5&#45;&gt;7</title>\n<path fill=\"none\" stroke=\"black\" d=\"M503.51,-453.5C517.97,-453.5 538.75,-453.5 555.17,-453.5\"/>\n<polygon fill=\"black\" stroke=\"black\" points=\"555.27,-456.48 563.77,-453.5 555.27,-450.53 555.27,-456.48\"/>\n<text text-anchor=\"middle\" x=\"531.58\" y=\"-457.3\" font-family=\"Times,serif\" font-size=\"14.00\">ε</text>\n</g>\n<!-- 13&#45;&gt;14 -->\n<g id=\"edge32\" class=\"edge\">\n<title>13&#45;&gt;14</title>\n<path fill=\"none\" stroke=\"black\" d=\"M413.45,-380.91C426.7,-373.14 445.53,-362.1 460.42,-353.37\"/>\n<polygon fill=\"black\" stroke=\"black\" points=\"461.96,-355.92 467.79,-349.05 458.95,-350.78 461.96,-355.92\"/>\n<text text-anchor=\"middle\" x=\"440.59\" y=\"-371.3\" font-family=\"Times,serif\" font-size=\"14.00\">5</text>\n</g>\n<!-- 14&#45;&gt;14 -->\n<g id=\"edge33\" class=\"edge\">\n<title>14&#45;&gt;14</title>\n<path fill=\"none\" stroke=\"black\" d=\"M477.23,-357.63C475.76,-367.71 478.38,-377 485.08,-377 489.8,-377 492.49,-372.41 493.17,-366.18\"/>\n<polygon fill=\"black\" stroke=\"black\" points=\"496.14,-366.05 492.94,-357.63 490.19,-366.21 496.14,-366.05\"/>\n<text text-anchor=\"middle\" x=\"485.08\" y=\"-380.8\" font-family=\"Times,serif\" font-size=\"14.00\">1,5</text>\n</g>\n<!-- 15 -->\n<g id=\"node24\" class=\"node\">\n<title>15</title>\n<ellipse fill=\"none\" stroke=\"black\" cx=\"582.08\" cy=\"-312.5\" rx=\"23.5\" ry=\"23.5\"/>\n<ellipse fill=\"none\" stroke=\"black\" cx=\"582.08\" cy=\"-312.5\" rx=\"27.5\" ry=\"27.5\"/>\n<text text-anchor=\"middle\" x=\"582.08\" y=\"-308.8\" font-family=\"Times,serif\" font-size=\"14.00\">15</text>\n</g>\n<!-- 14&#45;&gt;15 -->\n<g id=\"edge34\" class=\"edge\">\n<title>14&#45;&gt;15</title>\n<path fill=\"none\" stroke=\"black\" d=\"M503.95,-334.42C517.19,-330.66 535.55,-325.44 551.04,-321.04\"/>\n<polygon fill=\"black\" stroke=\"black\" points=\"551.93,-323.88 559.29,-318.69 550.3,-318.16 551.93,-323.88\"/>\n<text text-anchor=\"middle\" x=\"531.58\" y=\"-331.3\" font-family=\"Times,serif\" font-size=\"14.00\">W</text>\n</g>\n<!-- 19 -->\n<g id=\"node25\" class=\"node\">\n<title>19</title>\n<ellipse fill=\"none\" stroke=\"black\" cx=\"582.08\" cy=\"-186.5\" rx=\"19.5\" ry=\"19.5\"/>\n<text text-anchor=\"middle\" x=\"582.08\" y=\"-182.8\" font-family=\"Times,serif\" font-size=\"14.00\">19</text>\n</g>\n<!-- 18&#45;&gt;19 -->\n<g id=\"edge35\" class=\"edge\">\n<title>18&#45;&gt;19</title>\n<path fill=\"none\" stroke=\"black\" d=\"M502.63,-229.44C517.62,-221.24 539.88,-209.05 556.86,-199.75\"/>\n<polygon fill=\"black\" stroke=\"black\" points=\"558.69,-202.14 564.72,-195.45 555.84,-196.92 558.69,-202.14\"/>\n<text text-anchor=\"middle\" x=\"531.58\" y=\"-220.3\" font-family=\"Times,serif\" font-size=\"14.00\">1,5</text>\n</g>\n<!-- 20&#45;&gt;18 -->\n<g id=\"edge36\" class=\"edge\">\n<title>20&#45;&gt;18</title>\n<path fill=\"none\" stroke=\"black\" d=\"M413.86,-202.98C426.86,-209.56 445.06,-218.76 459.67,-226.15\"/>\n<polygon fill=\"black\" stroke=\"black\" points=\"458.43,-228.86 467.36,-230.04 461.12,-223.55 458.43,-228.86\"/>\n<text text-anchor=\"middle\" x=\"440.59\" y=\"-222.3\" font-family=\"Times,serif\" font-size=\"14.00\">5</text>\n</g>\n<!-- 20&#45;&gt;19 -->\n<g id=\"edge37\" class=\"edge\">\n<title>20&#45;&gt;19</title>\n<path fill=\"none\" stroke=\"black\" d=\"M415.74,-193.69C448.39,-192.27 516.01,-189.33 553.88,-187.68\"/>\n<polygon fill=\"black\" stroke=\"black\" points=\"554.02,-190.65 562.38,-187.31 553.76,-184.71 554.02,-190.65\"/>\n<text text-anchor=\"middle\" x=\"485.08\" y=\"-194.3\" font-family=\"Times,serif\" font-size=\"14.00\">1</text>\n</g>\n<!-- 8 -->\n<g id=\"node20\" class=\"node\">\n<title>8</title>\n<ellipse fill=\"none\" stroke=\"black\" cx=\"761.07\" cy=\"-500.5\" rx=\"18\" ry=\"18\"/>\n<text text-anchor=\"middle\" x=\"761.07\" y=\"-496.8\" font-family=\"Times,serif\" font-size=\"14.00\">8</text>\n</g>\n<!-- 7&#45;&gt;8 -->\n<g id=\"edge24\" class=\"edge\">\n<title>7&#45;&gt;8</title>\n<path fill=\"none\" stroke=\"black\" d=\"M598.65,-461.37C606.09,-464.99 615.2,-469.2 623.58,-472.5 663.52,-488.21 674.15,-492.05 716.58,-498.5 722.27,-499.36 728.42,-499.89 734.25,-500.2\"/>\n<polygon fill=\"black\" stroke=\"black\" points=\"734.44,-503.19 743.05,-500.54 734.67,-497.24 734.44,-503.19\"/>\n<text text-anchor=\"middle\" x=\"675.08\" y=\"-498.3\" font-family=\"Times,serif\" font-size=\"14.00\">1</text>\n</g>\n<!-- 10 -->\n<g id=\"node21\" class=\"node\">\n<title>10</title>\n<ellipse fill=\"none\" stroke=\"black\" cx=\"675.08\" cy=\"-453.5\" rx=\"19.5\" ry=\"19.5\"/>\n<text text-anchor=\"middle\" x=\"675.08\" y=\"-449.8\" font-family=\"Times,serif\" font-size=\"14.00\">10</text>\n</g>\n<!-- 7&#45;&gt;10 -->\n<g id=\"edge25\" class=\"edge\">\n<title>7&#45;&gt;10</title>\n<path fill=\"none\" stroke=\"black\" d=\"M600.2,-453.5C613.24,-453.5 631.47,-453.5 646.56,-453.5\"/>\n<polygon fill=\"black\" stroke=\"black\" points=\"646.97,-456.48 655.47,-453.5 646.97,-450.53 646.97,-456.48\"/>\n<text text-anchor=\"middle\" x=\"628.58\" y=\"-457.3\" font-family=\"Times,serif\" font-size=\"14.00\">5</text>\n</g>\n<!-- 9 -->\n<g id=\"node22\" class=\"node\">\n<title>9</title>\n<ellipse fill=\"none\" stroke=\"black\" cx=\"858.07\" cy=\"-449.5\" rx=\"18\" ry=\"18\"/>\n<text text-anchor=\"middle\" x=\"858.07\" y=\"-445.8\" font-family=\"Times,serif\" font-size=\"14.00\">9</text>\n</g>\n<!-- 8&#45;&gt;9 -->\n<g id=\"edge26\" class=\"edge\">\n<title>8&#45;&gt;9</title>\n<path fill=\"none\" stroke=\"black\" d=\"M777.34,-492.3C792.71,-484.05 816.61,-471.22 834.24,-461.75\"/>\n<polygon fill=\"black\" stroke=\"black\" points=\"835.76,-464.31 841.85,-457.67 832.95,-459.07 835.76,-464.31\"/>\n<text text-anchor=\"middle\" x=\"807.57\" y=\"-483.3\" font-family=\"Times,serif\" font-size=\"14.00\">1,5</text>\n</g>\n<!-- 10&#45;&gt;8 -->\n<g id=\"edge27\" class=\"edge\">\n<title>10&#45;&gt;8</title>\n<path fill=\"none\" stroke=\"black\" d=\"M692.67,-462.78C705.38,-469.9 723.06,-479.79 737.13,-487.66\"/>\n<polygon fill=\"black\" stroke=\"black\" points=\"736.06,-490.47 744.93,-492.02 738.96,-485.28 736.06,-490.47\"/>\n<text text-anchor=\"middle\" x=\"720.08\" y=\"-483.3\" font-family=\"Times,serif\" font-size=\"14.00\">5</text>\n</g>\n<!-- 10&#45;&gt;9 -->\n<g id=\"edge28\" class=\"edge\">\n<title>10&#45;&gt;9</title>\n<path fill=\"none\" stroke=\"black\" d=\"M694.77,-453.09C727.24,-452.37 794.14,-450.89 831.1,-450.07\"/>\n<polygon fill=\"black\" stroke=\"black\" points=\"831.39,-453.04 839.82,-449.88 831.26,-447.09 831.39,-453.04\"/>\n<text text-anchor=\"middle\" x=\"761.07\" y=\"-455.3\" font-family=\"Times,serif\" font-size=\"14.00\">1</text>\n</g>\n<!-- 9&#45;&gt;9 -->\n<g id=\"edge29\" class=\"edge\">\n<title>9&#45;&gt;9</title>\n<path fill=\"none\" stroke=\"black\" d=\"M850.05,-465.79C848.12,-475.89 850.79,-485.5 858.07,-485.5 863.19,-485.5 866.03,-480.75 866.59,-474.42\"/>\n<polygon fill=\"black\" stroke=\"black\" points=\"869.55,-474.11 866.09,-465.79 863.61,-474.45 869.55,-474.11\"/>\n<text text-anchor=\"middle\" x=\"858.07\" y=\"-489.3\" font-family=\"Times,serif\" font-size=\"14.00\">1,5</text>\n</g>\n<!-- 6 -->\n<g id=\"node23\" class=\"node\">\n<title>6</title>\n<ellipse fill=\"none\" stroke=\"black\" cx=\"949.57\" cy=\"-414.5\" rx=\"22\" ry=\"22\"/>\n<ellipse fill=\"none\" stroke=\"black\" cx=\"949.57\" cy=\"-414.5\" rx=\"26\" ry=\"26\"/>\n<text text-anchor=\"middle\" x=\"949.57\" y=\"-410.8\" font-family=\"Times,serif\" font-size=\"14.00\">6</text>\n</g>\n<!-- 9&#45;&gt;6 -->\n<g id=\"edge30\" class=\"edge\">\n<title>9&#45;&gt;6</title>\n<path fill=\"none\" stroke=\"black\" d=\"M875.07,-443.24C887.71,-438.3 905.66,-431.28 920.66,-425.41\"/>\n<polygon fill=\"black\" stroke=\"black\" points=\"921.81,-428.16 928.64,-422.29 919.64,-422.62 921.81,-428.16\"/>\n<text text-anchor=\"middle\" x=\"904.57\" y=\"-436.3\" font-family=\"Times,serif\" font-size=\"14.00\">C</text>\n</g>\n<!-- 6&#45;&gt;7 -->\n<g id=\"edge31\" class=\"edge\">\n<title>6&#45;&gt;7</title>\n<path fill=\"none\" stroke=\"black\" d=\"M928.14,-408.72C910.12,-404.14 883.06,-398.5 859.07,-398.5 674.08,-398.5 674.08,-398.5 674.08,-398.5 645.56,-398.5 618.32,-418.53 601.2,-434.41\"/>\n<polygon fill=\"black\" stroke=\"black\" points=\"598.98,-432.42 594.94,-440.46 603.12,-436.69 598.98,-432.42\"/>\n<text text-anchor=\"middle\" x=\"761.07\" y=\"-402.3\" font-family=\"Times,serif\" font-size=\"14.00\">ε</text>\n</g>\n<!-- 15&#45;&gt;12 -->\n<g id=\"edge38\" class=\"edge\">\n<title>15&#45;&gt;12</title>\n<path fill=\"none\" stroke=\"black\" d=\"M558.32,-312.12C543.11,-311.89 522.65,-311.62 504.58,-311.5 487.25,-311.38 482.92,-311.28 465.59,-311.5 418.62,-312.08 363.99,-313.61 331.82,-314.6\"/>\n<polygon fill=\"black\" stroke=\"black\" points=\"331.38,-311.64 322.98,-314.88 331.57,-317.59 331.38,-311.64\"/>\n<text text-anchor=\"middle\" x=\"440.59\" y=\"-315.3\" font-family=\"Times,serif\" font-size=\"14.00\">ε</text>\n</g>\n<!-- 19&#45;&gt;19 -->\n<g id=\"edge39\" class=\"edge\">\n<title>19&#45;&gt;19</title>\n<path fill=\"none\" stroke=\"black\" d=\"M573.93,-204.24C572.27,-214.47 574.98,-224 582.08,-224 587.07,-224 589.9,-219.29 590.56,-212.94\"/>\n<polygon fill=\"black\" stroke=\"black\" points=\"593.53,-212.62 590.23,-204.24 587.58,-212.85 593.53,-212.62\"/>\n<text text-anchor=\"middle\" x=\"582.08\" y=\"-227.8\" font-family=\"Times,serif\" font-size=\"14.00\">1,5</text>\n</g>\n<!-- 16 -->\n<g id=\"node26\" class=\"node\">\n<title>16</title>\n<ellipse fill=\"none\" stroke=\"black\" cx=\"675.08\" cy=\"-172.5\" rx=\"23.5\" ry=\"23.5\"/>\n<ellipse fill=\"none\" stroke=\"black\" cx=\"675.08\" cy=\"-172.5\" rx=\"27.5\" ry=\"27.5\"/>\n<text text-anchor=\"middle\" x=\"675.08\" y=\"-168.8\" font-family=\"Times,serif\" font-size=\"14.00\">16</text>\n</g>\n<!-- 19&#45;&gt;16 -->\n<g id=\"edge40\" class=\"edge\">\n<title>19&#45;&gt;16</title>\n<path fill=\"none\" stroke=\"black\" d=\"M601.5,-183.67C613.34,-181.84 629.03,-179.43 642.79,-177.31\"/>\n<polygon fill=\"black\" stroke=\"black\" points=\"643.55,-180.2 651.5,-175.97 642.65,-174.32 643.55,-180.2\"/>\n<text text-anchor=\"middle\" x=\"628.58\" y=\"-183.3\" font-family=\"Times,serif\" font-size=\"14.00\">C</text>\n</g>\n<!-- 16&#45;&gt;17 -->\n<g id=\"edge41\" class=\"edge\">\n<title>16&#45;&gt;17</title>\n<path fill=\"none\" stroke=\"black\" d=\"M655.11,-159.76C637.3,-149.06 609.51,-135.5 583.08,-135.5 395.09,-135.5 395.09,-135.5 395.09,-135.5 357.47,-135.5 330.12,-174.87 315.71,-202.1\"/>\n<polygon fill=\"black\" stroke=\"black\" points=\"313.02,-200.83 311.83,-209.76 318.32,-203.52 313.02,-200.83\"/>\n<text text-anchor=\"middle\" x=\"485.08\" y=\"-139.3\" font-family=\"Times,serif\" font-size=\"14.00\">ε</text>\n</g>\n<!-- 21&#45;&gt;22 -->\n<g id=\"edge42\" class=\"edge\">\n<title>21&#45;&gt;22</title>\n<path fill=\"none\" stroke=\"black\" d=\"M469.76,-37.29C453.33,-24.58 425.06,-6.5 397.09,-6.5 220.09,-6.5 220.09,-6.5 220.09,-6.5 184.77,-6.5 161.64,-45.53 149.73,-73.02\"/>\n<polygon fill=\"black\" stroke=\"black\" points=\"146.88,-72.13 146.4,-81.13 152.38,-74.39 146.88,-72.13\"/>\n<text text-anchor=\"middle\" x=\"303.09\" y=\"-10.3\" font-family=\"Times,serif\" font-size=\"14.00\">ε</text>\n</g>\n<!-- 26 -->\n<g id=\"node28\" class=\"node\">\n<title>26</title>\n<ellipse fill=\"none\" stroke=\"black\" cx=\"582.08\" cy=\"-49.5\" rx=\"19.5\" ry=\"19.5\"/>\n<text text-anchor=\"middle\" x=\"582.08\" y=\"-45.8\" font-family=\"Times,serif\" font-size=\"14.00\">26</text>\n</g>\n<!-- 21&#45;&gt;26 -->\n<g id=\"edge43\" class=\"edge\">\n<title>21&#45;&gt;26</title>\n<path fill=\"none\" stroke=\"black\" d=\"M504.85,-49.5C518.77,-49.5 537.97,-49.5 553.62,-49.5\"/>\n<polygon fill=\"black\" stroke=\"black\" points=\"553.85,-52.48 562.35,-49.5 553.85,-46.53 553.85,-52.48\"/>\n<text text-anchor=\"middle\" x=\"531.58\" y=\"-53.3\" font-family=\"Times,serif\" font-size=\"14.00\">ε</text>\n</g>\n<!-- 27 -->\n<g id=\"node29\" class=\"node\">\n<title>27</title>\n<ellipse fill=\"none\" stroke=\"black\" cx=\"675.08\" cy=\"-101.5\" rx=\"19.5\" ry=\"19.5\"/>\n<text text-anchor=\"middle\" x=\"675.08\" y=\"-97.8\" font-family=\"Times,serif\" font-size=\"14.00\">27</text>\n</g>\n<!-- 26&#45;&gt;27 -->\n<g id=\"edge44\" class=\"edge\">\n<title>26&#45;&gt;27</title>\n<path fill=\"none\" stroke=\"black\" d=\"M599.35,-58.8C613.5,-66.88 634.18,-78.7 650.2,-87.86\"/>\n<polygon fill=\"black\" stroke=\"black\" points=\"648.78,-90.47 657.64,-92.11 651.74,-85.31 648.78,-90.47\"/>\n<text text-anchor=\"middle\" x=\"628.58\" y=\"-81.3\" font-family=\"Times,serif\" font-size=\"14.00\">5</text>\n</g>\n<!-- 28 -->\n<g id=\"node30\" class=\"node\">\n<title>28</title>\n<ellipse fill=\"none\" stroke=\"black\" cx=\"761.07\" cy=\"-50.5\" rx=\"19.5\" ry=\"19.5\"/>\n<text text-anchor=\"middle\" x=\"761.07\" y=\"-46.8\" font-family=\"Times,serif\" font-size=\"14.00\">28</text>\n</g>\n<!-- 26&#45;&gt;28 -->\n<g id=\"edge45\" class=\"edge\">\n<title>26&#45;&gt;28</title>\n<path fill=\"none\" stroke=\"black\" d=\"M601.69,-49.61C633.03,-49.78 696.46,-50.14 732.83,-50.35\"/>\n<polygon fill=\"black\" stroke=\"black\" points=\"732.93,-53.32 741.45,-50.4 732.97,-47.37 732.93,-53.32\"/>\n<text text-anchor=\"middle\" x=\"675.08\" y=\"-54.3\" font-family=\"Times,serif\" font-size=\"14.00\">1</text>\n</g>\n<!-- 27&#45;&gt;28 -->\n<g id=\"edge46\" class=\"edge\">\n<title>27&#45;&gt;28</title>\n<path fill=\"none\" stroke=\"black\" d=\"M692.27,-91.67C704.82,-84.05 722.39,-73.38 736.5,-64.81\"/>\n<polygon fill=\"black\" stroke=\"black\" points=\"738.21,-67.26 743.93,-60.3 735.12,-62.17 738.21,-67.26\"/>\n<text text-anchor=\"middle\" x=\"720.08\" y=\"-80.3\" font-family=\"Times,serif\" font-size=\"14.00\">5</text>\n</g>\n<!-- 28&#45;&gt;28 -->\n<g id=\"edge47\" class=\"edge\">\n<title>28&#45;&gt;28</title>\n<path fill=\"none\" stroke=\"black\" d=\"M753.88,-69.02C752.66,-78.95 755.06,-88 761.07,-88 765.21,-88 767.64,-83.72 768.35,-77.82\"/>\n<polygon fill=\"black\" stroke=\"black\" points=\"771.32,-77.49 768.26,-69.02 765.37,-77.55 771.32,-77.49\"/>\n<text text-anchor=\"middle\" x=\"761.07\" y=\"-91.8\" font-family=\"Times,serif\" font-size=\"14.00\">1,5</text>\n</g>\n<!-- 29 -->\n<g id=\"node31\" class=\"node\">\n<title>29</title>\n<ellipse fill=\"none\" stroke=\"black\" cx=\"858.07\" cy=\"-27.5\" rx=\"23.5\" ry=\"23.5\"/>\n<ellipse fill=\"none\" stroke=\"black\" cx=\"858.07\" cy=\"-27.5\" rx=\"27.5\" ry=\"27.5\"/>\n<text text-anchor=\"middle\" x=\"858.07\" y=\"-23.8\" font-family=\"Times,serif\" font-size=\"14.00\">29</text>\n</g>\n<!-- 28&#45;&gt;29 -->\n<g id=\"edge48\" class=\"edge\">\n<title>28&#45;&gt;29</title>\n<path fill=\"none\" stroke=\"black\" d=\"M780.39,-46.07C793.46,-42.9 811.34,-38.57 826.55,-34.89\"/>\n<polygon fill=\"black\" stroke=\"black\" points=\"827.58,-37.7 835.14,-32.81 826.18,-31.92 827.58,-37.7\"/>\n<text text-anchor=\"middle\" x=\"807.57\" y=\"-45.3\" font-family=\"Times,serif\" font-size=\"14.00\">W</text>\n</g>\n<!-- 29&#45;&gt;26 -->\n<g id=\"edge51\" class=\"edge\">\n<title>29&#45;&gt;26</title>\n<path fill=\"none\" stroke=\"black\" d=\"M834.33,-25.62C819.12,-24.47 798.66,-23.09 780.57,-22.5 763.25,-21.94 758.85,-21.04 741.58,-22.5 695,-26.44 641.53,-36.78 610.12,-43.46\"/>\n<polygon fill=\"black\" stroke=\"black\" points=\"609.18,-40.62 601.5,-45.32 610.44,-46.44 609.18,-40.62\"/>\n<text text-anchor=\"middle\" x=\"720.08\" y=\"-29.3\" font-family=\"Times,serif\" font-size=\"14.00\">ε</text>\n</g>\n</g>\n</svg>\n",
            "text/plain": [
              "<AGraph <Swig Object of type 'Agraph_t *' at 0x7d150e0f28e0>>"
            ]
          },
          "metadata": {},
          "execution_count": 23
        }
      ],
      "source": [
        "# m1m2 + m1um2 + m2m1\n",
        "my_nfa_concatenation2 = my_nfa_can.concatenate(my_nfa_water)\n",
        "\n",
        "tmp = my_nfa_concatenation1.union(my_nfa_union)\n",
        "\n",
        "final_nfa = tmp.union(my_nfa_concatenation2)\n",
        "\n",
        "final_nfa.show_diagram()"
      ]
    },
    {
      "cell_type": "markdown",
      "metadata": {
        "id": "XE4Vowy2Nsnx"
      },
      "source": [
        "\n",
        "\n",
        "**(16) TODO Evaluate the following inpunts for the NFA created \"15C1W\",\"555C1W\",\"15C\",\"51C\",\"111C\",\"1W555C\"**\n"
      ]
    },
    {
      "cell_type": "code",
      "execution_count": null,
      "metadata": {
        "id": "nPiLzEVyF2to",
        "colab": {
          "base_uri": "https://localhost:8080/"
        },
        "outputId": "54005308-6be9-4001-ea7a-2b88926fa557"
      },
      "outputs": [
        {
          "output_type": "stream",
          "name": "stdout",
          "text": [
            "Accepted\n"
          ]
        }
      ],
      "source": [
        "if final_nfa.accepts_input('151W'):\n",
        "    print('Accepted')\n",
        "else:\n",
        "    print('Rejected')"
      ]
    },
    {
      "cell_type": "code",
      "source": [
        "if final_nfa.accepts_input('555C1W'):\n",
        "    print('Accepted')\n",
        "else:\n",
        "    print('Rejected')"
      ],
      "metadata": {
        "colab": {
          "base_uri": "https://localhost:8080/"
        },
        "id": "7jbXZsbH6CPI",
        "outputId": "5ab97310-12ca-40be-efec-d1731a08b7c0"
      },
      "execution_count": null,
      "outputs": [
        {
          "output_type": "stream",
          "name": "stdout",
          "text": [
            "Accepted\n"
          ]
        }
      ]
    },
    {
      "cell_type": "code",
      "source": [
        "if final_nfa.accepts_input('15C'):\n",
        "    print('Accepted')\n",
        "else:\n",
        "    print('Rejected')"
      ],
      "metadata": {
        "colab": {
          "base_uri": "https://localhost:8080/"
        },
        "id": "oQTEY0e16EPA",
        "outputId": "b0f19bf9-b5eb-46dd-cb59-33d777f17b2a"
      },
      "execution_count": null,
      "outputs": [
        {
          "output_type": "stream",
          "name": "stdout",
          "text": [
            "Accepted\n"
          ]
        }
      ]
    },
    {
      "cell_type": "code",
      "source": [
        "if final_nfa.accepts_input('111C'):\n",
        "    print('Accepted')\n",
        "else:\n",
        "    print('Rejected')"
      ],
      "metadata": {
        "colab": {
          "base_uri": "https://localhost:8080/"
        },
        "id": "dSRtONnp6Ghw",
        "outputId": "f07b4eea-0dd2-4405-a191-ebb284c246c2"
      },
      "execution_count": null,
      "outputs": [
        {
          "output_type": "stream",
          "name": "stdout",
          "text": [
            "Accepted\n"
          ]
        }
      ]
    },
    {
      "cell_type": "code",
      "source": [
        "if final_nfa.accepts_input('1W555C'):\n",
        "    print('Accepted')\n",
        "else:\n",
        "    print('Rejected')"
      ],
      "metadata": {
        "colab": {
          "base_uri": "https://localhost:8080/"
        },
        "id": "vRTmFVgB6JXg",
        "outputId": "b48e91a8-b46b-4584-d35c-b061c9ab7272"
      },
      "execution_count": null,
      "outputs": [
        {
          "output_type": "stream",
          "name": "stdout",
          "text": [
            "Accepted\n"
          ]
        }
      ]
    },
    {
      "cell_type": "markdown",
      "metadata": {
        "id": "VP03-kFCDLFG"
      },
      "source": [
        "**(17) TODO Convert the NFA for the vending machine into a regular expresion.**\n",
        "\n",
        "\n"
      ]
    },
    {
      "cell_type": "code",
      "execution_count": null,
      "metadata": {
        "id": "lcglIzK0F2to",
        "colab": {
          "base_uri": "https://localhost:8080/",
          "height": 53
        },
        "outputId": "f0367099-9a49-496c-f723-33f7bba0efca"
      },
      "outputs": [
        {
          "output_type": "execute_result",
          "data": {
            "text/plain": [
              "'(55|1)(W(55|1)|(1|5))*W|((5(5(5|1)|1)|1(5|1))(C(5(5(5|1)|1)|1(5|1))|(5|1))*C(55|1)(W(55|1)|(1|5))*W|((5(5(5|1)|1)|1(5|1))(C(5(5(5|1)|1)|1(5|1))|(5|1))*C|(55|1)(W(55|1)|(1|5))*W(5(5(5|1)|1)|1(5|1))(C(5(5(5|1)|1)|1(5|1))|(5|1))*C))'"
            ],
            "application/vnd.google.colaboratory.intrinsic+json": {
              "type": "string"
            }
          },
          "metadata": {},
          "execution_count": 29
        }
      ],
      "source": [
        "from automata.fa.gnfa import GNFA\n",
        "GNFA.from_nfa(final_nfa).to_regex()"
      ]
    },
    {
      "cell_type": "markdown",
      "metadata": {
        "id": "nWFnxic4GmeV"
      },
      "source": [
        "**(18) Create a NFA from a given RegEx and test some possible values**\n",
        "\n",
        "```\n",
        "(0|1)*10(0|1)*\n",
        "```\n",
        "\n",
        "\n"
      ]
    },
    {
      "cell_type": "code",
      "execution_count": null,
      "metadata": {
        "id": "ToOrFfvXF2to",
        "colab": {
          "base_uri": "https://localhost:8080/",
          "height": 327
        },
        "outputId": "58492b83-1014-47a3-f47d-39a6f4059103"
      },
      "outputs": [
        {
          "output_type": "execute_result",
          "data": {
            "image/svg+xml": "<?xml version=\"1.0\" encoding=\"UTF-8\" standalone=\"no\"?>\n<!DOCTYPE svg PUBLIC \"-//W3C//DTD SVG 1.1//EN\"\n \"http://www.w3.org/Graphics/SVG/1.1/DTD/svg11.dtd\">\n<!-- Generated by graphviz version 2.43.0 (0)\n -->\n<!-- Pages: 1 -->\n<svg width=\"986pt\" height=\"229pt\"\n viewBox=\"0.00 0.00 985.59 229.05\" xmlns=\"http://www.w3.org/2000/svg\" xmlns:xlink=\"http://www.w3.org/1999/xlink\">\n<g id=\"graph0\" class=\"graph\" transform=\"scale(1 1) rotate(0) translate(4 225.05)\">\n<polygon fill=\"white\" stroke=\"transparent\" points=\"-4,4 -4,-225.05 981.59,-225.05 981.59,4 -4,4\"/>\n<!-- 1f295c76&#45;9e6c&#45;4711&#45;b4fc&#45;78c956fc0d29 -->\n<g id=\"node1\" class=\"node\">\n<title>1f295c76&#45;9e6c&#45;4711&#45;b4fc&#45;78c956fc0d29</title>\n<g id=\"a_node1\"><a xlink:title=\".\">\n<ellipse fill=\"black\" stroke=\"black\" cx=\"1.8\" cy=\"-112.05\" rx=\"1.8\" ry=\"1.8\"/>\n</a>\n</g>\n</g>\n<!-- 5 -->\n<g id=\"node2\" class=\"node\">\n<title>5</title>\n<ellipse fill=\"none\" stroke=\"black\" cx=\"58.6\" cy=\"-112.05\" rx=\"18\" ry=\"18\"/>\n<text text-anchor=\"middle\" x=\"58.6\" y=\"-108.35\" font-family=\"Times,serif\" font-size=\"14.00\">5</text>\n</g>\n<!-- 1f295c76&#45;9e6c&#45;4711&#45;b4fc&#45;78c956fc0d29&#45;&gt;5 -->\n<g id=\"edge1\" class=\"edge\">\n<title>1f295c76&#45;9e6c&#45;4711&#45;b4fc&#45;78c956fc0d29&#45;&gt;5</title>\n<g id=\"a_edge1\"><a xlink:title=\"&#45;&gt;5\">\n<path fill=\"none\" stroke=\"black\" d=\"M3.75,-112.05C7.25,-112.05 19.84,-112.05 31.96,-112.05\"/>\n<polygon fill=\"black\" stroke=\"black\" points=\"32.08,-115.02 40.58,-112.05 32.07,-109.07 32.08,-115.02\"/>\n</a>\n</g>\n</g>\n<!-- 4 -->\n<g id=\"node3\" class=\"node\">\n<title>4</title>\n<ellipse fill=\"none\" stroke=\"black\" cx=\"137.6\" cy=\"-112.05\" rx=\"18\" ry=\"18\"/>\n<text text-anchor=\"middle\" x=\"137.6\" y=\"-108.35\" font-family=\"Times,serif\" font-size=\"14.00\">4</text>\n</g>\n<!-- 5&#45;&gt;4 -->\n<g id=\"edge2\" class=\"edge\">\n<title>5&#45;&gt;4</title>\n<path fill=\"none\" stroke=\"black\" d=\"M76.69,-112.05C86.76,-112.05 99.69,-112.05 110.96,-112.05\"/>\n<polygon fill=\"black\" stroke=\"black\" points=\"111.06,-115.02 119.56,-112.05 111.06,-109.07 111.06,-115.02\"/>\n<text text-anchor=\"middle\" x=\"98.1\" y=\"-115.85\" font-family=\"Times,serif\" font-size=\"14.00\">ε</text>\n</g>\n<!-- 0 -->\n<g id=\"node4\" class=\"node\">\n<title>0</title>\n<ellipse fill=\"none\" stroke=\"black\" cx=\"216.6\" cy=\"-163.05\" rx=\"18\" ry=\"18\"/>\n<text text-anchor=\"middle\" x=\"216.6\" y=\"-159.35\" font-family=\"Times,serif\" font-size=\"14.00\">0</text>\n</g>\n<!-- 4&#45;&gt;0 -->\n<g id=\"edge3\" class=\"edge\">\n<title>4&#45;&gt;0</title>\n<path fill=\"none\" stroke=\"black\" d=\"M153.08,-121.64C164.59,-129.27 180.87,-140.05 193.92,-148.69\"/>\n<polygon fill=\"black\" stroke=\"black\" points=\"192.45,-151.28 201.18,-153.5 195.74,-146.32 192.45,-151.28\"/>\n<text text-anchor=\"middle\" x=\"177.1\" y=\"-142.85\" font-family=\"Times,serif\" font-size=\"14.00\">ε</text>\n</g>\n<!-- 6 -->\n<g id=\"node5\" class=\"node\">\n<title>6</title>\n<ellipse fill=\"none\" stroke=\"black\" cx=\"374.6\" cy=\"-146.05\" rx=\"18\" ry=\"18\"/>\n<text text-anchor=\"middle\" x=\"374.6\" y=\"-142.35\" font-family=\"Times,serif\" font-size=\"14.00\">6</text>\n</g>\n<!-- 4&#45;&gt;6 -->\n<g id=\"edge4\" class=\"edge\">\n<title>4&#45;&gt;6</title>\n<path fill=\"none\" stroke=\"black\" d=\"M145.53,-128.23C154.6,-147.1 172.5,-177.32 198.6,-190.05 250.21,-215.23 317.64,-181.79 351.77,-160.77\"/>\n<polygon fill=\"black\" stroke=\"black\" points=\"353.72,-163.05 359.31,-155.99 350.54,-158.03 353.72,-163.05\"/>\n<text text-anchor=\"middle\" x=\"256.1\" y=\"-201.85\" font-family=\"Times,serif\" font-size=\"14.00\">ε</text>\n</g>\n<!-- 2 -->\n<g id=\"node6\" class=\"node\">\n<title>2</title>\n<ellipse fill=\"none\" stroke=\"black\" cx=\"216.6\" cy=\"-58.05\" rx=\"18\" ry=\"18\"/>\n<text text-anchor=\"middle\" x=\"216.6\" y=\"-54.35\" font-family=\"Times,serif\" font-size=\"14.00\">2</text>\n</g>\n<!-- 4&#45;&gt;2 -->\n<g id=\"edge5\" class=\"edge\">\n<title>4&#45;&gt;2</title>\n<path fill=\"none\" stroke=\"black\" d=\"M151.51,-100.53C157.96,-95 165.99,-88.42 173.6,-83.05 179.65,-78.79 186.44,-74.53 192.78,-70.76\"/>\n<polygon fill=\"black\" stroke=\"black\" points=\"194.61,-73.14 200.47,-66.3 191.63,-67.99 194.61,-73.14\"/>\n<text text-anchor=\"middle\" x=\"177.1\" y=\"-86.85\" font-family=\"Times,serif\" font-size=\"14.00\">ε</text>\n</g>\n<!-- 1 -->\n<g id=\"node7\" class=\"node\">\n<title>1</title>\n<ellipse fill=\"none\" stroke=\"black\" cx=\"295.6\" cy=\"-146.05\" rx=\"18\" ry=\"18\"/>\n<text text-anchor=\"middle\" x=\"295.6\" y=\"-142.35\" font-family=\"Times,serif\" font-size=\"14.00\">1</text>\n</g>\n<!-- 0&#45;&gt;1 -->\n<g id=\"edge6\" class=\"edge\">\n<title>0&#45;&gt;1</title>\n<path fill=\"none\" stroke=\"black\" d=\"M234.31,-159.36C244.6,-157.09 257.99,-154.13 269.54,-151.58\"/>\n<polygon fill=\"black\" stroke=\"black\" points=\"270.26,-154.47 277.92,-149.73 268.98,-148.66 270.26,-154.47\"/>\n<text text-anchor=\"middle\" x=\"256.1\" y=\"-158.85\" font-family=\"Times,serif\" font-size=\"14.00\">0</text>\n</g>\n<!-- 7 -->\n<g id=\"node8\" class=\"node\">\n<title>7</title>\n<ellipse fill=\"none\" stroke=\"black\" cx=\"453.6\" cy=\"-146.05\" rx=\"18\" ry=\"18\"/>\n<text text-anchor=\"middle\" x=\"453.6\" y=\"-142.35\" font-family=\"Times,serif\" font-size=\"14.00\">7</text>\n</g>\n<!-- 6&#45;&gt;7 -->\n<g id=\"edge7\" class=\"edge\">\n<title>6&#45;&gt;7</title>\n<path fill=\"none\" stroke=\"black\" d=\"M392.69,-146.05C402.76,-146.05 415.69,-146.05 426.96,-146.05\"/>\n<polygon fill=\"black\" stroke=\"black\" points=\"427.06,-149.02 435.56,-146.05 427.06,-143.07 427.06,-149.02\"/>\n<text text-anchor=\"middle\" x=\"414.1\" y=\"-149.85\" font-family=\"Times,serif\" font-size=\"14.00\">1</text>\n</g>\n<!-- 3 -->\n<g id=\"node9\" class=\"node\">\n<title>3</title>\n<ellipse fill=\"none\" stroke=\"black\" cx=\"295.6\" cy=\"-58.05\" rx=\"18\" ry=\"18\"/>\n<text text-anchor=\"middle\" x=\"295.6\" y=\"-54.35\" font-family=\"Times,serif\" font-size=\"14.00\">3</text>\n</g>\n<!-- 2&#45;&gt;3 -->\n<g id=\"edge8\" class=\"edge\">\n<title>2&#45;&gt;3</title>\n<path fill=\"none\" stroke=\"black\" d=\"M234.69,-58.05C244.76,-58.05 257.69,-58.05 268.96,-58.05\"/>\n<polygon fill=\"black\" stroke=\"black\" points=\"269.06,-61.03 277.56,-58.05 269.06,-55.08 269.06,-61.03\"/>\n<text text-anchor=\"middle\" x=\"256.1\" y=\"-61.85\" font-family=\"Times,serif\" font-size=\"14.00\">1</text>\n</g>\n<!-- 1&#45;&gt;4 -->\n<g id=\"edge9\" class=\"edge\">\n<title>1&#45;&gt;4</title>\n<path fill=\"none\" stroke=\"black\" d=\"M279.25,-138.14C267.38,-132.4 250.37,-124.98 234.6,-121.05 211.32,-115.25 184.02,-113.13 164.5,-112.38\"/>\n<polygon fill=\"black\" stroke=\"black\" points=\"164.45,-109.4 155.86,-112.12 164.27,-115.35 164.45,-109.4\"/>\n<text text-anchor=\"middle\" x=\"216.6\" y=\"-124.85\" font-family=\"Times,serif\" font-size=\"14.00\">ε</text>\n</g>\n<!-- 1&#45;&gt;6 -->\n<g id=\"edge10\" class=\"edge\">\n<title>1&#45;&gt;6</title>\n<path fill=\"none\" stroke=\"black\" d=\"M313.69,-146.05C323.76,-146.05 336.69,-146.05 347.96,-146.05\"/>\n<polygon fill=\"black\" stroke=\"black\" points=\"348.06,-149.02 356.56,-146.05 348.06,-143.07 348.06,-149.02\"/>\n<text text-anchor=\"middle\" x=\"335.1\" y=\"-149.85\" font-family=\"Times,serif\" font-size=\"14.00\">ε</text>\n</g>\n<!-- 8 -->\n<g id=\"node10\" class=\"node\">\n<title>8</title>\n<ellipse fill=\"none\" stroke=\"black\" cx=\"532.6\" cy=\"-146.05\" rx=\"18\" ry=\"18\"/>\n<text text-anchor=\"middle\" x=\"532.6\" y=\"-142.35\" font-family=\"Times,serif\" font-size=\"14.00\">8</text>\n</g>\n<!-- 7&#45;&gt;8 -->\n<g id=\"edge11\" class=\"edge\">\n<title>7&#45;&gt;8</title>\n<path fill=\"none\" stroke=\"black\" d=\"M471.69,-146.05C481.76,-146.05 494.69,-146.05 505.96,-146.05\"/>\n<polygon fill=\"black\" stroke=\"black\" points=\"506.06,-149.02 514.56,-146.05 506.06,-143.07 506.06,-149.02\"/>\n<text text-anchor=\"middle\" x=\"493.1\" y=\"-149.85\" font-family=\"Times,serif\" font-size=\"14.00\">ε</text>\n</g>\n<!-- 3&#45;&gt;4 -->\n<g id=\"edge12\" class=\"edge\">\n<title>3&#45;&gt;4</title>\n<path fill=\"none\" stroke=\"black\" d=\"M282.43,-45.53C263.86,-28 227.56,0 198.6,-16.05 171.65,-30.98 155.21,-63.62 146.51,-86.69\"/>\n<polygon fill=\"black\" stroke=\"black\" points=\"143.71,-85.69 143.65,-94.7 149.31,-87.69 143.71,-85.69\"/>\n<text text-anchor=\"middle\" x=\"216.6\" y=\"-19.85\" font-family=\"Times,serif\" font-size=\"14.00\">ε</text>\n</g>\n<!-- 3&#45;&gt;6 -->\n<g id=\"edge13\" class=\"edge\">\n<title>3&#45;&gt;6</title>\n<path fill=\"none\" stroke=\"black\" d=\"M308.29,-71.42C321.03,-85.97 341.54,-109.41 356.17,-126.14\"/>\n<polygon fill=\"black\" stroke=\"black\" points=\"354.21,-128.42 362.05,-132.85 358.69,-124.5 354.21,-128.42\"/>\n<text text-anchor=\"middle\" x=\"335.1\" y=\"-108.85\" font-family=\"Times,serif\" font-size=\"14.00\">ε</text>\n</g>\n<!-- 9 -->\n<g id=\"node11\" class=\"node\">\n<title>9</title>\n<ellipse fill=\"none\" stroke=\"black\" cx=\"611.6\" cy=\"-146.05\" rx=\"18\" ry=\"18\"/>\n<text text-anchor=\"middle\" x=\"611.6\" y=\"-142.35\" font-family=\"Times,serif\" font-size=\"14.00\">9</text>\n</g>\n<!-- 8&#45;&gt;9 -->\n<g id=\"edge14\" class=\"edge\">\n<title>8&#45;&gt;9</title>\n<path fill=\"none\" stroke=\"black\" d=\"M550.69,-146.05C560.76,-146.05 573.69,-146.05 584.96,-146.05\"/>\n<polygon fill=\"black\" stroke=\"black\" points=\"585.06,-149.02 593.56,-146.05 585.06,-143.07 585.06,-149.02\"/>\n<text text-anchor=\"middle\" x=\"572.1\" y=\"-149.85\" font-family=\"Times,serif\" font-size=\"14.00\">0</text>\n</g>\n<!-- 15 -->\n<g id=\"node12\" class=\"node\">\n<title>15</title>\n<ellipse fill=\"none\" stroke=\"black\" cx=\"692.1\" cy=\"-146.05\" rx=\"19.5\" ry=\"19.5\"/>\n<text text-anchor=\"middle\" x=\"692.1\" y=\"-142.35\" font-family=\"Times,serif\" font-size=\"14.00\">15</text>\n</g>\n<!-- 9&#45;&gt;15 -->\n<g id=\"edge15\" class=\"edge\">\n<title>9&#45;&gt;15</title>\n<path fill=\"none\" stroke=\"black\" d=\"M629.63,-146.05C639.6,-146.05 652.41,-146.05 663.75,-146.05\"/>\n<polygon fill=\"black\" stroke=\"black\" points=\"663.95,-149.02 672.45,-146.05 663.95,-143.07 663.95,-149.02\"/>\n<text text-anchor=\"middle\" x=\"651.1\" y=\"-149.85\" font-family=\"Times,serif\" font-size=\"14.00\">ε</text>\n</g>\n<!-- 14 -->\n<g id=\"node13\" class=\"node\">\n<title>14</title>\n<ellipse fill=\"none\" stroke=\"black\" cx=\"778.09\" cy=\"-146.05\" rx=\"23.5\" ry=\"23.5\"/>\n<ellipse fill=\"none\" stroke=\"black\" cx=\"778.09\" cy=\"-146.05\" rx=\"27.5\" ry=\"27.5\"/>\n<text text-anchor=\"middle\" x=\"778.09\" y=\"-142.35\" font-family=\"Times,serif\" font-size=\"14.00\">14</text>\n</g>\n<!-- 15&#45;&gt;14 -->\n<g id=\"edge16\" class=\"edge\">\n<title>15&#45;&gt;14</title>\n<path fill=\"none\" stroke=\"black\" d=\"M711.74,-146.05C721.66,-146.05 734.12,-146.05 745.49,-146.05\"/>\n<polygon fill=\"black\" stroke=\"black\" points=\"745.82,-149.02 754.32,-146.05 745.82,-143.07 745.82,-149.02\"/>\n<text text-anchor=\"middle\" x=\"733.1\" y=\"-149.85\" font-family=\"Times,serif\" font-size=\"14.00\">ε</text>\n</g>\n<!-- 10 -->\n<g id=\"node14\" class=\"node\">\n<title>10</title>\n<ellipse fill=\"none\" stroke=\"black\" cx=\"864.09\" cy=\"-174.05\" rx=\"19.5\" ry=\"19.5\"/>\n<text text-anchor=\"middle\" x=\"864.09\" y=\"-170.35\" font-family=\"Times,serif\" font-size=\"14.00\">10</text>\n</g>\n<!-- 14&#45;&gt;10 -->\n<g id=\"edge17\" class=\"edge\">\n<title>14&#45;&gt;10</title>\n<path fill=\"none\" stroke=\"black\" d=\"M800.73,-153.26C811.91,-156.99 825.64,-161.57 837.37,-165.48\"/>\n<polygon fill=\"black\" stroke=\"black\" points=\"836.49,-168.32 845.49,-168.18 838.36,-162.67 836.49,-168.32\"/>\n<text text-anchor=\"middle\" x=\"823.09\" y=\"-164.85\" font-family=\"Times,serif\" font-size=\"14.00\">ε</text>\n</g>\n<!-- 12 -->\n<g id=\"node15\" class=\"node\">\n<title>12</title>\n<ellipse fill=\"none\" stroke=\"black\" cx=\"864.09\" cy=\"-117.05\" rx=\"19.5\" ry=\"19.5\"/>\n<text text-anchor=\"middle\" x=\"864.09\" y=\"-113.35\" font-family=\"Times,serif\" font-size=\"14.00\">12</text>\n</g>\n<!-- 14&#45;&gt;12 -->\n<g id=\"edge18\" class=\"edge\">\n<title>14&#45;&gt;12</title>\n<path fill=\"none\" stroke=\"black\" d=\"M800.73,-138.58C811.91,-134.72 825.64,-129.98 837.37,-125.93\"/>\n<polygon fill=\"black\" stroke=\"black\" points=\"838.42,-128.71 845.49,-123.13 836.48,-123.09 838.42,-128.71\"/>\n<text text-anchor=\"middle\" x=\"823.09\" y=\"-134.85\" font-family=\"Times,serif\" font-size=\"14.00\">ε</text>\n</g>\n<!-- 11 -->\n<g id=\"node16\" class=\"node\">\n<title>11</title>\n<ellipse fill=\"none\" stroke=\"black\" cx=\"950.09\" cy=\"-189.05\" rx=\"23.5\" ry=\"23.5\"/>\n<ellipse fill=\"none\" stroke=\"black\" cx=\"950.09\" cy=\"-189.05\" rx=\"27.5\" ry=\"27.5\"/>\n<text text-anchor=\"middle\" x=\"950.09\" y=\"-185.35\" font-family=\"Times,serif\" font-size=\"14.00\">11</text>\n</g>\n<!-- 10&#45;&gt;11 -->\n<g id=\"edge19\" class=\"edge\">\n<title>10&#45;&gt;11</title>\n<path fill=\"none\" stroke=\"black\" d=\"M883.32,-177.31C893.47,-179.12 906.38,-181.42 918.07,-183.51\"/>\n<polygon fill=\"black\" stroke=\"black\" points=\"917.82,-186.49 926.71,-185.05 918.86,-180.63 917.82,-186.49\"/>\n<text text-anchor=\"middle\" x=\"905.09\" y=\"-184.85\" font-family=\"Times,serif\" font-size=\"14.00\">0</text>\n</g>\n<!-- 13 -->\n<g id=\"node17\" class=\"node\">\n<title>13</title>\n<ellipse fill=\"none\" stroke=\"black\" cx=\"950.09\" cy=\"-102.05\" rx=\"23.5\" ry=\"23.5\"/>\n<ellipse fill=\"none\" stroke=\"black\" cx=\"950.09\" cy=\"-102.05\" rx=\"27.5\" ry=\"27.5\"/>\n<text text-anchor=\"middle\" x=\"950.09\" y=\"-98.35\" font-family=\"Times,serif\" font-size=\"14.00\">13</text>\n</g>\n<!-- 12&#45;&gt;13 -->\n<g id=\"edge21\" class=\"edge\">\n<title>12&#45;&gt;13</title>\n<path fill=\"none\" stroke=\"black\" d=\"M883.32,-113.8C893.47,-111.98 906.38,-109.68 918.07,-107.59\"/>\n<polygon fill=\"black\" stroke=\"black\" points=\"918.86,-110.47 926.71,-106.05 917.82,-104.61 918.86,-110.47\"/>\n<text text-anchor=\"middle\" x=\"905.09\" y=\"-114.85\" font-family=\"Times,serif\" font-size=\"14.00\">1</text>\n</g>\n<!-- 11&#45;&gt;14 -->\n<g id=\"edge20\" class=\"edge\">\n<title>11&#45;&gt;14</title>\n<path fill=\"none\" stroke=\"black\" d=\"M928,-197.3C906.42,-204.48 872.2,-212.25 844.59,-202.05 827.3,-195.67 811.49,-182.46 799.73,-170.48\"/>\n<polygon fill=\"black\" stroke=\"black\" points=\"801.62,-168.15 793.63,-163.99 797.28,-172.22 801.62,-168.15\"/>\n<text text-anchor=\"middle\" x=\"864.09\" y=\"-209.85\" font-family=\"Times,serif\" font-size=\"14.00\">ε</text>\n</g>\n<!-- 13&#45;&gt;14 -->\n<g id=\"edge22\" class=\"edge\">\n<title>13&#45;&gt;14</title>\n<path fill=\"none\" stroke=\"black\" d=\"M930,-89.43C908.58,-76.96 873.11,-61.44 844.59,-74.05 823.95,-83.18 807.02,-102.38 795.55,-118.65\"/>\n<polygon fill=\"black\" stroke=\"black\" points=\"792.96,-117.17 790.67,-125.88 797.89,-120.5 792.96,-117.17\"/>\n<text text-anchor=\"middle\" x=\"864.09\" y=\"-77.85\" font-family=\"Times,serif\" font-size=\"14.00\">ε</text>\n</g>\n</g>\n</svg>\n",
            "text/plain": [
              "<AGraph <Swig Object of type 'Agraph_t *' at 0x7d150e1906c0>>"
            ]
          },
          "metadata": {},
          "execution_count": 30
        }
      ],
      "source": [
        "my_nfa = NFA.from_regex('(0|1)*10(0|1)*')\n",
        "my_nfa.show_diagram()"
      ]
    },
    {
      "cell_type": "code",
      "source": [
        "if my_nfa.accepts_input(input('Please enter your input: ')):\n",
        "    print('Accepted')\n",
        "else:\n",
        "    print('Rejected')"
      ],
      "metadata": {
        "colab": {
          "base_uri": "https://localhost:8080/"
        },
        "id": "nbpVUZ148h17",
        "outputId": "bf9eba98-60bf-47a1-daf2-4e7ff23d1684"
      },
      "execution_count": null,
      "outputs": [
        {
          "output_type": "stream",
          "name": "stdout",
          "text": [
            "Please enter your input: 10\n",
            "Accepted\n"
          ]
        }
      ]
    },
    {
      "cell_type": "markdown",
      "metadata": {
        "id": "y55eqH428gWN"
      },
      "source": [
        "It accepts any binary string that contains a 10."
      ]
    }
  ],
  "metadata": {
    "kernelspec": {
      "display_name": ".venv",
      "language": "python",
      "name": "python3"
    },
    "language_info": {
      "codemirror_mode": {
        "name": "ipython",
        "version": 3
      },
      "file_extension": ".py",
      "mimetype": "text/x-python",
      "name": "python",
      "nbconvert_exporter": "python",
      "pygments_lexer": "ipython3",
      "version": "3.11.6"
    },
    "colab": {
      "provenance": []
    }
  },
  "nbformat": 4,
  "nbformat_minor": 0
}