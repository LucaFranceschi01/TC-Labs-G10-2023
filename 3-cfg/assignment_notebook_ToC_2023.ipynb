{
  "cells": [
    {
      "cell_type": "markdown",
      "metadata": {},
      "source": [
        "Theory of Computation 2023 - Guillermo Zeller\n",
        "\n",
        "Deliverable Context Free Grammars in Phyton\n",
        "\n",
        "Please indicate the full names and NIAs of the team members as well as the team number\n",
        "\n",
        "TEAM: #10\n",
        "\n",
        "MEMBERS:\n",
        "\n",
        "\t(253885) - Luca Franceschi\n",
        "\t(253048) - Candela Álvarez López\n",
        "\t(254537) - Pau Ametller López"
      ]
    },
    {
      "cell_type": "code",
      "execution_count": null,
      "metadata": {
        "id": "jiCDpF2VNfHT"
      },
      "outputs": [],
      "source": [
        "# If using Colaborate then allow Google to use your data files\n",
        "\n",
        "# CHANGE BEFORE DELIVERING\n",
        "# from google.colab import drive\n",
        "# drive.mount('/content/drive')"
      ]
    },
    {
      "cell_type": "code",
      "execution_count": null,
      "metadata": {
        "id": "HjYA92wWNjlt"
      },
      "outputs": [],
      "source": [
        "#cd to the directory in drive you will use (change to your shared folder)\n",
        "\n",
        "# CHANGE BEFORE DELIVERING\n",
        "# %cd /content/drive/Shareddrives/ToC-2023/DELIVS/DELIV-1"
      ]
    },
    {
      "cell_type": "code",
      "execution_count": null,
      "metadata": {
        "id": "w8Xzh1mi1tLm"
      },
      "outputs": [],
      "source": [
        "# CHANGE BEFORE DELIVERING\n",
        "# !pip install nltk\n",
        "import nltk\n",
        "from nltk.grammar import *\n",
        "# !pip install svgling"
      ]
    },
    {
      "cell_type": "markdown",
      "metadata": {
        "id": "WiaDsu9I0PwX"
      },
      "source": [
        "(1) TODO What are the elements that compose a context-free grammar?"
      ]
    },
    {
      "cell_type": "markdown",
      "metadata": {},
      "source": [
        "<span style='color:red'>TODO</span>"
      ]
    },
    {
      "cell_type": "markdown",
      "metadata": {
        "id": "-auYwrmV4kDb"
      },
      "source": [
        "Using the library NLTK we can implement a grammar. See the below example. The instance is create from a string that contains the production rules.\n",
        "You can find the corresponding documentation on the following links:\n",
        "\n",
        "\n",
        "1.   https://coli-saar.github.io/cl20/notebooks/CFGs.html\n",
        "2.   https://www.nltk.org/api/nltk.grammar.html\n",
        "\n",
        "See the following example on how to create a CFG:\n",
        "\n",
        "```\n",
        "\n",
        "grammar = CFG.fromstring(\"\"\"\n",
        "S -> A B\n",
        "A -> 'go to'\n",
        "B -> 'school' | 'work' | 'gym'\n",
        "\"\"\")\n",
        "```\n",
        "\n"
      ]
    },
    {
      "cell_type": "markdown",
      "metadata": {
        "id": "nYO6KEk649w7"
      },
      "source": [
        "\n",
        "(2) TODO Implement a CFG that can generate strings contatenating the action \"play\" followed by \"the piano\", \"a game\" or \"football\"\n"
      ]
    },
    {
      "cell_type": "code",
      "execution_count": null,
      "metadata": {},
      "outputs": [],
      "source": [
        "# TODO"
      ]
    },
    {
      "cell_type": "markdown",
      "metadata": {
        "id": "sIzcMjSy5Sr2"
      },
      "source": [
        "(3) TODO Using the function generate you can see all the possible results that your CFG can generate. Note that in a grammar with an recursive link, the results are infinite and therefore can not be shown\n",
        "\n",
        "```\n",
        "# list(generate(your_grammar))\n",
        "```\n"
      ]
    },
    {
      "cell_type": "code",
      "execution_count": null,
      "metadata": {},
      "outputs": [],
      "source": [
        "# TODO"
      ]
    },
    {
      "cell_type": "markdown",
      "metadata": {
        "id": "D_js8wLY5nCe"
      },
      "source": [
        "(4) TODO add more complexity on the CFG add the possibility to add an subjecte to the CFF, in a way that can genereate \"I play a game\" or \"you play football\". Generate all the possible strings."
      ]
    },
    {
      "cell_type": "code",
      "execution_count": null,
      "metadata": {},
      "outputs": [],
      "source": [
        "# TODO"
      ]
    },
    {
      "cell_type": "markdown",
      "metadata": {
        "id": "8a1OglXK7bke"
      },
      "source": [
        "(5) TODO Create a simple CFG that generate the arithemtic expresion for multiplication using only the two integers that can be 1,2 or 3\n",
        "(E.g 1* 1, 1* 2, 1*3, etc)"
      ]
    },
    {
      "cell_type": "code",
      "execution_count": null,
      "metadata": {},
      "outputs": [],
      "source": [
        "# TODO"
      ]
    },
    {
      "cell_type": "markdown",
      "metadata": {
        "id": "Oo4w3LS2HdCa"
      },
      "source": [
        "(6) TODO Generate the list of possible strings"
      ]
    },
    {
      "cell_type": "code",
      "execution_count": null,
      "metadata": {},
      "outputs": [],
      "source": [
        "# TODO"
      ]
    },
    {
      "cell_type": "markdown",
      "metadata": {
        "id": "kNLM40_TGm33"
      },
      "source": [
        "\n",
        "(7) TODO Create a simple CFG that generate the arithemtic expresion for adding, resting, multiplication, division using only the two integers that can be 1,2 or 3. (E.g 1+1, 1-2, 1*3, 1/1, etc). Note no nesting is requested in this step.\n",
        "\n"
      ]
    },
    {
      "cell_type": "code",
      "execution_count": null,
      "metadata": {},
      "outputs": [],
      "source": [
        "# TODO"
      ]
    },
    {
      "cell_type": "markdown",
      "metadata": {
        "id": "cSE-rt8oHomp"
      },
      "source": [
        "(8) TODO Generate the list of possible strings"
      ]
    },
    {
      "cell_type": "code",
      "execution_count": null,
      "metadata": {},
      "outputs": [],
      "source": [
        "# TODO"
      ]
    },
    {
      "cell_type": "markdown",
      "metadata": {
        "id": "UMlTTO0jHt08"
      },
      "source": [
        "(9) TODO Create a CFG that generate any arithemtic expresion for adding, resting, multiplication, division and can be combined with expresions and parenthesis. Nesting is requested in this case.\n",
        "Extend the possible integers from 1 to 9\n",
        "E.g 1+(2*2); (2(3)*2); 1+2+3, etc"
      ]
    },
    {
      "cell_type": "code",
      "execution_count": null,
      "metadata": {},
      "outputs": [],
      "source": [
        "# TODO"
      ]
    },
    {
      "cell_type": "markdown",
      "metadata": {
        "id": "mhmHA_t3MR9s"
      },
      "source": [
        "In this case, the functiona generate will not work as probably the CFG has recursive productions. In order to verity if the grammar is correct we can create a generation a derivation tree.\n",
        "\n",
        "(10) TODO To derivate the operation 1+4 see the following example\n",
        "\n",
        "\n",
        "\n",
        "```\n",
        "sent = ['1', '+', '4']\n",
        "parser = nltk.ChartParser(ar_grammar3)\n",
        "trees = list(parser.parse(sent))\n",
        "\n",
        "print(trees[0])\n",
        "\n",
        "trees[0]\n",
        "```\n",
        "\n",
        "\n",
        "\n"
      ]
    },
    {
      "cell_type": "code",
      "execution_count": null,
      "metadata": {},
      "outputs": [],
      "source": [
        "# TODO"
      ]
    },
    {
      "cell_type": "markdown",
      "metadata": {},
      "source": [
        "<span style='color:red'>TODO</span>"
      ]
    },
    {
      "cell_type": "markdown",
      "metadata": {
        "id": "eITvoqLrdHbj"
      },
      "source": [
        "(11) TODO check if your grammar can derivate the following operations\n",
        "\n",
        "\n",
        "1.   2*(2+1)\n",
        "2.   2/(2/1)\n",
        "3.   (2* 3)+(2* 2)-1\n",
        "4.   ((1+2+3)-(1+2))*(2+2)\n",
        "\n"
      ]
    },
    {
      "cell_type": "code",
      "execution_count": null,
      "metadata": {
        "id": "ccPNQw0RLHpS"
      },
      "outputs": [],
      "source": [
        "complex_arithmetic_op = ['2', '*', '(','2','+','1',')']\n",
        "trees = list(parser.parse(complex_arithmetic_op))\n",
        "\n",
        "# TODO"
      ]
    },
    {
      "cell_type": "markdown",
      "metadata": {
        "id": "WNTnrMBag2rj"
      },
      "source": [
        "Using the methond productions combined with the existing filters, we can obtain a subset of the productions. The filter allow to select by lefthand or righthand of the producion.\n",
        "\n",
        "\n",
        "```\n",
        "grammar3.productions(lhs=Nonterminal(\"A\"))\n",
        "```\n",
        "\n"
      ]
    },
    {
      "cell_type": "markdown",
      "metadata": {
        "id": "3bZdOrXfgKgh"
      },
      "source": [
        "(12) TODO On the latest CFG probably there is a production that convert the integer into the actual numbers. Use the method production to obtain ONLY this production. you will need to apply some filters.\n",
        "\n",
        "Check on the API for reference. https://www.nltk.org/api/nltk.grammar.html"
      ]
    },
    {
      "cell_type": "code",
      "execution_count": null,
      "metadata": {},
      "outputs": [],
      "source": [
        "# TODO"
      ]
    },
    {
      "cell_type": "markdown",
      "metadata": {
        "id": "N4xGECqWhgVT"
      },
      "source": [
        "(13) TODO Obtain only the production that is used to allow parenthesis"
      ]
    },
    {
      "cell_type": "code",
      "execution_count": null,
      "metadata": {},
      "outputs": [],
      "source": [
        "# TODO"
      ]
    },
    {
      "cell_type": "markdown",
      "metadata": {
        "id": "jMcM_NID0DMG"
      },
      "source": [
        "Context-free grammar are the principle to in the sintaxis analysis for compilers. For example, for a Java code, an specific CFG you can parse the code and evaluate if it follows the sintaxis rules.\n",
        "\n",
        "(14) TODO Create a context-free grammar that can generate a code with a condition in a programming languange.\n",
        "\n",
        "*   The condition 'if' can include 'else' or not.\n",
        "*   The possible expresion in the condition can evaluate three variables var1, var2 and var3 and use the following operators '=', '<' and '>'.\n",
        "*   After the condition the actions can be callAPI or openFile.\n",
        "*   It should be possible to nest condition, meaning add an \"if\" inside of the \"if\".\n",
        "\n",
        "Some of the possible codes that can generate:\n",
        "```\n",
        "if (var1 = var2) {\n",
        "  callAPI\n",
        "}else{\n",
        "  openFile\n",
        "}\n",
        "\n",
        "```\n",
        "```\n",
        "if (var1 < var2) {\n",
        "  callAPI\n",
        "}\n",
        "\n",
        "```\n",
        "```\n",
        "if (var1 = var2) {\n",
        "  callAPI\n",
        "}else{\n",
        "  if(var1>var3){\n",
        "    openFile\n",
        "  }\n",
        "}\n",
        "```\n"
      ]
    },
    {
      "cell_type": "code",
      "execution_count": null,
      "metadata": {},
      "outputs": [],
      "source": [
        "# TODO"
      ]
    },
    {
      "cell_type": "markdown",
      "metadata": {
        "id": "A8O2QxZMNDQO"
      },
      "source": [
        "(15) TODO Do the derivation for the following code\n",
        "\n",
        "```\n",
        "code = ['if', '(', 'var1', '=', 'var2', ')', '{','callAPI', '}else{','openFile','}']\n",
        "```"
      ]
    },
    {
      "cell_type": "code",
      "execution_count": null,
      "metadata": {},
      "outputs": [],
      "source": [
        "# TODO"
      ]
    },
    {
      "cell_type": "markdown",
      "metadata": {
        "id": "4VXyDo4CsIEz"
      },
      "source": [
        "(16) TODO Create a context-free grammar that can generate a palindrome strings with the characters a, b, r and s.\n",
        "Check if the following palindroms can be derivated:\n",
        "\n",
        "\n",
        "1.   aaa\n",
        "2.   sarabaras\n",
        "3.   asbsa\n"
      ]
    },
    {
      "cell_type": "code",
      "execution_count": null,
      "metadata": {},
      "outputs": [],
      "source": [
        "# TODO"
      ]
    }
  ],
  "metadata": {
    "colab": {
      "provenance": []
    },
    "kernelspec": {
      "display_name": "Python 3",
      "name": "python3"
    },
    "language_info": {
      "name": "python"
    }
  },
  "nbformat": 4,
  "nbformat_minor": 0
}
