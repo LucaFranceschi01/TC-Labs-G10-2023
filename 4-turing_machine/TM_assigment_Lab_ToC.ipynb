{
  "cells": [
    {
      "cell_type": "code",
      "execution_count": null,
      "metadata": {
        "id": "XYFUWdX-Kxhy"
      },
      "outputs": [],
      "source": [
        "# If using Colaborate then allow Google to use your data files\n",
        "#from google.colab import drive\n",
        "#drive.mount('/content/drive')"
      ]
    },
    {
      "cell_type": "code",
      "execution_count": null,
      "metadata": {
        "id": "9EWmmcUVKzWf"
      },
      "outputs": [],
      "source": [
        "#cd to the directory in drive you will use (change to your shared folder)\n",
        "#%cd /content/drive/Shareddrives/ToC-2023/DELIVS/DELIV-1"
      ]
    },
    {
      "cell_type": "code",
      "execution_count": 1,
      "metadata": {
        "id": "mUxubJcdmAON"
      },
      "outputs": [],
      "source": [
        "# %pip install automata-lib\n",
        "from automata.tm.ntm import NTM\n"
      ]
    },
    {
      "cell_type": "markdown",
      "metadata": {
        "id": "IpgiaU0yK3SH"
      },
      "source": [
        "(1) TODO What are the elements that compose a Turing Machine?"
      ]
    },
    {
      "cell_type": "markdown",
      "metadata": {},
      "source": [
        "<font color='red'>TODO</font>"
      ]
    },
    {
      "cell_type": "markdown",
      "metadata": {
        "id": "Ge3hv8KqqD_q"
      },
      "source": [
        "Using the library automata.tm we can implement a Turing Machine.\n",
        "See the following example on how to create a Turing Machine:"
      ]
    },
    {
      "cell_type": "code",
      "execution_count": 2,
      "metadata": {
        "id": "kzv2MR_gmfL0"
      },
      "outputs": [],
      "source": [
        "# NTM which matches all strings beginning with '0's, and followed by\n",
        "# the same number of '1's\n",
        "# Note that the nondeterminism is not really used here.\n",
        "ntm = NTM(\n",
        "    states={'q0', 'q1', 'q2', 'q3', 'q4'},\n",
        "    input_symbols={'0', '1'},\n",
        "    tape_symbols={'0', '1', 'x', 'y', '.'},\n",
        "    transitions={\n",
        "        'q0': {\n",
        "            '0': {('q1', 'x', 'R')},\n",
        "            'y': {('q3', 'y', 'R')},\n",
        "        },\n",
        "        'q1': {\n",
        "            '0': {('q1', '0', 'R')},\n",
        "            '1': {('q2', 'y', 'L')},\n",
        "            'y': {('q1', 'y', 'R')},\n",
        "        },\n",
        "        'q2': {\n",
        "            '0': {('q2', '0', 'L')},\n",
        "            'x': {('q0', 'x', 'R')},\n",
        "            'y': {('q2', 'y', 'L')},\n",
        "        },\n",
        "        'q3': {\n",
        "            'y': {('q3', 'y', 'R')},\n",
        "            '.': {('q4', '.', 'R')},\n",
        "        }\n",
        "    },\n",
        "    initial_state='q0',\n",
        "    blank_symbol='.',\n",
        "    final_states={'q4'}\n",
        ")"
      ]
    },
    {
      "cell_type": "markdown",
      "metadata": {
        "id": "MEhcMLMWLHun"
      },
      "source": [
        "Using the method accepts_input we can evaluate if the Turing Machine halts in an accepting state or not for a specific input on the tape"
      ]
    },
    {
      "cell_type": "code",
      "execution_count": 3,
      "metadata": {
        "colab": {
          "base_uri": "https://localhost:8080/"
        },
        "id": "xz3ExVWfmpCk",
        "outputId": "e7f0739e-e81a-42bc-c6f9-4d8f32e0e35b"
      },
      "outputs": [
        {
          "name": "stdout",
          "output_type": "stream",
          "text": [
            "accepted\n"
          ]
        }
      ],
      "source": [
        "if ntm.accepts_input('00001111'):\n",
        "    print('accepted')\n",
        "else:\n",
        "    print('rejected')"
      ]
    },
    {
      "cell_type": "markdown",
      "metadata": {
        "id": "7c9bSs3wLTy6"
      },
      "source": [
        "Using the method read_input we can see the end result of the tape for a specific input on the tape"
      ]
    },
    {
      "cell_type": "code",
      "execution_count": 6,
      "metadata": {
        "colab": {
          "base_uri": "https://localhost:8080/"
        },
        "id": "iqg_1mPBm7fe",
        "outputId": "49192e8d-be4f-4c76-ab6a-80e2c6c91234"
      },
      "outputs": [
        {
          "name": "stdout",
          "output_type": "stream",
          "text": [
            "q4: xxxyyy..\n",
            "           ^\n"
          ]
        }
      ],
      "source": [
        "ntm.read_input('000111').pop().print()"
      ]
    },
    {
      "cell_type": "markdown",
      "metadata": {
        "id": "g3lnUDUCLiEY"
      },
      "source": [
        "(2) TODO Implement a TM that can evaluate Palindrom words, it needs to accept even and noon palindrom words with the symbols a and b. Check with few inputs if the TM works as expected."
      ]
    },
    {
      "cell_type": "code",
      "execution_count": null,
      "metadata": {},
      "outputs": [],
      "source": [
        "pal = NTM(\n",
        "\tstates={},\n",
        "    input_symbols={'a', 'b'},\n",
        "    tape_symbols={'a', 'b', 'x', 'y', '.'},\n",
        "    transitions={\n",
        "        'q0': {\n",
        "            '0': {('q1', 'x', 'R')},\n",
        "            'y': {('q3', 'y', 'R')},\n",
        "        }\n",
        "    },\n",
        "    initial_state='q0',\n",
        "    blank_symbol='.',\n",
        "    final_states={'q4'}\n",
        ")"
      ]
    },
    {
      "cell_type": "markdown",
      "metadata": {
        "id": "jeatrXdPPDyW"
      },
      "source": [
        "(3) TODO Implement a TM that can calculate an addition of two natural numbers codified in unary notation, e.g. 110111 needs to return 11111, 101 = 11, 11101 =1111, etc. Check with few inputs if the TM works as expected."
      ]
    },
    {
      "cell_type": "markdown",
      "metadata": {
        "id": "PlxKa6JUPq9S"
      },
      "source": [
        "(4) TODO Implement a TM that can calculate a multiplication of two natural numbers codified in unary notation, e.g. 110111 needs to return 11111, 101 = 11, 11101 =1111, etc. Check with few inputs if the TM works as expected."
      ]
    }
  ],
  "metadata": {
    "colab": {
      "provenance": []
    },
    "kernelspec": {
      "display_name": "Python 3",
      "name": "python3"
    },
    "language_info": {
      "codemirror_mode": {
        "name": "ipython",
        "version": 3
      },
      "file_extension": ".py",
      "mimetype": "text/x-python",
      "name": "python",
      "nbconvert_exporter": "python",
      "pygments_lexer": "ipython3",
      "version": "3.12.0"
    }
  },
  "nbformat": 4,
  "nbformat_minor": 0
}
