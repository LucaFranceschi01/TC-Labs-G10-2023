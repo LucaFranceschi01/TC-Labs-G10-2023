{
  "cells": [
    {
      "cell_type": "code",
      "execution_count": 1,
      "metadata": {
        "id": "XYFUWdX-Kxhy"
      },
      "outputs": [],
      "source": [
        "# If using Colaborate then allow Google to use your data files\n",
        "#from google.colab import drive\n",
        "#drive.mount('/content/drive')"
      ]
    },
    {
      "cell_type": "code",
      "execution_count": 2,
      "metadata": {
        "id": "9EWmmcUVKzWf"
      },
      "outputs": [],
      "source": [
        "#cd to the directory in drive you will use (change to your shared folder)\n",
        "#%cd /content/drive/Shareddrives/ToC-2023/DELIVS/DELIV-1"
      ]
    },
    {
      "cell_type": "code",
      "execution_count": 3,
      "metadata": {
        "id": "mUxubJcdmAON"
      },
      "outputs": [],
      "source": [
        "# %pip install automata-lib\n",
        "from automata.tm.ntm import NTM\n"
      ]
    },
    {
      "cell_type": "markdown",
      "metadata": {
        "id": "IpgiaU0yK3SH"
      },
      "source": [
        "(1) TODO What are the elements that compose a Turing Machine?"
      ]
    },
    {
      "cell_type": "markdown",
      "metadata": {},
      "source": [
        "A Turing Machine M is a 7-tuple (Q, Σ, Γ, δ, q0, qA, qR) where:\n",
        "\n",
        "- Q is a finite state of states\n",
        "- Σ is the input alphabet \n",
        "- Γ is the tape alphabet (Σ ∈ Γ)\n",
        "- q0 ∈ Q the initial state\n",
        "- qA ∈ Q the accepting state\n",
        "- qR ∈ Q the reject state\n",
        "- δ the transition function: δ : QxΓ → QxΓx{L, R}"
      ]
    },
    {
      "cell_type": "markdown",
      "metadata": {
        "id": "Ge3hv8KqqD_q"
      },
      "source": [
        "Using the library automata.tm we can implement a Turing Machine.\n",
        "See the following example on how to create a Turing Machine:"
      ]
    },
    {
      "cell_type": "code",
      "execution_count": 4,
      "metadata": {
        "id": "kzv2MR_gmfL0"
      },
      "outputs": [],
      "source": [
        "# NTM which matches all strings beginning with '0's, and followed by\n",
        "# the same number of '1's\n",
        "# Note that the nondeterminism is not really used here.\n",
        "ntm = NTM(\n",
        "    states={'q0', 'q1', 'q2', 'q3', 'q4'},\n",
        "    input_symbols={'0', '1'},\n",
        "    tape_symbols={'0', '1', 'x', 'y', '.'},\n",
        "    transitions={\n",
        "        'q0': {\n",
        "            '0': {('q1', 'x', 'R')},\n",
        "            'y': {('q3', 'y', 'R')},\n",
        "        },\n",
        "        'q1': {\n",
        "            '0': {('q1', '0', 'R')},\n",
        "            '1': {('q2', 'y', 'L')},\n",
        "            'y': {('q1', 'y', 'R')},\n",
        "        },\n",
        "        'q2': {\n",
        "            '0': {('q2', '0', 'L')},\n",
        "            'x': {('q0', 'x', 'R')},\n",
        "            'y': {('q2', 'y', 'L')},\n",
        "        },\n",
        "        'q3': {\n",
        "            'y': {('q3', 'y', 'R')},\n",
        "            '.': {('q4', '.', 'R')},\n",
        "        }\n",
        "    },\n",
        "    initial_state='q0',\n",
        "    blank_symbol='.',\n",
        "    final_states={'q4'}\n",
        ")"
      ]
    },
    {
      "cell_type": "markdown",
      "metadata": {
        "id": "MEhcMLMWLHun"
      },
      "source": [
        "Using the method accepts_input we can evaluate if the Turing Machine halts in an accepting state or not for a specific input on the tape"
      ]
    },
    {
      "cell_type": "code",
      "execution_count": 5,
      "metadata": {
        "colab": {
          "base_uri": "https://localhost:8080/"
        },
        "id": "xz3ExVWfmpCk",
        "outputId": "e7f0739e-e81a-42bc-c6f9-4d8f32e0e35b"
      },
      "outputs": [
        {
          "name": "stdout",
          "output_type": "stream",
          "text": [
            "accepted\n"
          ]
        }
      ],
      "source": [
        "if ntm.accepts_input('00001111'):\n",
        "    print('accepted')\n",
        "else:\n",
        "    print('rejected')"
      ]
    },
    {
      "cell_type": "markdown",
      "metadata": {
        "id": "7c9bSs3wLTy6"
      },
      "source": [
        "Using the method read_input we can see the end result of the tape for a specific input on the tape"
      ]
    },
    {
      "cell_type": "code",
      "execution_count": 6,
      "metadata": {
        "colab": {
          "base_uri": "https://localhost:8080/"
        },
        "id": "iqg_1mPBm7fe",
        "outputId": "49192e8d-be4f-4c76-ab6a-80e2c6c91234"
      },
      "outputs": [
        {
          "name": "stdout",
          "output_type": "stream",
          "text": [
            "q4: xxxyyy..\n",
            "           ^\n"
          ]
        }
      ],
      "source": [
        "ntm.read_input('000111').pop().print()"
      ]
    },
    {
      "cell_type": "markdown",
      "metadata": {
        "id": "g3lnUDUCLiEY"
      },
      "source": [
        "(2) TODO Implement a TM that can evaluate Palindrom words, it needs to accept even and noon palindrom words with the symbols a and b. Check with few inputs if the TM works as expected."
      ]
    },
    {
      "cell_type": "code",
      "execution_count": 7,
      "metadata": {},
      "outputs": [],
      "source": [
        "pal = NTM(\n",
        "    states={'q0', 'q1', 'q2', 'q3', 'q4', 'q5', 'q6', 'q7', 'q8'},\n",
        "    input_symbols={'a', 'b'},\n",
        "    tape_symbols={'a', 'b', '.'},\n",
        "    transitions={\n",
        "        'q0': {\n",
        "            'a': {('q1', '.', 'R')},\n",
        "            'b': {('q2', '.', 'R')},\n",
        "            '.': {('q8', '.', 'R')}\n",
        "        },\n",
        "        'q1': {\n",
        "            'a': {('q3', 'a', 'R')},\n",
        "            'b': {('q3', 'b', 'R')},\n",
        "            '.': {('q8', '.', 'R')}\n",
        "        },\n",
        "        'q2': {\n",
        "            'a': {('q4', 'a', 'R')},\n",
        "            'b': {('q4', 'b', 'R')},\n",
        "            '.': {('q8', '.', 'R')}\n",
        "        },\n",
        "        'q3': {\n",
        "            'a': {('q3', 'a', 'R')},\n",
        "            'b': {('q3', 'b', 'R')},\n",
        "            '.': {('q5', '.', 'L')}\n",
        "        },\n",
        "        'q4': {\n",
        "            'a': {('q4', 'a', 'R')},\n",
        "            'b': {('q4', 'b', 'R')},\n",
        "            '.': {('q6', '.', 'L')}\n",
        "        },\n",
        "        'q5': {\n",
        "            'a': {('q7', '.', 'L')}\n",
        "        },\n",
        "        'q6': {\n",
        "            'b': {('q7', '.', 'L')}\n",
        "        },\n",
        "        'q7': {\n",
        "            'a': {('q7', 'a', 'L')},\n",
        "            'b': {('q7', 'b', 'L')},\n",
        "            '.': {('q0', '.', 'R')}\n",
        "        }\n",
        "    },\n",
        "    initial_state='q0',\n",
        "    blank_symbol='.',\n",
        "    final_states={'q8'}\n",
        ")"
      ]
    },
    {
      "cell_type": "code",
      "execution_count": 8,
      "metadata": {},
      "outputs": [
        {
          "name": "stdout",
          "output_type": "stream",
          "text": [
            "accepted\n"
          ]
        }
      ],
      "source": [
        "#Try any example\n",
        "if pal.accepts_input(input()):\n",
        "    print('accepted')\n",
        "else:\n",
        "    print('rejected')"
      ]
    },
    {
      "cell_type": "code",
      "execution_count": 9,
      "metadata": {},
      "outputs": [
        {
          "name": "stdout",
          "output_type": "stream",
          "text": [
            "{TMConfiguration('q0', TMTape('aabaa', '.', 0))}\n",
            "{TMConfiguration('q1', TMTape('.abaa', '.', 1))}\n",
            "{TMConfiguration('q3', TMTape('.abaa', '.', 2))}\n",
            "{TMConfiguration('q3', TMTape('.abaa', '.', 3))}\n",
            "{TMConfiguration('q3', TMTape('.abaa', '.', 4))}\n",
            "{TMConfiguration('q3', TMTape('.abaa.', '.', 5))}\n",
            "{TMConfiguration('q5', TMTape('.abaa.', '.', 4))}\n",
            "{TMConfiguration('q7', TMTape('.aba..', '.', 3))}\n",
            "{TMConfiguration('q7', TMTape('.aba..', '.', 2))}\n",
            "{TMConfiguration('q7', TMTape('.aba..', '.', 1))}\n",
            "{TMConfiguration('q7', TMTape('.aba..', '.', 0))}\n",
            "{TMConfiguration('q0', TMTape('.aba..', '.', 1))}\n",
            "{TMConfiguration('q1', TMTape('..ba..', '.', 2))}\n",
            "{TMConfiguration('q3', TMTape('..ba..', '.', 3))}\n",
            "{TMConfiguration('q3', TMTape('..ba..', '.', 4))}\n",
            "{TMConfiguration('q5', TMTape('..ba..', '.', 3))}\n",
            "{TMConfiguration('q7', TMTape('..b...', '.', 2))}\n",
            "{TMConfiguration('q7', TMTape('..b...', '.', 1))}\n",
            "{TMConfiguration('q0', TMTape('..b...', '.', 2))}\n",
            "{TMConfiguration('q2', TMTape('......', '.', 3))}\n",
            "{TMConfiguration('q8', TMTape('......', '.', 4))}\n"
          ]
        }
      ],
      "source": [
        "#See the process of any example\n",
        "g = pal.read_input_stepwise(input())\n",
        "for tape in g:\n",
        "    print(tape)"
      ]
    },
    {
      "cell_type": "code",
      "execution_count": 10,
      "metadata": {},
      "outputs": [
        {
          "name": "stdout",
          "output_type": "stream",
          "text": [
            "accepted\n"
          ]
        }
      ],
      "source": [
        "#Example 1\n",
        "if pal.accepts_input('aabaa'):\n",
        "    print('accepted')\n",
        "else:\n",
        "    print('rejected')"
      ]
    },
    {
      "cell_type": "code",
      "execution_count": 11,
      "metadata": {},
      "outputs": [
        {
          "name": "stdout",
          "output_type": "stream",
          "text": [
            "rejected\n"
          ]
        }
      ],
      "source": [
        "#Example 2\n",
        "if pal.accepts_input('babb'):\n",
        "    print('accepted')\n",
        "else:\n",
        "    print('rejected')"
      ]
    },
    {
      "cell_type": "code",
      "execution_count": 12,
      "metadata": {},
      "outputs": [
        {
          "name": "stdout",
          "output_type": "stream",
          "text": [
            "accepted\n"
          ]
        }
      ],
      "source": [
        "#Example 3\n",
        "if pal.accepts_input('bbbaabbb'):\n",
        "    print('accepted')\n",
        "else:\n",
        "    print('rejected')"
      ]
    },
    {
      "cell_type": "markdown",
      "metadata": {
        "id": "jeatrXdPPDyW"
      },
      "source": [
        "(3) TODO Implement a TM that can calculate an addition of two natural numbers codified in unary notation, e.g. 110111 needs to return 11111, 101 = 11, 11101 =1111, etc. Check with few inputs if the TM works as expected."
      ]
    },
    {
      "cell_type": "code",
      "execution_count": 13,
      "metadata": {},
      "outputs": [],
      "source": [
        "add = NTM(\n",
        "    states={'q0', 'q1', 'q2', 'q3', 'q4', 'q5'},\n",
        "    input_symbols={'0', '1'},\n",
        "    tape_symbols={'0', '1', 'x', '.'},\n",
        "    transitions={\n",
        "        'q0': {\n",
        "            '1': {('q1', 'x', 'R')},\n",
        "            '0': {('q5', '.', 'R')}\n",
        "        },\n",
        "        'q1': {\n",
        "            '1': {('q1', '1', 'R')},\n",
        "            '0': {('q2', '0', 'R')}\n",
        "        },\n",
        "        'q2': {\n",
        "            '1': {('q2', '1', 'R')},\n",
        "            '.': {('q3', '1', 'L')}\n",
        "        },\n",
        "        'q3': {\n",
        "            '1': {('q3', '1', 'L')},\n",
        "            '0': {('q4', '0', 'L')}\n",
        "        },\n",
        "        'q4': {\n",
        "            '1': {('q4', '1', 'L')},\n",
        "            'x': {('q0', '.', 'R')}\n",
        "        },\n",
        "    },\n",
        "    initial_state='q0',\n",
        "    blank_symbol='.',\n",
        "    final_states={'q5'}\n",
        ")"
      ]
    },
    {
      "cell_type": "code",
      "execution_count": 14,
      "metadata": {},
      "outputs": [
        {
          "name": "stdout",
          "output_type": "stream",
          "text": [
            "accepted\n"
          ]
        }
      ],
      "source": [
        "#Try any example\n",
        "if add.accepts_input(input()):\n",
        "    print('accepted')\n",
        "else:\n",
        "    print('rejected')"
      ]
    },
    {
      "cell_type": "code",
      "execution_count": 15,
      "metadata": {},
      "outputs": [
        {
          "name": "stdout",
          "output_type": "stream",
          "text": [
            "accepted\n",
            "\n",
            "The sum of 1110111 is:\n",
            "q5: ....1111111\n",
            "        ^\n"
          ]
        }
      ],
      "source": [
        "#Example 1\n",
        "if add.accepts_input('11101111'):\n",
        "    print('accepted\\n')\n",
        "else:\n",
        "    print('rejected\\n')\n",
        "\n",
        "print('The sum of 1110111 is:')\n",
        "add.read_input('11101111').pop().print()"
      ]
    },
    {
      "cell_type": "code",
      "execution_count": 16,
      "metadata": {},
      "outputs": [
        {
          "name": "stdout",
          "output_type": "stream",
          "text": [
            "rejected\n",
            "\n"
          ]
        }
      ],
      "source": [
        "#Example 2\n",
        "if add.accepts_input('11111'):\n",
        "    print('accepted\\n')\n",
        "else:\n",
        "    print('rejected\\n')"
      ]
    },
    {
      "cell_type": "code",
      "execution_count": 17,
      "metadata": {},
      "outputs": [
        {
          "name": "stdout",
          "output_type": "stream",
          "text": [
            "accepted\n",
            "\n",
            "The sum of 11111011 is:\n",
            "q5: ......1111111\n",
            "          ^\n"
          ]
        }
      ],
      "source": [
        "#Example 3\n",
        "if add.accepts_input('11111011'):\n",
        "    print('accepted\\n')\n",
        "else:\n",
        "    print('rejected\\n')\n",
        "\n",
        "print('The sum of 11111011 is:')\n",
        "add.read_input('11111011').pop().print()"
      ]
    },
    {
      "cell_type": "markdown",
      "metadata": {
        "id": "PlxKa6JUPq9S"
      },
      "source": [
        "(4) TODO Implement a TM that can calculate a multiplication of two natural numbers codified in unary notation, e.g. 110111 needs to return 11111, 101 = 11, 11101 =1111, etc. Check with few inputs if the TM works as expected."
      ]
    },
    {
      "cell_type": "code",
      "execution_count": 18,
      "metadata": {},
      "outputs": [],
      "source": [
        "mult = NTM(\n",
        "    states={'q0', 'q1', 'q2', 'q3', 'q4', 'q5', 'q6', 'q7', 'q8', 'q9'},\n",
        "    input_symbols={'0', '1'},\n",
        "    tape_symbols={'0', '1', 'x', 'y', '.', '='},\n",
        "    transitions={\n",
        "        'q0': {\n",
        "            '1': {('q1', 'x', 'R')},\n",
        "            '0': {('q9', '0', 'R')}\n",
        "        },\n",
        "        'q1': {\n",
        "            '1': {('q1', '1', 'R')},\n",
        "            '0': {('q2', '0', 'R')}\n",
        "        },\n",
        "        'q2': {\n",
        "            '1': {('q3', 'y', 'R')},\n",
        "        },\n",
        "        'q3': {\n",
        "            '1': {('q3', '1', 'R')},\n",
        "            '=': {('q4', '=', 'R')}\n",
        "        },\n",
        "        'q4': {\n",
        "            '1': {('q4', '1', 'R')},\n",
        "            '.': {('q5', '1', 'L')}\n",
        "        },\n",
        "        'q5': {\n",
        "            '1': {('q5', '1', 'L')},\n",
        "            '=': {('q5', '=', 'L')},\n",
        "            'y': {('q6', 'y', 'R')}\n",
        "        },\n",
        "        'q6': {\n",
        "            '1': {('q3', 'y', 'R')},\n",
        "            '=': {('q7', '=', 'L')}\n",
        "        },\n",
        "        'q7': {\n",
        "            'y': {('q7', '1', 'L')},\n",
        "            '0': {('q8', '0', 'L')}\n",
        "        },\n",
        "        'q8': {\n",
        "            '1': {('q8', '1', 'L')},\n",
        "            'x': {('q0', '1', 'R')}\n",
        "        },\n",
        "    },\n",
        "    initial_state='q0',\n",
        "    blank_symbol='.',\n",
        "    final_states={'q9'}\n",
        ")"
      ]
    },
    {
      "cell_type": "code",
      "execution_count": 19,
      "metadata": {},
      "outputs": [
        {
          "name": "stdout",
          "output_type": "stream",
          "text": [
            "accepted\n"
          ]
        }
      ],
      "source": [
        "#Try any example\n",
        "if mult.accepts_input(input()):\n",
        "    print('accepted')\n",
        "else:\n",
        "    print('rejected')"
      ]
    },
    {
      "cell_type": "code",
      "execution_count": 20,
      "metadata": {},
      "outputs": [
        {
          "name": "stdout",
          "output_type": "stream",
          "text": [
            "accepted\n",
            "\n",
            "The mult of 1110111 is:\n",
            "q9: 11101111=111111111111\n",
            "        ^\n"
          ]
        }
      ],
      "source": [
        "#Example 1\n",
        "if mult.accepts_input('11101111='):\n",
        "    print('accepted\\n')\n",
        "else:\n",
        "    print('rejected\\n')\n",
        "\n",
        "print('The mult of 1110111 is:')\n",
        "mult.read_input('11101111=').pop().print()"
      ]
    },
    {
      "cell_type": "code",
      "execution_count": 21,
      "metadata": {},
      "outputs": [
        {
          "name": "stdout",
          "output_type": "stream",
          "text": [
            "rejected\n",
            "\n"
          ]
        }
      ],
      "source": [
        "#Example 2\n",
        "if mult.accepts_input('1110111'):\n",
        "    print('accepted\\n')\n",
        "else:\n",
        "    print('rejected\\n')"
      ]
    },
    {
      "cell_type": "code",
      "execution_count": 22,
      "metadata": {},
      "outputs": [
        {
          "name": "stdout",
          "output_type": "stream",
          "text": [
            "accepted\n",
            "\n",
            "The mult of 11111011 is:\n",
            "q9: 11111011=1111111111\n",
            "          ^\n"
          ]
        }
      ],
      "source": [
        "#Example 3\n",
        "if mult.accepts_input('11111011='):\n",
        "    print('accepted\\n')\n",
        "else:\n",
        "    print('rejected\\n')\n",
        "\n",
        "print('The mult of 11111011 is:')\n",
        "mult.read_input('11111011=').pop().print()"
      ]
    }
  ],
  "metadata": {
    "colab": {
      "provenance": []
    },
    "kernelspec": {
      "display_name": "Python 3",
      "name": "python3"
    },
    "language_info": {
      "codemirror_mode": {
        "name": "ipython",
        "version": 3
      },
      "file_extension": ".py",
      "mimetype": "text/x-python",
      "name": "python",
      "nbconvert_exporter": "python",
      "pygments_lexer": "ipython3",
      "version": "3.11.6"
    }
  },
  "nbformat": 4,
  "nbformat_minor": 0
}
